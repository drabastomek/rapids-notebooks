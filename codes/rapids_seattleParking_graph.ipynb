{
 "cells": [
  {
   "cell_type": "code",
   "execution_count": 1,
   "metadata": {},
   "outputs": [],
   "source": [
    "import cudf\n",
    "import cuspatial\n",
    "import nvstrings\n",
    "from collections import OrderedDict\n",
    "import numpy as np\n",
    "import datetime as dt\n",
    "import cugraph\n",
    "\n",
    "%load_ext autotime"
   ]
  },
  {
   "cell_type": "code",
   "execution_count": 2,
   "metadata": {},
   "outputs": [
    {
     "name": "stdout",
     "output_type": "stream",
     "text": [
      "time: 6.59 s\n"
     ]
    }
   ],
   "source": [
    "dtypes = OrderedDict([\n",
    "    ('OccupancyDateTime', 'date'),\n",
    "    ('PaidOccupancy', 'int64'),\n",
    "    ('BlockfaceName', 'str'),\n",
    "    ('SideOfStreet', 'str'),\n",
    "    ('SourceElementKey', 'int64'),\n",
    "    ('ParkingTimeLimitCategory', 'int64'),\n",
    "    ('ParkingSpaceCount', 'int64'),\n",
    "    ('PaidParkingArea', 'str'),\n",
    "    ('PaidParkingSubArea', 'str'),\n",
    "    ('PaidParkingRate', 'int8'),\n",
    "    ('ParkingCategory', 'str'),\n",
    "    ('Location', 'str'),\n",
    "    ('dow', 'int8')\n",
    "])\n",
    "\n",
    "df = cudf.read_csv(\n",
    "    '../data/parking_MayJun2019.csv'\n",
    "    , skiprows=1\n",
    "    , dtype=list(dtypes.values())\n",
    "    , names=list(dtypes.keys())\n",
    ")\n",
    "\n",
    "df = df[['SourceElementKey', 'Location']]"
   ]
  },
  {
   "cell_type": "code",
   "execution_count": 3,
   "metadata": {},
   "outputs": [
    {
     "name": "stdout",
     "output_type": "stream",
     "text": [
      "time: 9.97 s\n"
     ]
    }
   ],
   "source": [
    "def extractLon(location):\n",
    "    lon = location.str.extract('([0-9\\.\\-]+) ([0-9\\.]+)')[0]\n",
    "    return lon.str.stod()\n",
    "\n",
    "def extractLat(location):\n",
    "    lon = location.str.extract('([0-9\\.\\-]+) ([0-9\\.]+)')[1]\n",
    "    return lon.str.stod()\n",
    "    \n",
    "df['longitude'] = extractLon(df['Location'])\n",
    "df['latitude'] = extractLat(df['Location'])\n",
    "\n",
    "# df[['Location', 'longitude', 'latitude']].head().to_pandas()"
   ]
  },
  {
   "cell_type": "code",
   "execution_count": 58,
   "metadata": {},
   "outputs": [
    {
     "name": "stdout",
     "output_type": "stream",
     "text": [
      "time: 841 ms\n"
     ]
    }
   ],
   "source": [
    "from geopy.geocoders import Nominatim\n",
    "\n",
    "geolocator = Nominatim(user_agent=\"todrabas_test\")\n",
    "location = geolocator.geocode(\"400 Broad St, Seattle, WA 98109\") # SPACE NEEDLE\n",
    "\n",
    "# df['LON_Ref'] = location.longitude\n",
    "# df['LAT_Ref'] = location.latitude"
   ]
  },
  {
   "cell_type": "markdown",
   "metadata": {},
   "source": [
    "## Comparing cuspatial with vanilla Python Haversine"
   ]
  },
  {
   "cell_type": "code",
   "execution_count": 52,
   "metadata": {},
   "outputs": [
    {
     "name": "stdout",
     "output_type": "stream",
     "text": [
      "time: 619 ms\n"
     ]
    }
   ],
   "source": [
    "from math import sin, cos, sqrt, atan2, pi\n",
    "\n",
    "def calculateDistance(latitude, longitude, LAT_Ref, LON_Ref, Distance_Python):\n",
    "    R = 3958.8 # Earth's radius in miles\n",
    "    \n",
    "    for i, (lt, ln, lt_r, ln_r) in enumerate(zip(latitude, longitude, LAT_Ref, LON_Ref)):\n",
    "        lt_rad = lt / 180.0 * pi\n",
    "        ln_rad = ln / 180.0 * pi\n",
    "        \n",
    "        dlon = (ln_r - ln) / 180.0 * pi\n",
    "        dlat = (lt_r - lt) / 180.0 * pi\n",
    "        a = (sin(dlat/2.0))**2 + cos(lt_rad) * cos(lt_rad) * (sin(dlon/2.0))**2\n",
    "        c = 2 * atan2(sqrt(a), sqrt(1-a))\n",
    "        distance = R * c\n",
    "        Distance_Python[i] = distance * 5280 # in feet\n",
    "        \n",
    "df = df.apply_rows(\n",
    "    calculateDistance\n",
    "    , incols=['latitude', 'longitude', 'LAT_Ref', 'LON_Ref']\n",
    "    , outcols={'Distance_Python':np.float64}\n",
    "    , kwargs={}\n",
    ")"
   ]
  },
  {
   "cell_type": "code",
   "execution_count": 13,
   "metadata": {},
   "outputs": [
    {
     "name": "stdout",
     "output_type": "stream",
     "text": [
      "time: 45.2 ms\n"
     ]
    }
   ],
   "source": [
    "distances = cuspatial.haversine_distance(df['longitude'], df['latitude'], df['LAT_Ref'], df['LON_Ref'])"
   ]
  },
  {
   "cell_type": "markdown",
   "metadata": {},
   "source": [
    "## As crow flies vs as people walk"
   ]
  },
  {
   "cell_type": "code",
   "execution_count": 5,
   "metadata": {},
   "outputs": [
    {
     "data": {
      "text/html": [
       "<div>\n",
       "<style scoped>\n",
       "    .dataframe tbody tr th:only-of-type {\n",
       "        vertical-align: middle;\n",
       "    }\n",
       "\n",
       "    .dataframe tbody tr th {\n",
       "        vertical-align: top;\n",
       "    }\n",
       "\n",
       "    .dataframe thead th {\n",
       "        text-align: right;\n",
       "    }\n",
       "</style>\n",
       "<table border=\"1\" class=\"dataframe\">\n",
       "  <thead>\n",
       "    <tr style=\"text-align: right;\">\n",
       "      <th></th>\n",
       "      <th>SourceElementKey</th>\n",
       "      <th>longitude</th>\n",
       "      <th>latitude</th>\n",
       "    </tr>\n",
       "  </thead>\n",
       "  <tbody>\n",
       "    <tr>\n",
       "      <th>4080</th>\n",
       "      <td>1001</td>\n",
       "      <td>-122.334694</td>\n",
       "      <td>47.602873</td>\n",
       "    </tr>\n",
       "    <tr>\n",
       "      <th>1336</th>\n",
       "      <td>1002</td>\n",
       "      <td>-122.334513</td>\n",
       "      <td>47.602949</td>\n",
       "    </tr>\n",
       "    <tr>\n",
       "      <th>4455</th>\n",
       "      <td>1006</td>\n",
       "      <td>-122.335143</td>\n",
       "      <td>47.603674</td>\n",
       "    </tr>\n",
       "    <tr>\n",
       "      <th>1026</th>\n",
       "      <td>1009</td>\n",
       "      <td>-122.336658</td>\n",
       "      <td>47.605018</td>\n",
       "    </tr>\n",
       "    <tr>\n",
       "      <th>3208</th>\n",
       "      <td>1010</td>\n",
       "      <td>-122.336447</td>\n",
       "      <td>47.605101</td>\n",
       "    </tr>\n",
       "  </tbody>\n",
       "</table>\n",
       "</div>"
      ],
      "text/plain": [
       "      SourceElementKey   longitude   latitude\n",
       "4080              1001 -122.334694  47.602873\n",
       "1336              1002 -122.334513  47.602949\n",
       "4455              1006 -122.335143  47.603674\n",
       "1026              1009 -122.336658  47.605018\n",
       "3208              1010 -122.336447  47.605101"
      ]
     },
     "execution_count": 5,
     "metadata": {},
     "output_type": "execute_result"
    },
    {
     "name": "stdout",
     "output_type": "stream",
     "text": [
      "time: 735 ms\n"
     ]
    }
   ],
   "source": [
    "locations = df[['SourceElementKey', 'longitude', 'latitude']].drop_duplicates()\n",
    "locations.head()"
   ]
  },
  {
   "cell_type": "code",
   "execution_count": 6,
   "metadata": {},
   "outputs": [
    {
     "name": "stdout",
     "output_type": "stream",
     "text": [
      "time: 19.7 ms\n"
     ]
    }
   ],
   "source": [
    "del df"
   ]
  },
  {
   "cell_type": "code",
   "execution_count": 7,
   "metadata": {},
   "outputs": [
    {
     "name": "stdout",
     "output_type": "stream",
     "text": [
      "node1,node2,LENGTH\n",
      "89108,27652,5.02825\n",
      "27652,89108,5.02825\n",
      "27652,122930,112.417\n",
      "122930,27652,112.417\n",
      "36778,36779,48.2475\n",
      "36779,36778,48.2475\n",
      "26559,26559,48.3425\n",
      "26559,26559,48.3425\n",
      "2634,78382,372.325\n",
      "time: 523 ms\n"
     ]
    }
   ],
   "source": [
    "!head ../data/king_county_road_graph_20190909.csv"
   ]
  },
  {
   "cell_type": "code",
   "execution_count": 8,
   "metadata": {},
   "outputs": [
    {
     "name": "stdout",
     "output_type": "stream",
     "text": [
      "NodeID,Lon,Lat\n",
      "1,-121.431505,47.331052\n",
      "2,-121.430642,47.334726\n",
      "3,-121.404812,47.288757\n",
      "4,-121.408953,47.289157\n",
      "5,-121.432249,47.292963\n",
      "6,-121.432702,47.294297\n",
      "7,-121.432724,47.329542\n",
      "8,-121.367462,47.290593\n",
      "9,-121.360285,47.29045\n",
      "time: 515 ms\n"
     ]
    }
   ],
   "source": [
    "!head ../data/king_county_road_nodes_20190909.csv"
   ]
  },
  {
   "cell_type": "code",
   "execution_count": 45,
   "metadata": {},
   "outputs": [
    {
     "name": "stdout",
     "output_type": "stream",
     "text": [
      "time: 29.2 ms\n"
     ]
    }
   ],
   "source": [
    "road_graph_data = cudf.read_csv('../data/king_county_road_graph_20190909.csv')\n",
    "road_graph_data['node1'] = road_graph_data['node1'].astype('int32')\n",
    "road_graph_data['node2'] = road_graph_data['node2'].astype('int32')"
   ]
  },
  {
   "cell_type": "code",
   "execution_count": 46,
   "metadata": {},
   "outputs": [
    {
     "name": "stdout",
     "output_type": "stream",
     "text": [
      "time: 27.6 ms\n"
     ]
    }
   ],
   "source": [
    "road_nodes = cudf.read_csv('../data/king_county_road_nodes_20190909.csv')\n",
    "road_nodes['NodeID'] = road_nodes['NodeID'].astype('int32')"
   ]
  },
  {
   "cell_type": "code",
   "execution_count": 47,
   "metadata": {},
   "outputs": [
    {
     "data": {
      "text/plain": [
       "127380"
      ]
     },
     "execution_count": 47,
     "metadata": {},
     "output_type": "execute_result"
    },
    {
     "name": "stdout",
     "output_type": "stream",
     "text": [
      "time: 2.68 ms\n"
     ]
    }
   ],
   "source": [
    "nodeId = road_nodes['NodeID'].max()\n",
    "nodeId"
   ]
  },
  {
   "cell_type": "code",
   "execution_count": 48,
   "metadata": {},
   "outputs": [
    {
     "data": {
      "text/plain": [
       "Index(['NodeID', 'Lon', 'Lat'], dtype='object')"
      ]
     },
     "execution_count": 48,
     "metadata": {},
     "output_type": "execute_result"
    },
    {
     "name": "stdout",
     "output_type": "stream",
     "text": [
      "time: 15.1 ms\n"
     ]
    }
   ],
   "source": [
    "parking_locations = locations.to_pandas().to_dict('records')\n",
    "parking_locations_nodes = cudf.DataFrame(columns=road_nodes.columns)\n",
    "\n",
    "parking_locations_nodes.columns"
   ]
  },
  {
   "cell_type": "code",
   "execution_count": 51,
   "metadata": {},
   "outputs": [
    {
     "name": "stdout",
     "output_type": "stream",
     "text": [
      "time: 1min 1s\n"
     ]
    }
   ],
   "source": [
    "# loc = parking_locations[0]\n",
    "\n",
    "for loc in parking_locations:\n",
    "    nodeId = nodeId + 1\n",
    "\n",
    "    road_nodes['Lon_REF'] = loc['longitude']\n",
    "    road_nodes['Lat_REF'] = loc['latitude']\n",
    "    road_nodes['Distance'] = cuspatial.haversine_distance(\n",
    "          road_nodes['Lon']\n",
    "        , road_nodes['Lat']\n",
    "        , road_nodes['Lon_REF']\n",
    "        , road_nodes['Lat_REF']) * 0.621371 * 5280 # distance in feet as cuspatial returns miles\n",
    "\n",
    "    nearest = road_nodes.nsmallest(1, 'Distance')\n",
    "    nearest['node1'] = nodeId\n",
    "\n",
    "    nearest = nearest[['NodeID', 'node1', 'Distance']].rename({'NodeID': 'node2', 'Distance': 'LENGTH'}) # get nearest road intersection\n",
    "    road_graph_data = cudf.concat([road_graph_data, nearest])\n",
    "    # nearest\n",
    "\n",
    "    rec = {'NodeID': nodeId, 'Lon': loc['longitude'], 'Lat': loc['latitude']}\n",
    "    parking_locations_tmp = cudf.DataFrame(rec)\n",
    "    parking_locations_nodes = cudf.concat([parking_locations_nodes, parking_locations_tmp])"
   ]
  },
  {
   "cell_type": "code",
   "execution_count": 52,
   "metadata": {},
   "outputs": [
    {
     "name": "stdout",
     "output_type": "stream",
     "text": [
      "time: 3.18 ms\n"
     ]
    }
   ],
   "source": [
    "road_graph_data = road_graph_data.reset_index(drop=True)\n",
    "road_graph_data['node1'] = road_graph_data['node1'].astype('int32')\n",
    "road_graph_data['node2'] = road_graph_data['node2'].astype('int32')\n",
    "\n",
    "road_graph_data\n",
    "\n",
    "sources = cudf.Series(road_graph_data['node1'])\n",
    "destinations = cudf.Series(road_graph_data['node2'])\n",
    "distances = cudf.Series(road_graph_data['LENGTH'])\n",
    "\n",
    "g = cugraph.Graph()\n",
    "g.add_edge_list(sources, destinations, distances)"
   ]
  },
  {
   "cell_type": "code",
   "execution_count": 57,
   "metadata": {},
   "outputs": [
    {
     "data": {
      "text/html": [
       "<div>\n",
       "<style scoped>\n",
       "    .dataframe tbody tr th:only-of-type {\n",
       "        vertical-align: middle;\n",
       "    }\n",
       "\n",
       "    .dataframe tbody tr th {\n",
       "        vertical-align: top;\n",
       "    }\n",
       "\n",
       "    .dataframe thead th {\n",
       "        text-align: right;\n",
       "    }\n",
       "</style>\n",
       "<table border=\"1\" class=\"dataframe\">\n",
       "  <thead>\n",
       "    <tr style=\"text-align: right;\">\n",
       "      <th></th>\n",
       "      <th>vertex</th>\n",
       "      <th>distance</th>\n",
       "      <th>predecessor</th>\n",
       "    </tr>\n",
       "  </thead>\n",
       "  <tbody>\n",
       "    <tr>\n",
       "      <th>128833</th>\n",
       "      <td>128833</td>\n",
       "      <td>0.000000</td>\n",
       "      <td>-1</td>\n",
       "    </tr>\n",
       "    <tr>\n",
       "      <th>47611</th>\n",
       "      <td>47611</td>\n",
       "      <td>328.661119</td>\n",
       "      <td>128833</td>\n",
       "    </tr>\n",
       "    <tr>\n",
       "      <th>47510</th>\n",
       "      <td>47510</td>\n",
       "      <td>416.219319</td>\n",
       "      <td>47611</td>\n",
       "    </tr>\n",
       "    <tr>\n",
       "      <th>47512</th>\n",
       "      <td>47512</td>\n",
       "      <td>451.571219</td>\n",
       "      <td>47510</td>\n",
       "    </tr>\n",
       "    <tr>\n",
       "      <th>47509</th>\n",
       "      <td>47509</td>\n",
       "      <td>459.074919</td>\n",
       "      <td>47510</td>\n",
       "    </tr>\n",
       "    <tr>\n",
       "      <th>47508</th>\n",
       "      <td>47508</td>\n",
       "      <td>526.358019</td>\n",
       "      <td>47509</td>\n",
       "    </tr>\n",
       "    <tr>\n",
       "      <th>47507</th>\n",
       "      <td>47507</td>\n",
       "      <td>587.577319</td>\n",
       "      <td>47510</td>\n",
       "    </tr>\n",
       "    <tr>\n",
       "      <th>47506</th>\n",
       "      <td>47506</td>\n",
       "      <td>612.799919</td>\n",
       "      <td>47509</td>\n",
       "    </tr>\n",
       "    <tr>\n",
       "      <th>80499</th>\n",
       "      <td>80499</td>\n",
       "      <td>612.880719</td>\n",
       "      <td>47508</td>\n",
       "    </tr>\n",
       "    <tr>\n",
       "      <th>47505</th>\n",
       "      <td>47505</td>\n",
       "      <td>652.109019</td>\n",
       "      <td>47508</td>\n",
       "    </tr>\n",
       "  </tbody>\n",
       "</table>\n",
       "</div>"
      ],
      "text/plain": [
       "        vertex    distance  predecessor\n",
       "128833  128833    0.000000           -1\n",
       "47611    47611  328.661119       128833\n",
       "47510    47510  416.219319        47611\n",
       "47512    47512  451.571219        47510\n",
       "47509    47509  459.074919        47510\n",
       "47508    47508  526.358019        47509\n",
       "47507    47507  587.577319        47510\n",
       "47506    47506  612.799919        47509\n",
       "80499    80499  612.880719        47508\n",
       "47505    47505  652.109019        47508"
      ]
     },
     "execution_count": 57,
     "metadata": {},
     "output_type": "execute_result"
    },
    {
     "name": "stdout",
     "output_type": "stream",
     "text": [
      "time: 90.5 ms\n"
     ]
    }
   ],
   "source": [
    "cugraph.sssp(g, 128833).nsmallest(10, \"distance\")"
   ]
  },
  {
   "cell_type": "code",
   "execution_count": 60,
   "metadata": {},
   "outputs": [
    {
     "data": {
      "text/plain": [
       "Location(Space Needle, 400, Broad Street, South Lake Union, Belltown, Seattle, King County, Washington, 98109, USA, (47.6205131, -122.349303598832, 0.0))"
      ]
     },
     "execution_count": 60,
     "metadata": {},
     "output_type": "execute_result"
    },
    {
     "name": "stdout",
     "output_type": "stream",
     "text": [
      "time: 3.01 ms\n"
     ]
    }
   ],
   "source": [
    "location"
   ]
  },
  {
   "cell_type": "code",
   "execution_count": 36,
   "metadata": {},
   "outputs": [
    {
     "data": {
      "text/plain": [
       "(0       0\n",
       " 1       0\n",
       " 2      16\n",
       " 3      25\n",
       " 4      35\n",
       " 5      41\n",
       " 6      44\n",
       " 7      48\n",
       " 8      52\n",
       " 9      56\n",
       " 10     61\n",
       " 11     63\n",
       " 12     66\n",
       " 13     67\n",
       " 14     69\n",
       " 15     74\n",
       " 16     76\n",
       " 17     78\n",
       " 18     80\n",
       " 19     82\n",
       " 20     84\n",
       " 21     87\n",
       " 22     89\n",
       " 23     91\n",
       " 24     93\n",
       " 25     98\n",
       " 26    101\n",
       " 27    104\n",
       " 28    106\n",
       " 29    110\n",
       " 30    113\n",
       " 31    117\n",
       " 32    121\n",
       " 33    127\n",
       " 34    139\n",
       " 35    156\n",
       " dtype: int32, 0       2\n",
       " 1       3\n",
       " 2       4\n",
       " 3       5\n",
       " 4       6\n",
       " 5       7\n",
       " 6       8\n",
       " 7       9\n",
       " 8      11\n",
       " 9      12\n",
       " 10     13\n",
       " 11     14\n",
       " 12     18\n",
       " 13     20\n",
       " 14     22\n",
       " 15     32\n",
       " 16      1\n",
       " 17      3\n",
       " 18      4\n",
       " 19      8\n",
       " 20     14\n",
       " 21     18\n",
       " 22     20\n",
       " 23     22\n",
       " 24     31\n",
       " 25      1\n",
       " 26      2\n",
       " 27      4\n",
       " 28      8\n",
       " 29      9\n",
       "        ..\n",
       " 126    34\n",
       " 127     3\n",
       " 128     9\n",
       " 129    15\n",
       " 130    16\n",
       " 131    19\n",
       " 132    21\n",
       " 133    23\n",
       " 134    24\n",
       " 135    30\n",
       " 136    31\n",
       " 137    32\n",
       " 138    34\n",
       " 139     9\n",
       " 140    10\n",
       " 141    14\n",
       " 142    15\n",
       " 143    16\n",
       " 144    19\n",
       " 145    20\n",
       " 146    21\n",
       " 147    23\n",
       " 148    24\n",
       " 149    27\n",
       " 150    28\n",
       " 151    29\n",
       " 152    30\n",
       " 153    31\n",
       " 154    32\n",
       " 155    33\n",
       " Length: 156, dtype: int32, None)"
      ]
     },
     "execution_count": 36,
     "metadata": {},
     "output_type": "execute_result"
    },
    {
     "name": "stdout",
     "output_type": "stream",
     "text": [
      "time: 25.2 ms\n"
     ]
    }
   ],
   "source": []
  }
 ],
 "metadata": {
  "kernelspec": {
   "display_name": "Python 3",
   "language": "python",
   "name": "python3"
  },
  "language_info": {
   "codemirror_mode": {
    "name": "ipython",
    "version": 3
   },
   "file_extension": ".py",
   "mimetype": "text/x-python",
   "name": "python",
   "nbconvert_exporter": "python",
   "pygments_lexer": "ipython3",
   "version": "3.6.7"
  }
 },
 "nbformat": 4,
 "nbformat_minor": 4
}
