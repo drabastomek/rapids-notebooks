{
 "cells": [
  {
   "cell_type": "markdown",
   "metadata": {},
   "source": [
    "# Load the modules"
   ]
  },
  {
   "cell_type": "code",
   "execution_count": 27,
   "metadata": {},
   "outputs": [],
   "source": [
    "import cudf\n",
    "from collections import OrderedDict\n",
    "import numpy as np\n",
    "import datetime as dt\n",
    "\n",
    "from dask_cuda import LocalCUDACluster\n",
    "from dask.distributed import Client\n",
    "\n",
    "from blazingsql import BlazingContext\n",
    "\n",
    "import dask_cudf"
   ]
  },
  {
   "cell_type": "code",
   "execution_count": 2,
   "metadata": {},
   "outputs": [
    {
     "name": "stdout",
     "output_type": "stream",
     "text": [
      "0.16.0\n"
     ]
    }
   ],
   "source": [
    "print(cudf.__version__)"
   ]
  },
  {
   "cell_type": "code",
   "execution_count": 3,
   "metadata": {},
   "outputs": [
    {
     "data": {
      "text/html": [
       "<table style=\"border: 2px solid white;\">\n",
       "<tr>\n",
       "<td style=\"vertical-align: top; border: 0px solid white\">\n",
       "<h3 style=\"text-align: left;\">Client</h3>\n",
       "<ul style=\"text-align: left; list-style: none; margin: 0; padding: 0;\">\n",
       "  <li><b>Scheduler: </b>tcp://127.0.0.1:36357</li>\n",
       "  <li><b>Dashboard: </b><a href='http://127.0.0.1:8787/status' target='_blank'>http://127.0.0.1:8787/status</a></li>\n",
       "</ul>\n",
       "</td>\n",
       "<td style=\"vertical-align: top; border: 0px solid white\">\n",
       "<h3 style=\"text-align: left;\">Cluster</h3>\n",
       "<ul style=\"text-align: left; list-style:none; margin: 0; padding: 0;\">\n",
       "  <li><b>Workers: </b>1</li>\n",
       "  <li><b>Cores: </b>1</li>\n",
       "  <li><b>Memory: </b>67.48 GB</li>\n",
       "</ul>\n",
       "</td>\n",
       "</tr>\n",
       "</table>"
      ],
      "text/plain": [
       "<Client: 'tcp://127.0.0.1:36357' processes=1 threads=1, memory=67.48 GB>"
      ]
     },
     "execution_count": 3,
     "metadata": {},
     "output_type": "execute_result"
    }
   ],
   "source": [
    "cluster = LocalCUDACluster()\n",
    "client = Client(cluster)\n",
    "client.restart()"
   ]
  },
  {
   "cell_type": "markdown",
   "metadata": {},
   "source": [
    "# Read the data"
   ]
  },
  {
   "cell_type": "code",
   "execution_count": 3,
   "metadata": {},
   "outputs": [
    {
     "name": "stdout",
     "output_type": "stream",
     "text": [
      "head: cannot open '../../data/parking_MayJun2019.csv' for reading: No such file or directory\n"
     ]
    }
   ],
   "source": [
    "!head -n 10 ../../data/parking_MayJun2019.csv"
   ]
  },
  {
   "cell_type": "code",
   "execution_count": 31,
   "metadata": {},
   "outputs": [],
   "source": [
    "transactions_path = '../../data/seattle_parking/parking_MayJun2019.parquet/partition_idx={partition}/*'\n",
    "transactions_parq = [transactions_path.format(partition=p) for p in range(transactions_partitions_cnt)]"
   ]
  },
  {
   "cell_type": "code",
   "execution_count": 31,
   "metadata": {},
   "outputs": [],
   "source": [
    "parking_transactions = dask_cudf.read_parquet(\n",
    "    transactions_parq\n",
    ")\n",
    "\n",
    "parking_locations = dask_cudf.read_parquet('../../data/seattle_parking/parking_locations.parquet/')"
   ]
  },
  {
   "cell_type": "code",
   "execution_count": null,
   "metadata": {},
   "outputs": [],
   "source": []
  },
  {
   "cell_type": "markdown",
   "metadata": {},
   "source": [
    "Features\n",
    "\n",
    "1. Occupancy at T minus 15mins, 1h, 3h, 1d, 2d, 3d, 7d, 14d\n",
    "2. PaidParkingArea & SubArea"
   ]
  },
  {
   "cell_type": "code",
   "execution_count": 28,
   "metadata": {},
   "outputs": [
    {
     "name": "stdout",
     "output_type": "stream",
     "text": [
      "BlazingContext ready\n"
     ]
    }
   ],
   "source": [
    "bc = BlazingContext(dask_client=client)"
   ]
  },
  {
   "cell_type": "code",
   "execution_count": 32,
   "metadata": {},
   "outputs": [],
   "source": [
    "bc.create_table('parking_transactions', parking_transactions)"
   ]
  },
  {
   "cell_type": "code",
   "execution_count": null,
   "metadata": {},
   "outputs": [],
   "source": []
  },
  {
   "cell_type": "code",
   "execution_count": null,
   "metadata": {},
   "outputs": [],
   "source": []
  },
  {
   "cell_type": "code",
   "execution_count": null,
   "metadata": {},
   "outputs": [],
   "source": []
  },
  {
   "cell_type": "code",
   "execution_count": 51,
   "metadata": {},
   "outputs": [
    {
     "data": {
      "text/html": [
       "<div>\n",
       "<style scoped>\n",
       "    .dataframe tbody tr th:only-of-type {\n",
       "        vertical-align: middle;\n",
       "    }\n",
       "\n",
       "    .dataframe tbody tr th {\n",
       "        vertical-align: top;\n",
       "    }\n",
       "\n",
       "    .dataframe thead th {\n",
       "        text-align: right;\n",
       "    }\n",
       "</style>\n",
       "<table border=\"1\" class=\"dataframe\">\n",
       "  <thead>\n",
       "    <tr style=\"text-align: right;\">\n",
       "      <th></th>\n",
       "      <th>OccupancyDateTime</th>\n",
       "      <th>PaidOccupancy</th>\n",
       "      <th>SourceElementKey</th>\n",
       "      <th>dow</th>\n",
       "    </tr>\n",
       "  </thead>\n",
       "  <tbody>\n",
       "    <tr>\n",
       "      <th>0</th>\n",
       "      <td>2019-05-24 08:30:00</td>\n",
       "      <td>1</td>\n",
       "      <td>31493</td>\n",
       "      <td>4</td>\n",
       "    </tr>\n",
       "    <tr>\n",
       "      <th>1</th>\n",
       "      <td>2019-05-24 13:41:00</td>\n",
       "      <td>8</td>\n",
       "      <td>76198</td>\n",
       "      <td>4</td>\n",
       "    </tr>\n",
       "    <tr>\n",
       "      <th>2</th>\n",
       "      <td>2019-05-24 08:33:00</td>\n",
       "      <td>3</td>\n",
       "      <td>34505</td>\n",
       "      <td>4</td>\n",
       "    </tr>\n",
       "    <tr>\n",
       "      <th>3</th>\n",
       "      <td>2019-05-24 10:19:00</td>\n",
       "      <td>4</td>\n",
       "      <td>13101</td>\n",
       "      <td>4</td>\n",
       "    </tr>\n",
       "    <tr>\n",
       "      <th>4</th>\n",
       "      <td>2019-05-24 15:05:00</td>\n",
       "      <td>1</td>\n",
       "      <td>37189</td>\n",
       "      <td>4</td>\n",
       "    </tr>\n",
       "    <tr>\n",
       "      <th>5</th>\n",
       "      <td>2019-05-24 14:11:00</td>\n",
       "      <td>3</td>\n",
       "      <td>9721</td>\n",
       "      <td>4</td>\n",
       "    </tr>\n",
       "    <tr>\n",
       "      <th>6</th>\n",
       "      <td>2019-06-10 17:16:00</td>\n",
       "      <td>4</td>\n",
       "      <td>52530</td>\n",
       "      <td>0</td>\n",
       "    </tr>\n",
       "    <tr>\n",
       "      <th>7</th>\n",
       "      <td>2019-06-10 19:12:00</td>\n",
       "      <td>9</td>\n",
       "      <td>60005</td>\n",
       "      <td>0</td>\n",
       "    </tr>\n",
       "    <tr>\n",
       "      <th>8</th>\n",
       "      <td>2019-06-10 08:46:00</td>\n",
       "      <td>4</td>\n",
       "      <td>60234</td>\n",
       "      <td>0</td>\n",
       "    </tr>\n",
       "    <tr>\n",
       "      <th>9</th>\n",
       "      <td>2019-06-10 17:53:00</td>\n",
       "      <td>3</td>\n",
       "      <td>10213</td>\n",
       "      <td>0</td>\n",
       "    </tr>\n",
       "  </tbody>\n",
       "</table>\n",
       "</div>"
      ],
      "text/plain": [
       "    OccupancyDateTime  PaidOccupancy  SourceElementKey  dow\n",
       "0 2019-05-24 08:30:00              1             31493    4\n",
       "1 2019-05-24 13:41:00              8             76198    4\n",
       "2 2019-05-24 08:33:00              3             34505    4\n",
       "3 2019-05-24 10:19:00              4             13101    4\n",
       "4 2019-05-24 15:05:00              1             37189    4\n",
       "5 2019-05-24 14:11:00              3              9721    4\n",
       "6 2019-06-10 17:16:00              4             52530    0\n",
       "7 2019-06-10 19:12:00              9             60005    0\n",
       "8 2019-06-10 08:46:00              4             60234    0\n",
       "9 2019-06-10 17:53:00              3             10213    0"
      ]
     },
     "execution_count": 51,
     "metadata": {},
     "output_type": "execute_result"
    }
   ],
   "source": [
    "bc.sql('SELECT * FROM parking_transactions LIMIT 10').compute()"
   ]
  },
  {
   "cell_type": "code",
   "execution_count": 54,
   "metadata": {},
   "outputs": [
    {
     "data": {
      "text/html": [
       "<div>\n",
       "<style scoped>\n",
       "    .dataframe tbody tr th:only-of-type {\n",
       "        vertical-align: middle;\n",
       "    }\n",
       "\n",
       "    .dataframe tbody tr th {\n",
       "        vertical-align: top;\n",
       "    }\n",
       "\n",
       "    .dataframe thead th {\n",
       "        text-align: right;\n",
       "    }\n",
       "</style>\n",
       "<table border=\"1\" class=\"dataframe\">\n",
       "  <thead>\n",
       "    <tr style=\"text-align: right;\">\n",
       "      <th></th>\n",
       "      <th>SourceElementKey</th>\n",
       "      <th>OccupancyDateTime</th>\n",
       "      <th>DOW</th>\n",
       "      <th>hr_minus_1</th>\n",
       "      <th>hr_minus_3</th>\n",
       "      <th>day_minus_1</th>\n",
       "    </tr>\n",
       "  </thead>\n",
       "  <tbody>\n",
       "    <tr>\n",
       "      <th>0</th>\n",
       "      <td>1001</td>\n",
       "      <td>2019-05-01 09:00:00</td>\n",
       "      <td>2</td>\n",
       "      <td>8</td>\n",
       "      <td>6</td>\n",
       "      <td>0</td>\n",
       "    </tr>\n",
       "    <tr>\n",
       "      <th>1</th>\n",
       "      <td>1001</td>\n",
       "      <td>2019-05-01 09:01:00</td>\n",
       "      <td>2</td>\n",
       "      <td>8</td>\n",
       "      <td>6</td>\n",
       "      <td>0</td>\n",
       "    </tr>\n",
       "    <tr>\n",
       "      <th>2</th>\n",
       "      <td>1001</td>\n",
       "      <td>2019-05-01 09:02:00</td>\n",
       "      <td>2</td>\n",
       "      <td>8</td>\n",
       "      <td>6</td>\n",
       "      <td>0</td>\n",
       "    </tr>\n",
       "    <tr>\n",
       "      <th>3</th>\n",
       "      <td>1001</td>\n",
       "      <td>2019-05-01 09:03:00</td>\n",
       "      <td>2</td>\n",
       "      <td>8</td>\n",
       "      <td>6</td>\n",
       "      <td>0</td>\n",
       "    </tr>\n",
       "    <tr>\n",
       "      <th>4</th>\n",
       "      <td>1001</td>\n",
       "      <td>2019-05-01 09:04:00</td>\n",
       "      <td>2</td>\n",
       "      <td>8</td>\n",
       "      <td>6</td>\n",
       "      <td>0</td>\n",
       "    </tr>\n",
       "    <tr>\n",
       "      <th>5</th>\n",
       "      <td>1001</td>\n",
       "      <td>2019-05-01 09:05:00</td>\n",
       "      <td>2</td>\n",
       "      <td>8</td>\n",
       "      <td>6</td>\n",
       "      <td>0</td>\n",
       "    </tr>\n",
       "    <tr>\n",
       "      <th>6</th>\n",
       "      <td>1001</td>\n",
       "      <td>2019-05-01 09:06:00</td>\n",
       "      <td>2</td>\n",
       "      <td>8</td>\n",
       "      <td>6</td>\n",
       "      <td>0</td>\n",
       "    </tr>\n",
       "    <tr>\n",
       "      <th>7</th>\n",
       "      <td>1001</td>\n",
       "      <td>2019-05-01 09:07:00</td>\n",
       "      <td>2</td>\n",
       "      <td>8</td>\n",
       "      <td>6</td>\n",
       "      <td>0</td>\n",
       "    </tr>\n",
       "    <tr>\n",
       "      <th>8</th>\n",
       "      <td>1001</td>\n",
       "      <td>2019-05-01 09:08:00</td>\n",
       "      <td>2</td>\n",
       "      <td>8</td>\n",
       "      <td>6</td>\n",
       "      <td>0</td>\n",
       "    </tr>\n",
       "    <tr>\n",
       "      <th>9</th>\n",
       "      <td>1001</td>\n",
       "      <td>2019-05-01 09:09:00</td>\n",
       "      <td>2</td>\n",
       "      <td>8</td>\n",
       "      <td>6</td>\n",
       "      <td>0</td>\n",
       "    </tr>\n",
       "  </tbody>\n",
       "</table>\n",
       "</div>"
      ],
      "text/plain": [
       "   SourceElementKey   OccupancyDateTime  DOW  hr_minus_1  hr_minus_3  \\\n",
       "0              1001 2019-05-01 09:00:00    2           8           6   \n",
       "1              1001 2019-05-01 09:01:00    2           8           6   \n",
       "2              1001 2019-05-01 09:02:00    2           8           6   \n",
       "3              1001 2019-05-01 09:03:00    2           8           6   \n",
       "4              1001 2019-05-01 09:04:00    2           8           6   \n",
       "5              1001 2019-05-01 09:05:00    2           8           6   \n",
       "6              1001 2019-05-01 09:06:00    2           8           6   \n",
       "7              1001 2019-05-01 09:07:00    2           8           6   \n",
       "8              1001 2019-05-01 09:08:00    2           8           6   \n",
       "9              1001 2019-05-01 09:09:00    2           8           6   \n",
       "\n",
       "   day_minus_1  \n",
       "0            0  \n",
       "1            0  \n",
       "2            0  \n",
       "3            0  \n",
       "4            0  \n",
       "5            0  \n",
       "6            0  \n",
       "7            0  \n",
       "8            0  \n",
       "9            0  "
      ]
     },
     "execution_count": 54,
     "metadata": {},
     "output_type": "execute_result"
    }
   ],
   "source": [
    "bc.sql('''\n",
    "    SELECT SourceElementKey \n",
    "        , OccupancyDateTime \n",
    "        , dow AS DOW\n",
    "        , HOUR(OccupancyDateTime) - 1 AS hr_minus_1\n",
    "        , HOUR(OccupancyDateTime) - 3 AS hr_minus_3\n",
    "        , DAYOFMONTH(OccupancyDateTime) - 1 AS day_minus_1\n",
    "    FROM parking_transactions \n",
    "    ORDER BY SourceElementKey\n",
    "        , OccupancyDateTime\n",
    "    LIMIT 10\n",
    "''').compute()"
   ]
  },
  {
   "cell_type": "code",
   "execution_count": 25,
   "metadata": {},
   "outputs": [
    {
     "data": {
      "text/html": [
       "<div>\n",
       "<style scoped>\n",
       "    .dataframe tbody tr th:only-of-type {\n",
       "        vertical-align: middle;\n",
       "    }\n",
       "\n",
       "    .dataframe tbody tr th {\n",
       "        vertical-align: top;\n",
       "    }\n",
       "\n",
       "    .dataframe thead th {\n",
       "        text-align: right;\n",
       "    }\n",
       "</style>\n",
       "<table border=\"1\" class=\"dataframe\">\n",
       "  <thead>\n",
       "    <tr style=\"text-align: right;\">\n",
       "      <th></th>\n",
       "      <th>SourceElementKey</th>\n",
       "      <th>BlockfaceName</th>\n",
       "      <th>SideOfStreet</th>\n",
       "      <th>ParkingTimeLimitCategory</th>\n",
       "      <th>ParkingSpaceCount</th>\n",
       "      <th>PaidParkingArea</th>\n",
       "      <th>PaidParkingSubArea</th>\n",
       "      <th>ParkingCategory</th>\n",
       "      <th>Location</th>\n",
       "      <th>ParkingArea_concat</th>\n",
       "    </tr>\n",
       "  </thead>\n",
       "  <tbody>\n",
       "    <tr>\n",
       "      <th>0</th>\n",
       "      <td>1009</td>\n",
       "      <td>1ST AVE BETWEEN MADISON ST AND SPRING ST</td>\n",
       "      <td>SW</td>\n",
       "      <td>30</td>\n",
       "      <td>5</td>\n",
       "      <td>Commercial Core</td>\n",
       "      <td>Waterfront</td>\n",
       "      <td>Paid Parking</td>\n",
       "      <td>POINT (-122.3366575 47.60501765)</td>\n",
       "      <td>Commercial_Core__Waterfront</td>\n",
       "    </tr>\n",
       "    <tr>\n",
       "      <th>1</th>\n",
       "      <td>1018</td>\n",
       "      <td>1ST AVE BETWEEN STEWART ST AND VIRGINIA ST</td>\n",
       "      <td>NE</td>\n",
       "      <td>120</td>\n",
       "      <td>12</td>\n",
       "      <td>Belltown</td>\n",
       "      <td>South</td>\n",
       "      <td>Paid Parking</td>\n",
       "      <td>POINT (-122.34188878 47.61073498)</td>\n",
       "      <td>Belltown__South</td>\n",
       "    </tr>\n",
       "    <tr>\n",
       "      <th>2</th>\n",
       "      <td>1045</td>\n",
       "      <td>1ST AVE N BETWEEN REPUBLICAN ST AND MERCER ST</td>\n",
       "      <td>W</td>\n",
       "      <td>120</td>\n",
       "      <td>11</td>\n",
       "      <td>Uptown</td>\n",
       "      <td>Core</td>\n",
       "      <td>Paid Parking</td>\n",
       "      <td>POINT (-122.35549857 47.62391565)</td>\n",
       "      <td>Uptown__Core</td>\n",
       "    </tr>\n",
       "    <tr>\n",
       "      <th>3</th>\n",
       "      <td>1213</td>\n",
       "      <td>1ST AVE S BETWEEN YESLER WAY AND S WASHINGTON ST</td>\n",
       "      <td>W</td>\n",
       "      <td>120</td>\n",
       "      <td>11</td>\n",
       "      <td>Pioneer Square</td>\n",
       "      <td>Core</td>\n",
       "      <td>Paid Parking</td>\n",
       "      <td>POINT (-122.33428548 47.60129336)</td>\n",
       "      <td>Pioneer_Square__Core</td>\n",
       "    </tr>\n",
       "    <tr>\n",
       "      <th>4</th>\n",
       "      <td>1214</td>\n",
       "      <td>1ST AVE S BETWEEN YESLER WAY AND S WASHINGTON ST</td>\n",
       "      <td>E</td>\n",
       "      <td>120</td>\n",
       "      <td>11</td>\n",
       "      <td>Pioneer Square</td>\n",
       "      <td>Core</td>\n",
       "      <td>Paid Parking</td>\n",
       "      <td>POINT (-122.3340747 47.60129576)</td>\n",
       "      <td>Pioneer_Square__Core</td>\n",
       "    </tr>\n",
       "  </tbody>\n",
       "</table>\n",
       "</div>"
      ],
      "text/plain": [
       "   SourceElementKey                                     BlockfaceName  \\\n",
       "0              1009          1ST AVE BETWEEN MADISON ST AND SPRING ST   \n",
       "1              1018        1ST AVE BETWEEN STEWART ST AND VIRGINIA ST   \n",
       "2              1045     1ST AVE N BETWEEN REPUBLICAN ST AND MERCER ST   \n",
       "3              1213  1ST AVE S BETWEEN YESLER WAY AND S WASHINGTON ST   \n",
       "4              1214  1ST AVE S BETWEEN YESLER WAY AND S WASHINGTON ST   \n",
       "\n",
       "  SideOfStreet  ParkingTimeLimitCategory  ParkingSpaceCount  PaidParkingArea  \\\n",
       "0           SW                        30                  5  Commercial Core   \n",
       "1           NE                       120                 12         Belltown   \n",
       "2            W                       120                 11           Uptown   \n",
       "3            W                       120                 11   Pioneer Square   \n",
       "4            E                       120                 11   Pioneer Square   \n",
       "\n",
       "  PaidParkingSubArea ParkingCategory                           Location  \\\n",
       "0         Waterfront    Paid Parking   POINT (-122.3366575 47.60501765)   \n",
       "1              South    Paid Parking  POINT (-122.34188878 47.61073498)   \n",
       "2               Core    Paid Parking  POINT (-122.35549857 47.62391565)   \n",
       "3               Core    Paid Parking  POINT (-122.33428548 47.60129336)   \n",
       "4               Core    Paid Parking   POINT (-122.3340747 47.60129576)   \n",
       "\n",
       "            ParkingArea_concat  \n",
       "0  Commercial_Core__Waterfront  \n",
       "1              Belltown__South  \n",
       "2                 Uptown__Core  \n",
       "3         Pioneer_Square__Core  \n",
       "4         Pioneer_Square__Core  "
      ]
     },
     "execution_count": 25,
     "metadata": {},
     "output_type": "execute_result"
    }
   ],
   "source": [
    "df_locations['ParkingArea_concat'] = (\n",
    "    df_locations['PaidParkingArea'].str.replace(' ', '_')\n",
    "    .str.cat(df_locations['PaidParkingSubArea'], sep='__')\n",
    ")\n",
    "\n",
    "df_locations.head()"
   ]
  }
 ],
 "metadata": {
  "kernelspec": {
   "display_name": "Python 3",
   "language": "python",
   "name": "python3"
  },
  "language_info": {
   "codemirror_mode": {
    "name": "ipython",
    "version": 3
   },
   "file_extension": ".py",
   "mimetype": "text/x-python",
   "name": "python",
   "nbconvert_exporter": "python",
   "pygments_lexer": "ipython3",
   "version": "3.8.5"
  }
 },
 "nbformat": 4,
 "nbformat_minor": 4
}
