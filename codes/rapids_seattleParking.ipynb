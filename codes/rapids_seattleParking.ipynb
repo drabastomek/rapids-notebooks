{
 "cells": [
  {
   "cell_type": "code",
   "execution_count": 2,
   "metadata": {},
   "outputs": [
    {
     "name": "stdout",
     "output_type": "stream",
     "text": [
      "Collecting ipython-autotime\n",
      "  Downloading https://files.pythonhosted.org/packages/e6/f9/0626bbdb322e3a078d968e87e3b01341e7890544de891d0cb613641220e6/ipython-autotime-0.1.tar.bz2\n",
      "Building wheels for collected packages: ipython-autotime\n",
      "  Building wheel for ipython-autotime (setup.py) ... \u001b[?25ldone\n",
      "\u001b[?25h  Stored in directory: /root/.cache/pip/wheels/d2/df/81/2db1e54bc91002cec40334629bc39cfa86dff540b304ebcd6e\n",
      "Successfully built ipython-autotime\n",
      "Installing collected packages: ipython-autotime\n",
      "Successfully installed ipython-autotime-0.1\n"
     ]
    }
   ],
   "source": [
    "!pip install ipython-autotime"
   ]
  },
  {
   "cell_type": "code",
   "execution_count": 1,
   "metadata": {},
   "outputs": [],
   "source": [
    "import cudf\n",
    "import nvcategory\n",
    "import nvtext\n",
    "import nvstrings\n",
    "\n",
    "%load_ext autotime"
   ]
  },
  {
   "cell_type": "code",
   "execution_count": 9,
   "metadata": {},
   "outputs": [
    {
     "name": "stdout",
     "output_type": "stream",
     "text": [
      "time: 3.55 s\n"
     ]
    }
   ],
   "source": [
    "df = cudf.read_csv(\n",
    "    '../data/parking_Jun2019.csv'\n",
    ")"
   ]
  },
  {
   "cell_type": "code",
   "execution_count": 8,
   "metadata": {},
   "outputs": [
    {
     "data": {
      "text/plain": [
       "OccupancyDateTime           datetime64[ms]\n",
       "PaidOccupancy                        int64\n",
       "BlockfaceName                       object\n",
       "SideOfStreet                        object\n",
       "SourceElementKey                     int64\n",
       "ParkingTimeLimitCategory             int64\n",
       "ParkingSpaceCount                    int64\n",
       "PaidParkingArea                     object\n",
       "PaidParkingSubArea                  object\n",
       "PaidParkingRate                       int8\n",
       "ParkingCategory                     object\n",
       "Location                            object\n",
       "dtype: object"
      ]
     },
     "execution_count": 8,
     "metadata": {},
     "output_type": "execute_result"
    },
    {
     "name": "stdout",
     "output_type": "stream",
     "text": [
      "time: 7.58 ms\n"
     ]
    }
   ],
   "source": [
    "df.dtypes"
   ]
  },
  {
   "cell_type": "code",
   "execution_count": 11,
   "metadata": {},
   "outputs": [
    {
     "name": "stdout",
     "output_type": "stream",
     "text": [
      "Index(['OccupancyDateTime', 'PaidOccupancy', 'BlockfaceName', 'SideOfStreet',\n",
      "       'SourceElementKey', 'ParkingTimeLimitCategory', 'ParkingSpaceCount',\n",
      "       'PaidParkingArea', 'PaidParkingSubArea', 'PaidParkingRate',\n",
      "       'ParkingCategory', 'Location'],\n",
      "      dtype='object')\n",
      "time: 990 µs\n"
     ]
    }
   ],
   "source": [
    "print(df.columns)"
   ]
  },
  {
   "cell_type": "code",
   "execution_count": 32,
   "metadata": {},
   "outputs": [
    {
     "name": "stdout",
     "output_type": "stream",
     "text": [
      "         OccupancyDateTime  hour  minute\n",
      "0 2019-06-10T11:00:00.000    11       0\n",
      "1 2019-06-10T09:25:00.000     9      25\n",
      "2 2019-06-10T19:37:00.000    19      37\n",
      "3 2019-06-10T08:18:00.000     8      18\n",
      "4 2019-06-10T10:30:00.000    10      30\n",
      "5 2019-06-10T14:24:00.000    14      24\n",
      "6 2019-06-10T15:16:00.000    15      16\n",
      "7 2019-06-10T11:56:00.000    11      56\n",
      "8 2019-06-10T14:51:00.000    14      51\n",
      "9 2019-06-10T13:24:00.000    13      24\n",
      "[23749262 more rows]\n",
      "time: 116 ms\n"
     ]
    }
   ],
   "source": [
    "df['hour'] = df['OccupancyDateTime']._column.hour\n",
    "df['minute'] = df['OccupancyDateTime']._column.minute\n",
    "\n",
    "print(df[['OccupancyDateTime','hour', 'minute']])"
   ]
  },
  {
   "cell_type": "code",
   "execution_count": 33,
   "metadata": {},
   "outputs": [
    {
     "name": "stdout",
     "output_type": "stream",
     "text": [
      "                             Location                 LON                 LAT\n",
      "0   POINT (-122.2849609 47.55747782) -122.28495999999998  47.557469999999995\n",
      "1  POINT (-122.33419318 47.61911853) -122.33418999999999            47.61911\n",
      "2  POINT (-122.32064833 47.60984775) -122.32063999999998            47.60984\n",
      "3  POINT (-122.31826395 47.61468863)          -122.31826   47.61467999999999\n",
      "4  POINT (-122.38355354 47.66773569) -122.38354999999999            47.66773\n",
      "5  POINT (-122.31750336 47.61402223)           -122.3175            47.61402\n",
      "6  POINT (-122.33143883 47.60044775) -122.33142999999998            47.60044\n",
      "7  POINT (-122.35666155 47.62035414) -122.35665999999999  47.620349999999995\n",
      "8  POINT (-122.32281958 47.59757726) -122.32280999999999            47.59757\n",
      "9  POINT (-122.32089936 47.61467932) -122.32088999999999            47.61467\n",
      "[23749262 more rows]\n",
      "time: 4.88 s\n"
     ]
    }
   ],
   "source": [
    "def extractLon(location):\n",
    "    lon = location.str.extract('([0-9\\.\\-]+) ([0-9\\.]+)')[0].str.slice(0,10)\n",
    "    return lon.str.stod()\n",
    "\n",
    "def extractLat(location):\n",
    "    lon = location.str.extract('([0-9\\.\\-]+) ([0-9\\.]+)')[1].str.slice(0,8)\n",
    "    return lon.str.stod()\n",
    "    \n",
    "df['LON'] = extractLon(df['Location'])\n",
    "df['LAT'] = extractLat(df['Location'])\n",
    "\n",
    "print(df[['Location', 'LON', 'LAT']])"
   ]
  },
  {
   "cell_type": "code",
   "execution_count": 34,
   "metadata": {},
   "outputs": [
    {
     "name": "stdout",
     "output_type": "stream",
     "text": [
      "OccupancyDateTime,PaidOccupancy,BlockfaceName,SideOfStreet,SourceElementKey,ParkingTimeLimitCategory,ParkingSpaceCount,PaidParkingArea,PaidParkingSubArea,PaidParkingRate,ParkingCategory,Location\n",
      "2019-06-10T11:00:00,3,RAINIER AVE S BETWEEN S FERDINAND ST AND S HUDSON ST,W,12401,120,4,Columbia City,,,Paid Parking,POINT (-122.2849609 47.55747782)\n",
      "2019-06-10T09:25:00,1,FAIRVIEW AVE N BETWEEN DENNY WAY AND JOHN ST,E,33142,120,3,South Lake Union,South,,Paid Parking,POINT (-122.33419318 47.61911853)\n",
      "2019-06-10T19:37:00,1,BROADWAY BETWEEN BOYLSTON AVE AND MARION ST,E,32258,120,3,First Hill,,,Paid Parking,POINT (-122.32064833 47.60984775)\n",
      "2019-06-10T08:18:00,3,11TH AVE BETWEEN E PIKE ST AND E PINE ST,W,24405,120,11,Pike-Pine,,,Paid Parking,POINT (-122.31826395 47.61468863)\n",
      "2019-06-10T10:30:00,2,LEARY AVE NW BETWEEN NW VERNON PL AND NW MARKET ST,SW,56653,120,11,Ballard,Core,,Paid Parking,POINT (-122.38355354 47.66773569)\n",
      "2019-06-10T14:24:00,2,E PIKE ST BETWEEN 11TH AVE AND 12TH AVE,S,14678,120,5,Pike-Pine,,,Paid Parking,POINT (-122.31750336 47.61402223)\n",
      "2019-06-10T15:16:00,9,2ND AVE S BETWEEN S WASHINGTON ST AND S MAIN ST,E,2922,120,18,Pioneer Square,Core,,Paid Parking,POINT (-122.33143883 47.60044775)\n",
      "2019-06-10T11:56:00,8,QUEEN ANNE AVE N BETWEEN JOHN ST AND THOMAS ST,E,80274,240,12,Uptown,Edge,,Paid Parking,POINT (-122.35666155 47.62035414)\n",
      "2019-06-10T14:51:00,1,S WELLER ST BETWEEN CANTON AL S AND 8TH AVE S,N,119444,120,5,Chinatown/ID,Core,,Paid Parking,POINT (-122.32281958 47.59757726)\n",
      "time: 511 ms\n"
     ]
    }
   ],
   "source": [
    "!head ../data/parking_Jun2019.csv"
   ]
  },
  {
   "cell_type": "code",
   "execution_count": 37,
   "metadata": {},
   "outputs": [
    {
     "name": "stdout",
     "output_type": "stream",
     "text": [
      "Collecting geopy\n",
      "\u001b[?25l  Downloading https://files.pythonhosted.org/packages/80/93/d384479da0ead712bdaf697a8399c13a9a89bd856ada5a27d462fb45e47b/geopy-1.20.0-py2.py3-none-any.whl (100kB)\n",
      "\u001b[K     |################################| 102kB 9.8MB/s ta 0:00:011\n",
      "\u001b[?25hCollecting geographiclib<2,>=1.49 (from geopy)\n",
      "  Downloading https://files.pythonhosted.org/packages/5b/ac/4f348828091490d77899bc74e92238e2b55c59392f21948f296e94e50e2b/geographiclib-1.49.tar.gz\n",
      "Building wheels for collected packages: geographiclib\n",
      "  Building wheel for geographiclib (setup.py) ... \u001b[?25ldone\n",
      "\u001b[?25h  Stored in directory: /root/.cache/pip/wheels/99/45/d1/14954797e2a976083182c2e7da9b4e924509e59b6e5c661061\n",
      "Successfully built geographiclib\n",
      "Installing collected packages: geographiclib, geopy\n",
      "Successfully installed geographiclib-1.49 geopy-1.20.0\n",
      "time: 1.88 s\n"
     ]
    }
   ],
   "source": [
    "!pip install geopy"
   ]
  },
  {
   "cell_type": "code",
   "execution_count": 38,
   "metadata": {},
   "outputs": [
    {
     "name": "stdout",
     "output_type": "stream",
     "text": [
      "time: 13.4 ms\n"
     ]
    }
   ],
   "source": [
    "from geopy.geocoders import Nominatim\n",
    "\n",
    "geolo"
   ]
  },
  {
   "cell_type": "code",
   "execution_count": 91,
   "metadata": {},
   "outputs": [
    {
     "name": "stdout",
     "output_type": "stream",
     "text": [
      "    ids                             points\n",
      "0    0  POINT (-122.33644763 47.61672619)\n",
      "1    1  POINT (-122.34481093 47.61765602)\n",
      "2    2  POINT (-122.34293648 47.61700881)\n",
      "3    3  POINT (-122.35812857 47.61944097)\n",
      "4    4  POINT (-122.33241002 47.60201883)\n",
      "5    5  POINT (-122.32628038 47.59793434)\n",
      "6    6  POINT (-122.32320088 47.60811139)\n",
      "7    7   POINT (-122.34613913 47.6203126)\n",
      "8    8  POINT (-122.32487277 47.60654852)\n",
      "9    9  POINT (-122.34746087 47.61501419)\n"
     ]
    }
   ],
   "source": [
    "points = [\n",
    "    'POINT (-122.33644763 47.61672619)'\n",
    "    , 'POINT (-122.34481093 47.61765602)'\n",
    "    , 'POINT (-122.34293648 47.61700881)'\n",
    "    , 'POINT (-122.35812857 47.61944097)'\n",
    "    , 'POINT (-122.33241002 47.60201883)'\n",
    "    , 'POINT (-122.32628038 47.59793434)'\n",
    "    , 'POINT (-122.32320088 47.60811139)'\n",
    "    , 'POINT (-122.34613913 47.6203126)'\n",
    "    , 'POINT (-122.32487277 47.60654852)'\n",
    "    , 'POINT (-122.34746087 47.61501419)'\n",
    "]\n",
    "\n",
    "ids = range(len(points))\n",
    "\n",
    "\n",
    "df_small = cudf.DataFrame({'ids': ids, 'points': points})\n",
    "print(df_small)\n",
    "\n",
    "locs_small = nvstrings.to_device(df_small['points'].to_pandas().tolist())\n",
    "locs_conv = locs_small.extract_record('([0-9\\.\\-]+) ([0-9\\.]+)')\n",
    "lon, lat = zip(*[(float(e.to_host()[0]), float(e.to_host()[1])) for e in locs_conv])\n",
    "df_latLon = cudf.DataFrame({'lon': lon, 'lat': lat})"
   ]
  },
  {
   "cell_type": "code",
   "execution_count": 92,
   "metadata": {},
   "outputs": [
    {
     "name": "stdout",
     "output_type": "stream",
     "text": [
      "    ids                             points          lat           lon\n",
      "0    0  POINT (-122.33644763 47.61672619)  47.61672619 -122.33644763\n",
      "1    1  POINT (-122.34481093 47.61765602)  47.61765602 -122.34481093\n",
      "2    2  POINT (-122.34293648 47.61700881)  47.61700881 -122.34293648\n",
      "3    3  POINT (-122.35812857 47.61944097)  47.61944097 -122.35812857\n",
      "4    4  POINT (-122.33241002 47.60201883)  47.60201883 -122.33241002\n",
      "5    5  POINT (-122.32628038 47.59793434)  47.59793434 -122.32628038\n",
      "6    6  POINT (-122.32320088 47.60811139)  47.60811139 -122.32320088\n",
      "7    7   POINT (-122.34613913 47.6203126)   47.6203126 -122.34613913\n",
      "8    8  POINT (-122.32487277 47.60654852)  47.60654852 -122.32487277\n",
      "9    9  POINT (-122.34746087 47.61501419)  47.61501419 -122.34746087\n"
     ]
    }
   ],
   "source": [
    "df_small.add_column('lat', df_latLon['lat'])\n",
    "df_small.add_column('lon', df_latLon['lon'])\n",
    "print(df_small)"
   ]
  },
  {
   "cell_type": "code",
   "execution_count": 68,
   "metadata": {},
   "outputs": [
    {
     "name": "stdout",
     "output_type": "stream",
     "text": [
      "['-122.33644763', '47.61672619']\n",
      "['-122.34481093', '47.61765602']\n",
      "['-122.34293648', '47.61700881']\n",
      "['-122.35812857', '47.61944097']\n",
      "['-122.33241002', '47.60201883']\n",
      "['-122.32628038', '47.59793434']\n",
      "['-122.32320088', '47.60811139']\n",
      "['-122.34613913', '47.6203126']\n",
      "['-122.32487277', '47.60654852']\n",
      "['-122.34746087', '47.61501419']\n"
     ]
    }
   ],
   "source": [
    "import nvstrings\n",
    "s = nvstrings.to_device(\n",
    "['POINT (-122.33644763 47.61672619)', 'POINT (-122.34481093 47.61765602)', 'POINT (-122.34293648 47.61700881)', 'POINT (-122.35812857 47.61944097)', 'POINT (-122.33241002 47.60201883)', 'POINT (-122.32628038 47.59793434)', 'POINT (-122.32320088 47.60811139)', 'POINT (-122.34613913 47.6203126)', 'POINT (-122.32487277 47.60654852)', 'POINT (-122.34746087 47.61501419)'])\n",
    "\n",
    "for result in s.extract_record(\"([0-9\\.\\-]+) ([0-9\\.]+)\"):\n",
    "    print(result)\n",
    "# for result in s.extract_record('(POINT\\()([0-9\\.-]+) ([0-9\\.-]+)(\\))'):\n",
    "#     print(result)"
   ]
  },
  {
   "cell_type": "code",
   "execution_count": 64,
   "metadata": {},
   "outputs": [],
   "source": [
    "f = gpu_location.extract_record('([0-9\\.\\-]+) ([0-9\\.]+)')\n",
    "# print(f[1].gather([0,100]))"
   ]
  },
  {
   "cell_type": "code",
   "execution_count": 67,
   "metadata": {},
   "outputs": [
    {
     "ename": "TypeError",
     "evalue": "Could not convert object to sequence",
     "output_type": "error",
     "traceback": [
      "\u001b[0;31m---------------------------------------------------------------------------\u001b[0m",
      "\u001b[0;31mTypeError\u001b[0m                                 Traceback (most recent call last)",
      "\u001b[0;32m/conda/envs/rapids/lib/python3.6/site-packages/cudf/dataframe/columnops.py\u001b[0m in \u001b[0;36mas_column\u001b[0;34m(arbitrary, nan_as_null, dtype)\u001b[0m\n\u001b[1;32m    410\u001b[0m         \u001b[0;32mtry\u001b[0m\u001b[0;34m:\u001b[0m\u001b[0;34m\u001b[0m\u001b[0;34m\u001b[0m\u001b[0m\n\u001b[0;32m--> 411\u001b[0;31m             \u001b[0mdata\u001b[0m \u001b[0;34m=\u001b[0m \u001b[0mas_column\u001b[0m\u001b[0;34m(\u001b[0m\u001b[0mmemoryview\u001b[0m\u001b[0;34m(\u001b[0m\u001b[0marbitrary\u001b[0m\u001b[0;34m)\u001b[0m\u001b[0;34m)\u001b[0m\u001b[0;34m\u001b[0m\u001b[0;34m\u001b[0m\u001b[0m\n\u001b[0m\u001b[1;32m    412\u001b[0m         \u001b[0;32mexcept\u001b[0m \u001b[0mTypeError\u001b[0m\u001b[0;34m:\u001b[0m\u001b[0;34m\u001b[0m\u001b[0;34m\u001b[0m\u001b[0m\n",
      "\u001b[0;31mTypeError\u001b[0m: memoryview: a bytes-like object is required, not 'list'",
      "\nDuring handling of the above exception, another exception occurred:\n",
      "\u001b[0;31mArrowInvalid\u001b[0m                              Traceback (most recent call last)",
      "\u001b[0;32m/conda/envs/rapids/lib/python3.6/site-packages/cudf/dataframe/columnops.py\u001b[0m in \u001b[0;36mas_column\u001b[0;34m(arbitrary, nan_as_null, dtype)\u001b[0m\n\u001b[1;32m    424\u001b[0m                 data = as_column(\n\u001b[0;32m--> 425\u001b[0;31m                     \u001b[0mpa\u001b[0m\u001b[0;34m.\u001b[0m\u001b[0marray\u001b[0m\u001b[0;34m(\u001b[0m\u001b[0marbitrary\u001b[0m\u001b[0;34m,\u001b[0m \u001b[0mtype\u001b[0m\u001b[0;34m=\u001b[0m\u001b[0mpa_type\u001b[0m\u001b[0;34m,\u001b[0m \u001b[0mfrom_pandas\u001b[0m\u001b[0;34m=\u001b[0m\u001b[0mnan_as_null\u001b[0m\u001b[0;34m)\u001b[0m\u001b[0;34m,\u001b[0m\u001b[0;34m\u001b[0m\u001b[0;34m\u001b[0m\u001b[0m\n\u001b[0m\u001b[1;32m    426\u001b[0m                     \u001b[0mnan_as_null\u001b[0m\u001b[0;34m=\u001b[0m\u001b[0mnan_as_null\u001b[0m\u001b[0;34m\u001b[0m\u001b[0;34m\u001b[0m\u001b[0m\n",
      "\u001b[0;32m/conda/envs/rapids/lib/python3.6/site-packages/pyarrow/array.pxi\u001b[0m in \u001b[0;36mpyarrow.lib.array\u001b[0;34m()\u001b[0m\n",
      "\u001b[0;32m/conda/envs/rapids/lib/python3.6/site-packages/pyarrow/array.pxi\u001b[0m in \u001b[0;36mpyarrow.lib._sequence_to_array\u001b[0;34m()\u001b[0m\n",
      "\u001b[0;32m/conda/envs/rapids/lib/python3.6/site-packages/pyarrow/error.pxi\u001b[0m in \u001b[0;36mpyarrow.lib.check_status\u001b[0;34m()\u001b[0m\n",
      "\u001b[0;31mArrowInvalid\u001b[0m: Could not convert ['-122.33644763'] with type nvstrings: did not recognize Python value type when inferring an Arrow data type",
      "\nDuring handling of the above exception, another exception occurred:\n",
      "\u001b[0;31mTypeError\u001b[0m                                 Traceback (most recent call last)",
      "\u001b[0;32m<ipython-input-67-26813a2c188d>\u001b[0m in \u001b[0;36m<module>\u001b[0;34m\u001b[0m\n\u001b[0;32m----> 1\u001b[0;31m \u001b[0mdf\u001b[0m\u001b[0;34m.\u001b[0m\u001b[0madd_column\u001b[0m\u001b[0;34m(\u001b[0m\u001b[0;34m'lon'\u001b[0m\u001b[0;34m,\u001b[0m \u001b[0;34m[\u001b[0m\u001b[0me\u001b[0m\u001b[0;34m[\u001b[0m\u001b[0;36m0\u001b[0m\u001b[0;34m]\u001b[0m \u001b[0;32mfor\u001b[0m \u001b[0me\u001b[0m \u001b[0;32min\u001b[0m \u001b[0mf\u001b[0m\u001b[0;34m]\u001b[0m\u001b[0;34m)\u001b[0m\u001b[0;34m\u001b[0m\u001b[0;34m\u001b[0m\u001b[0m\n\u001b[0m",
      "\u001b[0;32m/conda/envs/rapids/lib/python3.6/site-packages/cudf/dataframe/dataframe.py\u001b[0m in \u001b[0;36madd_column\u001b[0;34m(self, name, data, forceindex)\u001b[0m\n\u001b[1;32m    914\u001b[0m         \u001b[0;32mif\u001b[0m \u001b[0misinstance\u001b[0m\u001b[0;34m(\u001b[0m\u001b[0mdata\u001b[0m\u001b[0;34m,\u001b[0m \u001b[0mGeneratorType\u001b[0m\u001b[0;34m)\u001b[0m\u001b[0;34m:\u001b[0m\u001b[0;34m\u001b[0m\u001b[0;34m\u001b[0m\u001b[0m\n\u001b[1;32m    915\u001b[0m             \u001b[0mdata\u001b[0m \u001b[0;34m=\u001b[0m \u001b[0mSeries\u001b[0m\u001b[0;34m(\u001b[0m\u001b[0mdata\u001b[0m\u001b[0;34m)\u001b[0m\u001b[0;34m\u001b[0m\u001b[0;34m\u001b[0m\u001b[0m\n\u001b[0;32m--> 916\u001b[0;31m         \u001b[0mseries\u001b[0m \u001b[0;34m=\u001b[0m \u001b[0mself\u001b[0m\u001b[0;34m.\u001b[0m\u001b[0m_prepare_series_for_add\u001b[0m\u001b[0;34m(\u001b[0m\u001b[0mdata\u001b[0m\u001b[0;34m,\u001b[0m \u001b[0mforceindex\u001b[0m\u001b[0;34m=\u001b[0m\u001b[0mforceindex\u001b[0m\u001b[0;34m)\u001b[0m\u001b[0;34m\u001b[0m\u001b[0;34m\u001b[0m\u001b[0m\n\u001b[0m\u001b[1;32m    917\u001b[0m         \u001b[0mseries\u001b[0m\u001b[0;34m.\u001b[0m\u001b[0mname\u001b[0m \u001b[0;34m=\u001b[0m \u001b[0mname\u001b[0m\u001b[0;34m\u001b[0m\u001b[0;34m\u001b[0m\u001b[0m\n\u001b[1;32m    918\u001b[0m         \u001b[0mself\u001b[0m\u001b[0;34m.\u001b[0m\u001b[0m_cols\u001b[0m\u001b[0;34m[\u001b[0m\u001b[0mname\u001b[0m\u001b[0;34m]\u001b[0m \u001b[0;34m=\u001b[0m \u001b[0mseries\u001b[0m\u001b[0;34m\u001b[0m\u001b[0;34m\u001b[0m\u001b[0m\n",
      "\u001b[0;32m/conda/envs/rapids/lib/python3.6/site-packages/cudf/dataframe/dataframe.py\u001b[0m in \u001b[0;36m_prepare_series_for_add\u001b[0;34m(self, col, forceindex)\u001b[0m\n\u001b[1;32m    885\u001b[0m         \u001b[0;31m# This won't handle 0 dimensional arrays which should be okay\u001b[0m\u001b[0;34m\u001b[0m\u001b[0;34m\u001b[0m\u001b[0;34m\u001b[0m\u001b[0m\n\u001b[1;32m    886\u001b[0m         \u001b[0mSCALAR\u001b[0m \u001b[0;34m=\u001b[0m \u001b[0mnp\u001b[0m\u001b[0;34m.\u001b[0m\u001b[0misscalar\u001b[0m\u001b[0;34m(\u001b[0m\u001b[0mcol\u001b[0m\u001b[0;34m)\u001b[0m\u001b[0;34m\u001b[0m\u001b[0;34m\u001b[0m\u001b[0m\n\u001b[0;32m--> 887\u001b[0;31m         \u001b[0mseries\u001b[0m \u001b[0;34m=\u001b[0m \u001b[0mSeries\u001b[0m\u001b[0;34m(\u001b[0m\u001b[0mcol\u001b[0m\u001b[0;34m)\u001b[0m \u001b[0;32mif\u001b[0m \u001b[0;32mnot\u001b[0m \u001b[0mSCALAR\u001b[0m \u001b[0;32melse\u001b[0m \u001b[0mcol\u001b[0m\u001b[0;34m\u001b[0m\u001b[0;34m\u001b[0m\u001b[0m\n\u001b[0m\u001b[1;32m    888\u001b[0m         \u001b[0mself\u001b[0m\u001b[0;34m.\u001b[0m\u001b[0m_sanitize_columns\u001b[0m\u001b[0;34m(\u001b[0m\u001b[0mseries\u001b[0m\u001b[0;34m)\u001b[0m\u001b[0;34m\u001b[0m\u001b[0;34m\u001b[0m\u001b[0m\n\u001b[1;32m    889\u001b[0m         \u001b[0mseries\u001b[0m \u001b[0;34m=\u001b[0m \u001b[0mself\u001b[0m\u001b[0;34m.\u001b[0m\u001b[0m_sanitize_values\u001b[0m\u001b[0;34m(\u001b[0m\u001b[0mseries\u001b[0m\u001b[0;34m,\u001b[0m \u001b[0mSCALAR\u001b[0m\u001b[0;34m)\u001b[0m\u001b[0;34m\u001b[0m\u001b[0;34m\u001b[0m\u001b[0m\n",
      "\u001b[0;32m/conda/envs/rapids/lib/python3.6/site-packages/cudf/dataframe/series.py\u001b[0m in \u001b[0;36m__init__\u001b[0;34m(self, data, index, name, nan_as_null, dtype)\u001b[0m\n\u001b[1;32m     81\u001b[0m         \u001b[0;32mif\u001b[0m \u001b[0;32mnot\u001b[0m \u001b[0misinstance\u001b[0m\u001b[0;34m(\u001b[0m\u001b[0mdata\u001b[0m\u001b[0;34m,\u001b[0m \u001b[0mcolumnops\u001b[0m\u001b[0;34m.\u001b[0m\u001b[0mTypedColumnBase\u001b[0m\u001b[0;34m)\u001b[0m\u001b[0;34m:\u001b[0m\u001b[0;34m\u001b[0m\u001b[0;34m\u001b[0m\u001b[0m\n\u001b[1;32m     82\u001b[0m             data = columnops.as_column(data, nan_as_null=nan_as_null,\n\u001b[0;32m---> 83\u001b[0;31m                                        dtype=dtype)\n\u001b[0m\u001b[1;32m     84\u001b[0m \u001b[0;34m\u001b[0m\u001b[0m\n\u001b[1;32m     85\u001b[0m         \u001b[0;32mif\u001b[0m \u001b[0mindex\u001b[0m \u001b[0;32mis\u001b[0m \u001b[0;32mnot\u001b[0m \u001b[0;32mNone\u001b[0m \u001b[0;32mand\u001b[0m \u001b[0;32mnot\u001b[0m \u001b[0misinstance\u001b[0m\u001b[0;34m(\u001b[0m\u001b[0mindex\u001b[0m\u001b[0;34m,\u001b[0m \u001b[0mIndex\u001b[0m\u001b[0;34m)\u001b[0m\u001b[0;34m:\u001b[0m\u001b[0;34m\u001b[0m\u001b[0;34m\u001b[0m\u001b[0m\n",
      "\u001b[0;32m/conda/envs/rapids/lib/python3.6/site-packages/cudf/dataframe/columnops.py\u001b[0m in \u001b[0;36mas_column\u001b[0;34m(arbitrary, nan_as_null, dtype)\u001b[0m\n\u001b[1;32m    439\u001b[0m                         \u001b[0mnp_type\u001b[0m \u001b[0;34m=\u001b[0m \u001b[0mnp\u001b[0m\u001b[0;34m.\u001b[0m\u001b[0mdtype\u001b[0m\u001b[0;34m(\u001b[0m\u001b[0mdtype\u001b[0m\u001b[0;34m)\u001b[0m\u001b[0;34m\u001b[0m\u001b[0;34m\u001b[0m\u001b[0m\n\u001b[1;32m    440\u001b[0m                     data = as_column(\n\u001b[0;32m--> 441\u001b[0;31m                         \u001b[0mnp\u001b[0m\u001b[0;34m.\u001b[0m\u001b[0marray\u001b[0m\u001b[0;34m(\u001b[0m\u001b[0marbitrary\u001b[0m\u001b[0;34m,\u001b[0m \u001b[0mdtype\u001b[0m\u001b[0;34m=\u001b[0m\u001b[0mnp_type\u001b[0m\u001b[0;34m)\u001b[0m\u001b[0;34m,\u001b[0m\u001b[0;34m\u001b[0m\u001b[0;34m\u001b[0m\u001b[0m\n\u001b[0m\u001b[1;32m    442\u001b[0m                         \u001b[0mnan_as_null\u001b[0m\u001b[0;34m=\u001b[0m\u001b[0mnan_as_null\u001b[0m\u001b[0;34m\u001b[0m\u001b[0;34m\u001b[0m\u001b[0m\n\u001b[1;32m    443\u001b[0m                     )\n",
      "\u001b[0;31mTypeError\u001b[0m: Could not convert object to sequence"
     ]
    }
   ],
   "source": [
    "df.add_column('lon', [e[0] for e in f])"
   ]
  },
  {
   "cell_type": "code",
   "execution_count": null,
   "metadata": {},
   "outputs": [],
   "source": [
    "df.add_column('lat', [e[1] for e in f])\n",
    "print(df.head(10))"
   ]
  },
  {
   "cell_type": "code",
   "execution_count": 63,
   "metadata": {},
   "outputs": [
    {
     "name": "stdout",
     "output_type": "stream",
     "text": [
      "['POINT (-122.34481093 47.61765602)', 'POINT (-122.34293648 47.61700881)', 'POINT (-122.35812857 47.61944097)', 'POINT (-122.33241002 47.60201883)', 'POINT (-122.32628038 47.59793434)']\n"
     ]
    }
   ],
   "source": [
    "print(gpu_location.gather([1,2,3,4,5]))"
   ]
  },
  {
   "cell_type": "code",
   "execution_count": 11,
   "metadata": {},
   "outputs": [
    {
     "ename": "AttributeError",
     "evalue": "'nvstrings' object has no attribute 'to_gpu_array'",
     "output_type": "error",
     "traceback": [
      "\u001b[0;31m---------------------------------------------------------------------------\u001b[0m",
      "\u001b[0;31mAttributeError\u001b[0m                            Traceback (most recent call last)",
      "\u001b[0;32m<ipython-input-11-235e01707696>\u001b[0m in \u001b[0;36m<module>\u001b[0;34m\u001b[0m\n\u001b[1;32m     11\u001b[0m \u001b[0;34m\u001b[0m\u001b[0m\n\u001b[1;32m     12\u001b[0m \u001b[0;34m\u001b[0m\u001b[0m\n\u001b[0;32m---> 13\u001b[0;31m \u001b[0mdf\u001b[0m\u001b[0;34m.\u001b[0m\u001b[0mapply_rows\u001b[0m\u001b[0;34m(\u001b[0m\u001b[0mextractLon\u001b[0m\u001b[0;34m,\u001b[0m \u001b[0mincols\u001b[0m\u001b[0;34m=\u001b[0m\u001b[0;34m[\u001b[0m\u001b[0;34m'Location'\u001b[0m\u001b[0;34m]\u001b[0m\u001b[0;34m,\u001b[0m \u001b[0moutcols\u001b[0m\u001b[0;34m=\u001b[0m\u001b[0mdict\u001b[0m\u001b[0;34m(\u001b[0m\u001b[0mlocation_lon\u001b[0m\u001b[0;34m=\u001b[0m\u001b[0mnp\u001b[0m\u001b[0;34m.\u001b[0m\u001b[0mfloat32\u001b[0m\u001b[0;34m)\u001b[0m\u001b[0;34m,\u001b[0m \u001b[0mkwargs\u001b[0m\u001b[0;34m=\u001b[0m\u001b[0;34m{\u001b[0m\u001b[0;34m}\u001b[0m\u001b[0;34m)\u001b[0m\u001b[0;34m\u001b[0m\u001b[0;34m\u001b[0m\u001b[0m\n\u001b[0m",
      "\u001b[0;32m/conda/envs/rapids/lib/python3.6/site-packages/cudf/dataframe/dataframe.py\u001b[0m in \u001b[0;36mapply_rows\u001b[0;34m(self, func, incols, outcols, kwargs, cache_key)\u001b[0m\n\u001b[1;32m   1972\u001b[0m         \"\"\"\n\u001b[1;32m   1973\u001b[0m         return applyutils.apply_rows(self, func, incols, outcols, kwargs,\n\u001b[0;32m-> 1974\u001b[0;31m                                      cache_key=cache_key)\n\u001b[0m\u001b[1;32m   1975\u001b[0m \u001b[0;34m\u001b[0m\u001b[0m\n\u001b[1;32m   1976\u001b[0m     \u001b[0;34m@\u001b[0m\u001b[0mapplyutils\u001b[0m\u001b[0;34m.\u001b[0m\u001b[0mdoc_applychunks\u001b[0m\u001b[0;34m(\u001b[0m\u001b[0;34m)\u001b[0m\u001b[0;34m\u001b[0m\u001b[0;34m\u001b[0m\u001b[0m\n",
      "\u001b[0;32m/conda/envs/rapids/lib/python3.6/site-packages/cudf/utils/applyutils.py\u001b[0m in \u001b[0;36mapply_rows\u001b[0;34m(df, func, incols, outcols, kwargs, cache_key)\u001b[0m\n\u001b[1;32m     60\u001b[0m     applyrows = ApplyRowsCompiler(func, incols, outcols, kwargs,\n\u001b[1;32m     61\u001b[0m                                   cache_key=cache_key)\n\u001b[0;32m---> 62\u001b[0;31m     \u001b[0;32mreturn\u001b[0m \u001b[0mapplyrows\u001b[0m\u001b[0;34m.\u001b[0m\u001b[0mrun\u001b[0m\u001b[0;34m(\u001b[0m\u001b[0mdf\u001b[0m\u001b[0;34m)\u001b[0m\u001b[0;34m\u001b[0m\u001b[0;34m\u001b[0m\u001b[0m\n\u001b[0m\u001b[1;32m     63\u001b[0m \u001b[0;34m\u001b[0m\u001b[0m\n\u001b[1;32m     64\u001b[0m \u001b[0;34m\u001b[0m\u001b[0m\n",
      "\u001b[0;32m/conda/envs/rapids/lib/python3.6/site-packages/cudf/utils/applyutils.py\u001b[0m in \u001b[0;36mrun\u001b[0;34m(self, df, **launch_params)\u001b[0m\n\u001b[1;32m     92\u001b[0m     \u001b[0;32mdef\u001b[0m \u001b[0mrun\u001b[0m\u001b[0;34m(\u001b[0m\u001b[0mself\u001b[0m\u001b[0;34m,\u001b[0m \u001b[0mdf\u001b[0m\u001b[0;34m,\u001b[0m \u001b[0;34m**\u001b[0m\u001b[0mlaunch_params\u001b[0m\u001b[0;34m)\u001b[0m\u001b[0;34m:\u001b[0m\u001b[0;34m\u001b[0m\u001b[0;34m\u001b[0m\u001b[0m\n\u001b[1;32m     93\u001b[0m         \u001b[0;31m# Get input columns\u001b[0m\u001b[0;34m\u001b[0m\u001b[0;34m\u001b[0m\u001b[0;34m\u001b[0m\u001b[0m\n\u001b[0;32m---> 94\u001b[0;31m         \u001b[0minputs\u001b[0m \u001b[0;34m=\u001b[0m \u001b[0;34m{\u001b[0m\u001b[0mk\u001b[0m\u001b[0;34m:\u001b[0m \u001b[0mdf\u001b[0m\u001b[0;34m[\u001b[0m\u001b[0mk\u001b[0m\u001b[0;34m]\u001b[0m\u001b[0;34m.\u001b[0m\u001b[0mto_gpu_array\u001b[0m\u001b[0;34m(\u001b[0m\u001b[0;34m)\u001b[0m \u001b[0;32mfor\u001b[0m \u001b[0mk\u001b[0m \u001b[0;32min\u001b[0m \u001b[0mself\u001b[0m\u001b[0;34m.\u001b[0m\u001b[0mincols\u001b[0m\u001b[0;34m}\u001b[0m\u001b[0;34m\u001b[0m\u001b[0;34m\u001b[0m\u001b[0m\n\u001b[0m\u001b[1;32m     95\u001b[0m         \u001b[0;31m# Allocate output columns\u001b[0m\u001b[0;34m\u001b[0m\u001b[0;34m\u001b[0m\u001b[0;34m\u001b[0m\u001b[0m\n\u001b[1;32m     96\u001b[0m         \u001b[0moutputs\u001b[0m \u001b[0;34m=\u001b[0m \u001b[0;34m{\u001b[0m\u001b[0;34m}\u001b[0m\u001b[0;34m\u001b[0m\u001b[0;34m\u001b[0m\u001b[0m\n",
      "\u001b[0;32m/conda/envs/rapids/lib/python3.6/site-packages/cudf/utils/applyutils.py\u001b[0m in \u001b[0;36m<dictcomp>\u001b[0;34m(.0)\u001b[0m\n\u001b[1;32m     92\u001b[0m     \u001b[0;32mdef\u001b[0m \u001b[0mrun\u001b[0m\u001b[0;34m(\u001b[0m\u001b[0mself\u001b[0m\u001b[0;34m,\u001b[0m \u001b[0mdf\u001b[0m\u001b[0;34m,\u001b[0m \u001b[0;34m**\u001b[0m\u001b[0mlaunch_params\u001b[0m\u001b[0;34m)\u001b[0m\u001b[0;34m:\u001b[0m\u001b[0;34m\u001b[0m\u001b[0;34m\u001b[0m\u001b[0m\n\u001b[1;32m     93\u001b[0m         \u001b[0;31m# Get input columns\u001b[0m\u001b[0;34m\u001b[0m\u001b[0;34m\u001b[0m\u001b[0;34m\u001b[0m\u001b[0m\n\u001b[0;32m---> 94\u001b[0;31m         \u001b[0minputs\u001b[0m \u001b[0;34m=\u001b[0m \u001b[0;34m{\u001b[0m\u001b[0mk\u001b[0m\u001b[0;34m:\u001b[0m \u001b[0mdf\u001b[0m\u001b[0;34m[\u001b[0m\u001b[0mk\u001b[0m\u001b[0;34m]\u001b[0m\u001b[0;34m.\u001b[0m\u001b[0mto_gpu_array\u001b[0m\u001b[0;34m(\u001b[0m\u001b[0;34m)\u001b[0m \u001b[0;32mfor\u001b[0m \u001b[0mk\u001b[0m \u001b[0;32min\u001b[0m \u001b[0mself\u001b[0m\u001b[0;34m.\u001b[0m\u001b[0mincols\u001b[0m\u001b[0;34m}\u001b[0m\u001b[0;34m\u001b[0m\u001b[0;34m\u001b[0m\u001b[0m\n\u001b[0m\u001b[1;32m     95\u001b[0m         \u001b[0;31m# Allocate output columns\u001b[0m\u001b[0;34m\u001b[0m\u001b[0;34m\u001b[0m\u001b[0;34m\u001b[0m\u001b[0m\n\u001b[1;32m     96\u001b[0m         \u001b[0moutputs\u001b[0m \u001b[0;34m=\u001b[0m \u001b[0;34m{\u001b[0m\u001b[0;34m}\u001b[0m\u001b[0;34m\u001b[0m\u001b[0;34m\u001b[0m\u001b[0m\n",
      "\u001b[0;32m/conda/envs/rapids/lib/python3.6/site-packages/cudf/dataframe/series.py\u001b[0m in \u001b[0;36mto_gpu_array\u001b[0;34m(self, fillna)\u001b[0m\n\u001b[1;32m    754\u001b[0m         \u001b[0moutput\u001b[0m \u001b[0msize\u001b[0m \u001b[0mcould\u001b[0m \u001b[0mbe\u001b[0m \u001b[0msmaller\u001b[0m\u001b[0;34m.\u001b[0m\u001b[0;34m\u001b[0m\u001b[0;34m\u001b[0m\u001b[0m\n\u001b[1;32m    755\u001b[0m         \"\"\"\n\u001b[0;32m--> 756\u001b[0;31m         \u001b[0;32mreturn\u001b[0m \u001b[0mself\u001b[0m\u001b[0;34m.\u001b[0m\u001b[0m_column\u001b[0m\u001b[0;34m.\u001b[0m\u001b[0mto_gpu_array\u001b[0m\u001b[0;34m(\u001b[0m\u001b[0mfillna\u001b[0m\u001b[0;34m=\u001b[0m\u001b[0mfillna\u001b[0m\u001b[0;34m)\u001b[0m\u001b[0;34m\u001b[0m\u001b[0;34m\u001b[0m\u001b[0m\n\u001b[0m\u001b[1;32m    757\u001b[0m \u001b[0;34m\u001b[0m\u001b[0m\n\u001b[1;32m    758\u001b[0m     \u001b[0;32mdef\u001b[0m \u001b[0mto_pandas\u001b[0m\u001b[0;34m(\u001b[0m\u001b[0mself\u001b[0m\u001b[0;34m,\u001b[0m \u001b[0mindex\u001b[0m\u001b[0;34m=\u001b[0m\u001b[0;32mTrue\u001b[0m\u001b[0;34m)\u001b[0m\u001b[0;34m:\u001b[0m\u001b[0;34m\u001b[0m\u001b[0;34m\u001b[0m\u001b[0m\n",
      "\u001b[0;32m/conda/envs/rapids/lib/python3.6/site-packages/cudf/dataframe/column.py\u001b[0m in \u001b[0;36mto_gpu_array\u001b[0;34m(self, fillna)\u001b[0m\n\u001b[1;32m    271\u001b[0m         \u001b[0moutput\u001b[0m \u001b[0msize\u001b[0m \u001b[0mcould\u001b[0m \u001b[0mbe\u001b[0m \u001b[0msmaller\u001b[0m\u001b[0;34m.\u001b[0m\u001b[0;34m\u001b[0m\u001b[0;34m\u001b[0m\u001b[0m\n\u001b[1;32m    272\u001b[0m         \"\"\"\n\u001b[0;32m--> 273\u001b[0;31m         \u001b[0;32mreturn\u001b[0m \u001b[0mself\u001b[0m\u001b[0;34m.\u001b[0m\u001b[0mto_dense_buffer\u001b[0m\u001b[0;34m(\u001b[0m\u001b[0mfillna\u001b[0m\u001b[0;34m=\u001b[0m\u001b[0mfillna\u001b[0m\u001b[0;34m)\u001b[0m\u001b[0;34m.\u001b[0m\u001b[0mto_gpu_array\u001b[0m\u001b[0;34m(\u001b[0m\u001b[0;34m)\u001b[0m\u001b[0;34m\u001b[0m\u001b[0;34m\u001b[0m\u001b[0m\n\u001b[0m\u001b[1;32m    274\u001b[0m \u001b[0;34m\u001b[0m\u001b[0m\n\u001b[1;32m    275\u001b[0m     \u001b[0;32mdef\u001b[0m \u001b[0mto_array\u001b[0m\u001b[0;34m(\u001b[0m\u001b[0mself\u001b[0m\u001b[0;34m,\u001b[0m \u001b[0mfillna\u001b[0m\u001b[0;34m=\u001b[0m\u001b[0;32mNone\u001b[0m\u001b[0;34m)\u001b[0m\u001b[0;34m:\u001b[0m\u001b[0;34m\u001b[0m\u001b[0;34m\u001b[0m\u001b[0m\n",
      "\u001b[0;31mAttributeError\u001b[0m: 'nvstrings' object has no attribute 'to_gpu_array'"
     ]
    }
   ],
   "source": [
    "Location = df['Location']\n",
    "\n",
    "def extractLon(Location, location_lon):\n",
    "    for i, point in enumerate(Location):\n",
    "        ppp_split = point.split(' ')[1:]\n",
    "        location_lon[i] = float(ppp_split[0][1:])\n",
    "\n",
    "df.apply_rows(extractLon, incols=['Location'], outcols=dict(location_lon=np.float32), kwargs={})"
   ]
  },
  {
   "cell_type": "code",
   "execution_count": null,
   "metadata": {},
   "outputs": [],
   "source": []
  },
  {
   "cell_type": "code",
   "execution_count": 1,
   "metadata": {},
   "outputs": [
    {
     "data": {
      "text/plain": [
       "['16.99,1.01,Female,No,Sun,Dinner,2',\n",
       " '10.34,1.66,Male,No,Sun,Dinner,3',\n",
       " '21.01,3.5,Male,No,Sun,Dinner,3',\n",
       " '23.68,3.31,Male,No,Sun,Dinner,2',\n",
       " '24.59,3.61,Female,No,Sun,Dinner,4',\n",
       " '25.29,4.71,Male,No,Sun,Dinner,4',\n",
       " '8.77,2.0,Male,No,Sun,Dinner,2',\n",
       " '26.88,3.12,Male,No,Sun,Dinner,4',\n",
       " '15.04,1.96,Male,No,Sun,Dinner,2',\n",
       " '14.78,3.23,Male,No,Sun,Dinner,2',\n",
       " '10.27,1.71,Male,No,Sun,Dinner,2',\n",
       " '35.26,5.0,Female,No,Sun,Dinner,4',\n",
       " '15.42,1.57,Male,No,Sun,Dinner,2',\n",
       " '18.43,3.0,Male,No,Sun,Dinner,4',\n",
       " '14.83,3.02,Female,No,Sun,Dinner,2',\n",
       " '21.58,3.92,Male,No,Sun,Dinner,2',\n",
       " '10.33,1.67,Female,No,Sun,Dinner,3',\n",
       " '16.29,3.71,Male,No,Sun,Dinner,3',\n",
       " '16.97,3.5,Female,No,Sun,Dinner,3',\n",
       " '20.65,3.35,Male,No,Sat,Dinner,3',\n",
       " '17.92,4.08,Male,No,Sat,Dinner,2',\n",
       " '20.29,2.75,Female,No,Sat,Dinner,2',\n",
       " '15.77,2.23,Female,No,Sat,Dinner,2',\n",
       " '39.42,7.58,Male,No,Sat,Dinner,4',\n",
       " '19.82,3.18,Male,No,Sat,Dinner,2',\n",
       " '17.81,2.34,Male,No,Sat,Dinner,4',\n",
       " '13.37,2.0,Male,No,Sat,Dinner,2',\n",
       " '12.69,2.0,Male,No,Sat,Dinner,2',\n",
       " '21.7,4.3,Male,No,Sat,Dinner,2',\n",
       " '19.65,3.0,Female,No,Sat,Dinner,2',\n",
       " '9.55,1.45,Male,No,Sat,Dinner,2',\n",
       " '18.35,2.5,Male,No,Sat,Dinner,4',\n",
       " '15.06,3.0,Female,No,Sat,Dinner,2',\n",
       " '20.69,2.45,Female,No,Sat,Dinner,4',\n",
       " '17.78,3.27,Male,No,Sat,Dinner,2',\n",
       " '24.06,3.6,Male,No,Sat,Dinner,3',\n",
       " '16.31,2.0,Male,No,Sat,Dinner,3',\n",
       " '16.93,3.07,Female,No,Sat,Dinner,3',\n",
       " '18.69,2.31,Male,No,Sat,Dinner,3',\n",
       " '31.27,5.0,Male,No,Sat,Dinner,3',\n",
       " '16.04,2.24,Male,No,Sat,Dinner,3',\n",
       " '17.46,2.54,Male,No,Sun,Dinner,2',\n",
       " '13.94,3.06,Male,No,Sun,Dinner,2',\n",
       " '9.68,1.32,Male,No,Sun,Dinner,2',\n",
       " '30.4,5.6,Male,No,Sun,Dinner,4',\n",
       " '18.29,3.0,Male,No,Sun,Dinner,2',\n",
       " '22.23,5.0,Male,No,Sun,Dinner,2',\n",
       " '32.4,6.0,Male,No,Sun,Dinner,4',\n",
       " '28.55,2.05,Male,No,Sun,Dinner,3',\n",
       " '18.04,3.0,Male,No,Sun,Dinner,2',\n",
       " '12.54,2.5,Male,No,Sun,Dinner,2',\n",
       " '10.29,2.6,Female,No,Sun,Dinner,2',\n",
       " '34.81,5.2,Female,No,Sun,Dinner,4',\n",
       " '9.94,1.56,Male,No,Sun,Dinner,2',\n",
       " '25.56,4.34,Male,No,Sun,Dinner,4',\n",
       " '19.49,3.51,Male,No,Sun,Dinner,2',\n",
       " '38.01,3.0,Male,Yes,Sat,Dinner,4',\n",
       " '26.41,1.5,Female,No,Sat,Dinner,2',\n",
       " '11.24,1.76,Male,Yes,Sat,Dinner,2',\n",
       " '48.27,6.73,Male,No,Sat,Dinner,4',\n",
       " '20.29,3.21,Male,Yes,Sat,Dinner,2',\n",
       " '13.81,2.0,Male,Yes,Sat,Dinner,2',\n",
       " '11.02,1.98,Male,Yes,Sat,Dinner,2',\n",
       " '18.29,3.76,Male,Yes,Sat,Dinner,4',\n",
       " '17.59,2.64,Male,No,Sat,Dinner,3',\n",
       " '20.08,3.15,Male,No,Sat,Dinner,3',\n",
       " '16.45,2.47,Female,No,Sat,Dinner,2',\n",
       " '3.07,1.0,Female,Yes,Sat,Dinner,1',\n",
       " '20.23,2.01,Male,No,Sat,Dinner,2',\n",
       " '15.01,2.09,Male,Yes,Sat,Dinner,2',\n",
       " '12.02,1.97,Male,No,Sat,Dinner,2',\n",
       " '17.07,3.0,Female,No,Sat,Dinner,3',\n",
       " '26.86,3.14,Female,Yes,Sat,Dinner,2',\n",
       " '25.28,5.0,Female,Yes,Sat,Dinner,2',\n",
       " '14.73,2.2,Female,No,Sat,Dinner,2',\n",
       " '10.51,1.25,Male,No,Sat,Dinner,2',\n",
       " '17.92,3.08,Male,Yes,Sat,Dinner,2',\n",
       " '27.2,4.0,Male,No,Thur,Lunch,4',\n",
       " '22.76,3.0,Male,No,Thur,Lunch,2',\n",
       " '17.29,2.71,Male,No,Thur,Lunch,2',\n",
       " '19.44,3.0,Male,Yes,Thur,Lunch,2',\n",
       " '16.66,3.4,Male,No,Thur,Lunch,2',\n",
       " '10.07,1.83,Female,No,Thur,Lunch,1',\n",
       " '32.68,5.0,Male,Yes,Thur,Lunch,2',\n",
       " '15.98,2.03,Male,No,Thur,Lunch,2',\n",
       " '34.83,5.17,Female,No,Thur,Lunch,4',\n",
       " '13.03,2.0,Male,No,Thur,Lunch,2',\n",
       " '18.28,4.0,Male,No,Thur,Lunch,2',\n",
       " '24.71,5.85,Male,No,Thur,Lunch,2',\n",
       " '21.16,3.0,Male,No,Thur,Lunch,2',\n",
       " '28.97,3.0,Male,Yes,Fri,Dinner,2',\n",
       " '22.49,3.5,Male,No,Fri,Dinner,2',\n",
       " '5.75,1.0,Female,Yes,Fri,Dinner,2',\n",
       " '16.32,4.3,Female,Yes,Fri,Dinner,2',\n",
       " '22.75,3.25,Female,No,Fri,Dinner,2',\n",
       " '40.17,4.73,Male,Yes,Fri,Dinner,4',\n",
       " '27.28,4.0,Male,Yes,Fri,Dinner,2',\n",
       " '12.03,1.5,Male,Yes,Fri,Dinner,2',\n",
       " '21.01,3.0,Male,Yes,Fri,Dinner,2',\n",
       " '12.46,1.5,Male,No,Fri,Dinner,2',\n",
       " '11.35,2.5,Female,Yes,Fri,Dinner,2',\n",
       " '15.38,3.0,Female,Yes,Fri,Dinner,2',\n",
       " '44.3,2.5,Female,Yes,Sat,Dinner,3',\n",
       " '22.42,3.48,Female,Yes,Sat,Dinner,2',\n",
       " '20.92,4.08,Female,No,Sat,Dinner,2',\n",
       " '15.36,1.64,Male,Yes,Sat,Dinner,2',\n",
       " '20.49,4.06,Male,Yes,Sat,Dinner,2',\n",
       " '25.21,4.29,Male,Yes,Sat,Dinner,2',\n",
       " '18.24,3.76,Male,No,Sat,Dinner,2',\n",
       " '14.31,4.0,Female,Yes,Sat,Dinner,2',\n",
       " '14.0,3.0,Male,No,Sat,Dinner,2',\n",
       " '7.25,1.0,Female,No,Sat,Dinner,1',\n",
       " '38.07,4.0,Male,No,Sun,Dinner,3',\n",
       " '23.95,2.55,Male,No,Sun,Dinner,2',\n",
       " '25.71,4.0,Female,No,Sun,Dinner,3',\n",
       " '17.31,3.5,Female,No,Sun,Dinner,2',\n",
       " '29.93,5.07,Male,No,Sun,Dinner,4',\n",
       " '10.65,1.5,Female,No,Thur,Lunch,2',\n",
       " '12.43,1.8,Female,No,Thur,Lunch,2',\n",
       " '24.08,2.92,Female,No,Thur,Lunch,4',\n",
       " '11.69,2.31,Male,No,Thur,Lunch,2',\n",
       " '13.42,1.68,Female,No,Thur,Lunch,2',\n",
       " '14.26,2.5,Male,No,Thur,Lunch,2',\n",
       " '15.95,2.0,Male,No,Thur,Lunch,2',\n",
       " '12.48,2.52,Female,No,Thur,Lunch,2',\n",
       " '29.8,4.2,Female,No,Thur,Lunch,6',\n",
       " '8.52,1.48,Male,No,Thur,Lunch,2',\n",
       " '14.52,2.0,Female,No,Thur,Lunch,2',\n",
       " '11.38,2.0,Female,No,Thur,Lunch,2',\n",
       " '22.82,2.18,Male,No,Thur,Lunch,3',\n",
       " '19.08,1.5,Male,No,Thur,Lunch,2',\n",
       " '20.27,2.83,Female,No,Thur,Lunch,2',\n",
       " '11.17,1.5,Female,No,Thur,Lunch,2',\n",
       " '12.26,2.0,Female,No,Thur,Lunch,2',\n",
       " '18.26,3.25,Female,No,Thur,Lunch,2',\n",
       " '8.51,1.25,Female,No,Thur,Lunch,2',\n",
       " '10.33,2.0,Female,No,Thur,Lunch,2',\n",
       " '14.15,2.0,Female,No,Thur,Lunch,2',\n",
       " '16.0,2.0,Male,Yes,Thur,Lunch,2',\n",
       " '13.16,2.75,Female,No,Thur,Lunch,2',\n",
       " '17.47,3.5,Female,No,Thur,Lunch,2',\n",
       " '34.3,6.7,Male,No,Thur,Lunch,6',\n",
       " '41.19,5.0,Male,No,Thur,Lunch,5',\n",
       " '27.05,5.0,Female,No,Thur,Lunch,6',\n",
       " '16.43,2.3,Female,No,Thur,Lunch,2',\n",
       " '8.35,1.5,Female,No,Thur,Lunch,2',\n",
       " '18.64,1.36,Female,No,Thur,Lunch,3',\n",
       " '11.87,1.63,Female,No,Thur,Lunch,2',\n",
       " '9.78,1.73,Male,No,Thur,Lunch,2',\n",
       " '7.51,2.0,Male,No,Thur,Lunch,2',\n",
       " '14.07,2.5,Male,No,Sun,Dinner,2',\n",
       " '13.13,2.0,Male,No,Sun,Dinner,2',\n",
       " '17.26,2.74,Male,No,Sun,Dinner,3',\n",
       " '24.55,2.0,Male,No,Sun,Dinner,4',\n",
       " '19.77,2.0,Male,No,Sun,Dinner,4',\n",
       " '29.85,5.14,Female,No,Sun,Dinner,5',\n",
       " '48.17,5.0,Male,No,Sun,Dinner,6',\n",
       " '25.0,3.75,Female,No,Sun,Dinner,4',\n",
       " '13.39,2.61,Female,No,Sun,Dinner,2',\n",
       " '16.49,2.0,Male,No,Sun,Dinner,4',\n",
       " '21.5,3.5,Male,No,Sun,Dinner,4',\n",
       " '12.66,2.5,Male,No,Sun,Dinner,2',\n",
       " '16.21,2.0,Female,No,Sun,Dinner,3',\n",
       " '13.81,2.0,Male,No,Sun,Dinner,2',\n",
       " '17.51,3.0,Female,Yes,Sun,Dinner,2',\n",
       " '24.52,3.48,Male,No,Sun,Dinner,3',\n",
       " '20.76,2.24,Male,No,Sun,Dinner,2',\n",
       " '31.71,4.5,Male,No,Sun,Dinner,4',\n",
       " '10.59,1.61,Female,Yes,Sat,Dinner,2',\n",
       " '10.63,2.0,Female,Yes,Sat,Dinner,2',\n",
       " '50.81,10.0,Male,Yes,Sat,Dinner,3',\n",
       " '15.81,3.16,Male,Yes,Sat,Dinner,2',\n",
       " '7.25,5.15,Male,Yes,Sun,Dinner,2',\n",
       " '31.85,3.18,Male,Yes,Sun,Dinner,2',\n",
       " '16.82,4.0,Male,Yes,Sun,Dinner,2',\n",
       " '32.9,3.11,Male,Yes,Sun,Dinner,2',\n",
       " '17.89,2.0,Male,Yes,Sun,Dinner,2',\n",
       " '14.48,2.0,Male,Yes,Sun,Dinner,2',\n",
       " '9.6,4.0,Female,Yes,Sun,Dinner,2',\n",
       " '34.63,3.55,Male,Yes,Sun,Dinner,2',\n",
       " '34.65,3.68,Male,Yes,Sun,Dinner,4',\n",
       " '23.33,5.65,Male,Yes,Sun,Dinner,2',\n",
       " '45.35,3.5,Male,Yes,Sun,Dinner,3',\n",
       " '23.17,6.5,Male,Yes,Sun,Dinner,4',\n",
       " '40.55,3.0,Male,Yes,Sun,Dinner,2',\n",
       " '20.69,5.0,Male,No,Sun,Dinner,5',\n",
       " '20.9,3.5,Female,Yes,Sun,Dinner,3',\n",
       " '30.46,2.0,Male,Yes,Sun,Dinner,5',\n",
       " '18.15,3.5,Female,Yes,Sun,Dinner,3',\n",
       " '23.1,4.0,Male,Yes,Sun,Dinner,3',\n",
       " '15.69,1.5,Male,Yes,Sun,Dinner,2',\n",
       " '19.81,4.19,Female,Yes,Thur,Lunch,2',\n",
       " '28.44,2.56,Male,Yes,Thur,Lunch,2',\n",
       " '15.48,2.02,Male,Yes,Thur,Lunch,2',\n",
       " '16.58,4.0,Male,Yes,Thur,Lunch,2',\n",
       " '7.56,1.44,Male,No,Thur,Lunch,2',\n",
       " '10.34,2.0,Male,Yes,Thur,Lunch,2',\n",
       " '43.11,5.0,Female,Yes,Thur,Lunch,4',\n",
       " '13.0,2.0,Female,Yes,Thur,Lunch,2',\n",
       " '13.51,2.0,Male,Yes,Thur,Lunch,2',\n",
       " '18.71,4.0,Male,Yes,Thur,Lunch,3',\n",
       " '12.74,2.01,Female,Yes,Thur,Lunch,2',\n",
       " '13.0,2.0,Female,Yes,Thur,Lunch,2',\n",
       " '16.4,2.5,Female,Yes,Thur,Lunch,2',\n",
       " '20.53,4.0,Male,Yes,Thur,Lunch,4',\n",
       " '16.47,3.23,Female,Yes,Thur,Lunch,3',\n",
       " '26.59,3.41,Male,Yes,Sat,Dinner,3',\n",
       " '38.73,3.0,Male,Yes,Sat,Dinner,4',\n",
       " '24.27,2.03,Male,Yes,Sat,Dinner,2',\n",
       " '12.76,2.23,Female,Yes,Sat,Dinner,2',\n",
       " '30.06,2.0,Male,Yes,Sat,Dinner,3',\n",
       " '25.89,5.16,Male,Yes,Sat,Dinner,4',\n",
       " '48.33,9.0,Male,No,Sat,Dinner,4',\n",
       " '13.27,2.5,Female,Yes,Sat,Dinner,2',\n",
       " '28.17,6.5,Female,Yes,Sat,Dinner,3',\n",
       " '12.9,1.1,Female,Yes,Sat,Dinner,2',\n",
       " '28.15,3.0,Male,Yes,Sat,Dinner,5',\n",
       " '11.59,1.5,Male,Yes,Sat,Dinner,2',\n",
       " '7.74,1.44,Male,Yes,Sat,Dinner,2',\n",
       " '30.14,3.09,Female,Yes,Sat,Dinner,4',\n",
       " '12.16,2.2,Male,Yes,Fri,Lunch,2',\n",
       " '13.42,3.48,Female,Yes,Fri,Lunch,2',\n",
       " '8.58,1.92,Male,Yes,Fri,Lunch,1',\n",
       " '15.98,3.0,Female,No,Fri,Lunch,3',\n",
       " '13.42,1.58,Male,Yes,Fri,Lunch,2',\n",
       " '16.27,2.5,Female,Yes,Fri,Lunch,2',\n",
       " '10.09,2.0,Female,Yes,Fri,Lunch,2',\n",
       " '20.45,3.0,Male,No,Sat,Dinner,4',\n",
       " '13.28,2.72,Male,No,Sat,Dinner,2',\n",
       " '22.12,2.88,Female,Yes,Sat,Dinner,2',\n",
       " '24.01,2.0,Male,Yes,Sat,Dinner,4',\n",
       " '15.69,3.0,Male,Yes,Sat,Dinner,3',\n",
       " '11.61,3.39,Male,No,Sat,Dinner,2',\n",
       " '10.77,1.47,Male,No,Sat,Dinner,2',\n",
       " '15.53,3.0,Male,Yes,Sat,Dinner,2',\n",
       " '10.07,1.25,Male,No,Sat,Dinner,2',\n",
       " '12.6,1.0,Male,Yes,Sat,Dinner,2',\n",
       " '32.83,1.17,Male,Yes,Sat,Dinner,2',\n",
       " '35.83,4.67,Female,No,Sat,Dinner,3',\n",
       " '29.03,5.92,Male,No,Sat,Dinner,3',\n",
       " '27.18,2.0,Female,Yes,Sat,Dinner,2',\n",
       " '22.67,2.0,Male,Yes,Sat,Dinner,2',\n",
       " '17.82,1.75,Male,No,Sat,Dinner,2',\n",
       " '18.78,3.0,Female,No,Thur,Dinner,2']"
      ]
     },
     "execution_count": 1,
     "metadata": {},
     "output_type": "execute_result"
    }
   ],
   "source": [
    "import nvstrings, nvcategory\n",
    "import requests\n",
    "\n",
    "url=\"https://github.com/plotly/datasets/raw/master/tips.csv\"\n",
    "content = requests.get(url).content.decode('utf-8')\n",
    "\n",
    "#split content into a list, remove header\n",
    "host_lines = content.strip().split('\\n')[1:]\n",
    "host_lines"
   ]
  },
  {
   "cell_type": "code",
   "execution_count": 27,
   "metadata": {},
   "outputs": [
    {
     "name": "stdout",
     "output_type": "stream",
     "text": [
      "['Fri', 'Sat', 'Sun', 'Thur']\n",
      "['0', '0', '0', '0', '0', '0', '0', '0', '0', '0', '0', '0', '0', '0', '0', '0', '0', '0', '0', '6', '6', '6', '6', '6', '6', '6', '6', '6', '6', '6', '6', '6', '6', '6', '6', '6', '6', '6', '6', '6', '6', '0', '0', '0', '0', '0', '0', '0', '0', '0', '0', '0', '0', '0', '0', '0', '6', '6', '6', '6', '6', '6', '6', '6', '6', '6', '6', '6', '6', '6', '6', '6', '6', '6', '6', '6', '6', '4', '4', '4', '4', '4', '4', '4', '4', '4', '4', '4', '4', '4', '5', '5', '5', '5', '5', '5', '5', '5', '5', '5', '5', '5', '6', '6', '6', '6', '6', '6', '6', '6', '6', '6', '0', '0', '0', '0', '0', '4', '4', '4', '4', '4', '4', '4', '4', '4', '4', '4', '4', '4', '4', '4', '4', '4', '4', '4', '4', '4', '4', '4', '4', '4', '4', '4', '4', '4', '4', '4', '4', '4', '0', '0', '0', '0', '0', '0', '0', '0', '0', '0', '0', '0', '0', '0', '0', '0', '0', '0', '6', '6', '6', '6', '0', '0', '0', '0', '0', '0', '0', '0', '0', '0', '0', '0', '0', '0', '0', '0', '0', '0', '0', '4', '4', '4', '4', '4', '4', '4', '4', '4', '4', '4', '4', '4', '4', '4', '6', '6', '6', '6', '6', '6', '6', '6', '6', '6', '6', '6', '6', '6', '5', '5', '5', '5', '5', '5', '5', '6', '6', '6', '6', '6', '6', '6', '6', '6', '6', '6', '6', '6', '6', '6', '6', '4']\n"
     ]
    }
   ],
   "source": [
    "#copy strings to gpu\n",
    "gpu_lines = nvstrings.to_device(host_lines)\n",
    "\n",
    "#split into columns on gpu\n",
    "gpu_columns = gpu_lines.split(',')\n",
    "gpu_day_of_week = gpu_columns[4]\n",
    "\n",
    "#use gpu `replace` to re-encode tokens on GPU\n",
    "for idx, day in enumerate(['Sun', 'Mon', 'Tues', 'Wed', 'Thur', 'Fri', 'Sat']):\n",
    "    gpu_day_of_week = gpu_day_of_week.replace(day, str(idx))\n",
    "\n",
    "# or, use nvcategory's builtin GPU categorization\n",
    "cat = nvcategory.from_strings(gpu_columns[4])\n",
    "\n",
    "# copy category keys to host and print\n",
    "print(cat.keys())\n",
    "\n",
    "# copy \"cleaned\" strings to host and print\n",
    "print(gpu_day_of_week)"
   ]
  },
  {
   "cell_type": "code",
   "execution_count": 29,
   "metadata": {},
   "outputs": [
    {
     "name": "stdout",
     "output_type": "stream",
     "text": [
      "['16.99,1.01,Female,No,Sun,Dinner,2', '10.34,1.66,Male,No,Sun,Dinner,3', '21.01,3.5,Male,No,Sun,Dinner,3', '23.68,3.31,Male,No,Sun,Dinner,2', '24.59,3.61,Female,No,Sun,Dinner,4', '25.29,4.71,Male,No,Sun,Dinner,4', '8.77,2.0,Male,No,Sun,Dinner,2', '26.88,3.12,Male,No,Sun,Dinner,4', '15.04,1.96,Male,No,Sun,Dinner,2', '14.78,3.23,Male,No,Sun,Dinner,2', '10.27,1.71,Male,No,Sun,Dinner,2', '35.26,5.0,Female,No,Sun,Dinner,4', '15.42,1.57,Male,No,Sun,Dinner,2', '18.43,3.0,Male,No,Sun,Dinner,4', '14.83,3.02,Female,No,Sun,Dinner,2', '21.58,3.92,Male,No,Sun,Dinner,2', '10.33,1.67,Female,No,Sun,Dinner,3', '16.29,3.71,Male,No,Sun,Dinner,3', '16.97,3.5,Female,No,Sun,Dinner,3', '20.65,3.35,Male,No,Sat,Dinner,3', '17.92,4.08,Male,No,Sat,Dinner,2', '20.29,2.75,Female,No,Sat,Dinner,2', '15.77,2.23,Female,No,Sat,Dinner,2', '39.42,7.58,Male,No,Sat,Dinner,4', '19.82,3.18,Male,No,Sat,Dinner,2', '17.81,2.34,Male,No,Sat,Dinner,4', '13.37,2.0,Male,No,Sat,Dinner,2', '12.69,2.0,Male,No,Sat,Dinner,2', '21.7,4.3,Male,No,Sat,Dinner,2', '19.65,3.0,Female,No,Sat,Dinner,2', '9.55,1.45,Male,No,Sat,Dinner,2', '18.35,2.5,Male,No,Sat,Dinner,4', '15.06,3.0,Female,No,Sat,Dinner,2', '20.69,2.45,Female,No,Sat,Dinner,4', '17.78,3.27,Male,No,Sat,Dinner,2', '24.06,3.6,Male,No,Sat,Dinner,3', '16.31,2.0,Male,No,Sat,Dinner,3', '16.93,3.07,Female,No,Sat,Dinner,3', '18.69,2.31,Male,No,Sat,Dinner,3', '31.27,5.0,Male,No,Sat,Dinner,3', '16.04,2.24,Male,No,Sat,Dinner,3', '17.46,2.54,Male,No,Sun,Dinner,2', '13.94,3.06,Male,No,Sun,Dinner,2', '9.68,1.32,Male,No,Sun,Dinner,2', '30.4,5.6,Male,No,Sun,Dinner,4', '18.29,3.0,Male,No,Sun,Dinner,2', '22.23,5.0,Male,No,Sun,Dinner,2', '32.4,6.0,Male,No,Sun,Dinner,4', '28.55,2.05,Male,No,Sun,Dinner,3', '18.04,3.0,Male,No,Sun,Dinner,2', '12.54,2.5,Male,No,Sun,Dinner,2', '10.29,2.6,Female,No,Sun,Dinner,2', '34.81,5.2,Female,No,Sun,Dinner,4', '9.94,1.56,Male,No,Sun,Dinner,2', '25.56,4.34,Male,No,Sun,Dinner,4', '19.49,3.51,Male,No,Sun,Dinner,2', '38.01,3.0,Male,Yes,Sat,Dinner,4', '26.41,1.5,Female,No,Sat,Dinner,2', '11.24,1.76,Male,Yes,Sat,Dinner,2', '48.27,6.73,Male,No,Sat,Dinner,4', '20.29,3.21,Male,Yes,Sat,Dinner,2', '13.81,2.0,Male,Yes,Sat,Dinner,2', '11.02,1.98,Male,Yes,Sat,Dinner,2', '18.29,3.76,Male,Yes,Sat,Dinner,4', '17.59,2.64,Male,No,Sat,Dinner,3', '20.08,3.15,Male,No,Sat,Dinner,3', '16.45,2.47,Female,No,Sat,Dinner,2', '3.07,1.0,Female,Yes,Sat,Dinner,1', '20.23,2.01,Male,No,Sat,Dinner,2', '15.01,2.09,Male,Yes,Sat,Dinner,2', '12.02,1.97,Male,No,Sat,Dinner,2', '17.07,3.0,Female,No,Sat,Dinner,3', '26.86,3.14,Female,Yes,Sat,Dinner,2', '25.28,5.0,Female,Yes,Sat,Dinner,2', '14.73,2.2,Female,No,Sat,Dinner,2', '10.51,1.25,Male,No,Sat,Dinner,2', '17.92,3.08,Male,Yes,Sat,Dinner,2', '27.2,4.0,Male,No,Thur,Lunch,4', '22.76,3.0,Male,No,Thur,Lunch,2', '17.29,2.71,Male,No,Thur,Lunch,2', '19.44,3.0,Male,Yes,Thur,Lunch,2', '16.66,3.4,Male,No,Thur,Lunch,2', '10.07,1.83,Female,No,Thur,Lunch,1', '32.68,5.0,Male,Yes,Thur,Lunch,2', '15.98,2.03,Male,No,Thur,Lunch,2', '34.83,5.17,Female,No,Thur,Lunch,4', '13.03,2.0,Male,No,Thur,Lunch,2', '18.28,4.0,Male,No,Thur,Lunch,2', '24.71,5.85,Male,No,Thur,Lunch,2', '21.16,3.0,Male,No,Thur,Lunch,2', '28.97,3.0,Male,Yes,Fri,Dinner,2', '22.49,3.5,Male,No,Fri,Dinner,2', '5.75,1.0,Female,Yes,Fri,Dinner,2', '16.32,4.3,Female,Yes,Fri,Dinner,2', '22.75,3.25,Female,No,Fri,Dinner,2', '40.17,4.73,Male,Yes,Fri,Dinner,4', '27.28,4.0,Male,Yes,Fri,Dinner,2', '12.03,1.5,Male,Yes,Fri,Dinner,2', '21.01,3.0,Male,Yes,Fri,Dinner,2', '12.46,1.5,Male,No,Fri,Dinner,2', '11.35,2.5,Female,Yes,Fri,Dinner,2', '15.38,3.0,Female,Yes,Fri,Dinner,2', '44.3,2.5,Female,Yes,Sat,Dinner,3', '22.42,3.48,Female,Yes,Sat,Dinner,2', '20.92,4.08,Female,No,Sat,Dinner,2', '15.36,1.64,Male,Yes,Sat,Dinner,2', '20.49,4.06,Male,Yes,Sat,Dinner,2', '25.21,4.29,Male,Yes,Sat,Dinner,2', '18.24,3.76,Male,No,Sat,Dinner,2', '14.31,4.0,Female,Yes,Sat,Dinner,2', '14.0,3.0,Male,No,Sat,Dinner,2', '7.25,1.0,Female,No,Sat,Dinner,1', '38.07,4.0,Male,No,Sun,Dinner,3', '23.95,2.55,Male,No,Sun,Dinner,2', '25.71,4.0,Female,No,Sun,Dinner,3', '17.31,3.5,Female,No,Sun,Dinner,2', '29.93,5.07,Male,No,Sun,Dinner,4', '10.65,1.5,Female,No,Thur,Lunch,2', '12.43,1.8,Female,No,Thur,Lunch,2', '24.08,2.92,Female,No,Thur,Lunch,4', '11.69,2.31,Male,No,Thur,Lunch,2', '13.42,1.68,Female,No,Thur,Lunch,2', '14.26,2.5,Male,No,Thur,Lunch,2', '15.95,2.0,Male,No,Thur,Lunch,2', '12.48,2.52,Female,No,Thur,Lunch,2', '29.8,4.2,Female,No,Thur,Lunch,6', '8.52,1.48,Male,No,Thur,Lunch,2', '14.52,2.0,Female,No,Thur,Lunch,2', '11.38,2.0,Female,No,Thur,Lunch,2', '22.82,2.18,Male,No,Thur,Lunch,3', '19.08,1.5,Male,No,Thur,Lunch,2', '20.27,2.83,Female,No,Thur,Lunch,2', '11.17,1.5,Female,No,Thur,Lunch,2', '12.26,2.0,Female,No,Thur,Lunch,2', '18.26,3.25,Female,No,Thur,Lunch,2', '8.51,1.25,Female,No,Thur,Lunch,2', '10.33,2.0,Female,No,Thur,Lunch,2', '14.15,2.0,Female,No,Thur,Lunch,2', '16.0,2.0,Male,Yes,Thur,Lunch,2', '13.16,2.75,Female,No,Thur,Lunch,2', '17.47,3.5,Female,No,Thur,Lunch,2', '34.3,6.7,Male,No,Thur,Lunch,6', '41.19,5.0,Male,No,Thur,Lunch,5', '27.05,5.0,Female,No,Thur,Lunch,6', '16.43,2.3,Female,No,Thur,Lunch,2', '8.35,1.5,Female,No,Thur,Lunch,2', '18.64,1.36,Female,No,Thur,Lunch,3', '11.87,1.63,Female,No,Thur,Lunch,2', '9.78,1.73,Male,No,Thur,Lunch,2', '7.51,2.0,Male,No,Thur,Lunch,2', '14.07,2.5,Male,No,Sun,Dinner,2', '13.13,2.0,Male,No,Sun,Dinner,2', '17.26,2.74,Male,No,Sun,Dinner,3', '24.55,2.0,Male,No,Sun,Dinner,4', '19.77,2.0,Male,No,Sun,Dinner,4', '29.85,5.14,Female,No,Sun,Dinner,5', '48.17,5.0,Male,No,Sun,Dinner,6', '25.0,3.75,Female,No,Sun,Dinner,4', '13.39,2.61,Female,No,Sun,Dinner,2', '16.49,2.0,Male,No,Sun,Dinner,4', '21.5,3.5,Male,No,Sun,Dinner,4', '12.66,2.5,Male,No,Sun,Dinner,2', '16.21,2.0,Female,No,Sun,Dinner,3', '13.81,2.0,Male,No,Sun,Dinner,2', '17.51,3.0,Female,Yes,Sun,Dinner,2', '24.52,3.48,Male,No,Sun,Dinner,3', '20.76,2.24,Male,No,Sun,Dinner,2', '31.71,4.5,Male,No,Sun,Dinner,4', '10.59,1.61,Female,Yes,Sat,Dinner,2', '10.63,2.0,Female,Yes,Sat,Dinner,2', '50.81,10.0,Male,Yes,Sat,Dinner,3', '15.81,3.16,Male,Yes,Sat,Dinner,2', '7.25,5.15,Male,Yes,Sun,Dinner,2', '31.85,3.18,Male,Yes,Sun,Dinner,2', '16.82,4.0,Male,Yes,Sun,Dinner,2', '32.9,3.11,Male,Yes,Sun,Dinner,2', '17.89,2.0,Male,Yes,Sun,Dinner,2', '14.48,2.0,Male,Yes,Sun,Dinner,2', '9.6,4.0,Female,Yes,Sun,Dinner,2', '34.63,3.55,Male,Yes,Sun,Dinner,2', '34.65,3.68,Male,Yes,Sun,Dinner,4', '23.33,5.65,Male,Yes,Sun,Dinner,2', '45.35,3.5,Male,Yes,Sun,Dinner,3', '23.17,6.5,Male,Yes,Sun,Dinner,4', '40.55,3.0,Male,Yes,Sun,Dinner,2', '20.69,5.0,Male,No,Sun,Dinner,5', '20.9,3.5,Female,Yes,Sun,Dinner,3', '30.46,2.0,Male,Yes,Sun,Dinner,5', '18.15,3.5,Female,Yes,Sun,Dinner,3', '23.1,4.0,Male,Yes,Sun,Dinner,3', '15.69,1.5,Male,Yes,Sun,Dinner,2', '19.81,4.19,Female,Yes,Thur,Lunch,2', '28.44,2.56,Male,Yes,Thur,Lunch,2', '15.48,2.02,Male,Yes,Thur,Lunch,2', '16.58,4.0,Male,Yes,Thur,Lunch,2', '7.56,1.44,Male,No,Thur,Lunch,2', '10.34,2.0,Male,Yes,Thur,Lunch,2', '43.11,5.0,Female,Yes,Thur,Lunch,4', '13.0,2.0,Female,Yes,Thur,Lunch,2', '13.51,2.0,Male,Yes,Thur,Lunch,2', '18.71,4.0,Male,Yes,Thur,Lunch,3', '12.74,2.01,Female,Yes,Thur,Lunch,2', '13.0,2.0,Female,Yes,Thur,Lunch,2', '16.4,2.5,Female,Yes,Thur,Lunch,2', '20.53,4.0,Male,Yes,Thur,Lunch,4', '16.47,3.23,Female,Yes,Thur,Lunch,3', '26.59,3.41,Male,Yes,Sat,Dinner,3', '38.73,3.0,Male,Yes,Sat,Dinner,4', '24.27,2.03,Male,Yes,Sat,Dinner,2', '12.76,2.23,Female,Yes,Sat,Dinner,2', '30.06,2.0,Male,Yes,Sat,Dinner,3', '25.89,5.16,Male,Yes,Sat,Dinner,4', '48.33,9.0,Male,No,Sat,Dinner,4', '13.27,2.5,Female,Yes,Sat,Dinner,2', '28.17,6.5,Female,Yes,Sat,Dinner,3', '12.9,1.1,Female,Yes,Sat,Dinner,2', '28.15,3.0,Male,Yes,Sat,Dinner,5', '11.59,1.5,Male,Yes,Sat,Dinner,2', '7.74,1.44,Male,Yes,Sat,Dinner,2', '30.14,3.09,Female,Yes,Sat,Dinner,4', '12.16,2.2,Male,Yes,Fri,Lunch,2', '13.42,3.48,Female,Yes,Fri,Lunch,2', '8.58,1.92,Male,Yes,Fri,Lunch,1', '15.98,3.0,Female,No,Fri,Lunch,3', '13.42,1.58,Male,Yes,Fri,Lunch,2', '16.27,2.5,Female,Yes,Fri,Lunch,2', '10.09,2.0,Female,Yes,Fri,Lunch,2', '20.45,3.0,Male,No,Sat,Dinner,4', '13.28,2.72,Male,No,Sat,Dinner,2', '22.12,2.88,Female,Yes,Sat,Dinner,2', '24.01,2.0,Male,Yes,Sat,Dinner,4', '15.69,3.0,Male,Yes,Sat,Dinner,3', '11.61,3.39,Male,No,Sat,Dinner,2', '10.77,1.47,Male,No,Sat,Dinner,2', '15.53,3.0,Male,Yes,Sat,Dinner,2', '10.07,1.25,Male,No,Sat,Dinner,2', '12.6,1.0,Male,Yes,Sat,Dinner,2', '32.83,1.17,Male,Yes,Sat,Dinner,2', '35.83,4.67,Female,No,Sat,Dinner,3', '29.03,5.92,Male,No,Sat,Dinner,3', '27.18,2.0,Female,Yes,Sat,Dinner,2', '22.67,2.0,Male,Yes,Sat,Dinner,2', '17.82,1.75,Male,No,Sat,Dinner,2', '18.78,3.0,Female,No,Thur,Dinner,2']\n"
     ]
    }
   ],
   "source": [
    "print(gpu_lines)"
   ]
  }
 ],
 "metadata": {
  "kernelspec": {
   "display_name": "Python 3",
   "language": "python",
   "name": "python3"
  },
  "language_info": {
   "codemirror_mode": {
    "name": "ipython",
    "version": 3
   },
   "file_extension": ".py",
   "mimetype": "text/x-python",
   "name": "python",
   "nbconvert_exporter": "python",
   "pygments_lexer": "ipython3",
   "version": "3.6.8"
  }
 },
 "nbformat": 4,
 "nbformat_minor": 4
}
