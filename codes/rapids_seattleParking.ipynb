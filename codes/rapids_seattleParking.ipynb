{
 "cells": [
  {
   "cell_type": "markdown",
   "metadata": {},
   "source": [
    "# Load the modules"
   ]
  },
  {
   "cell_type": "code",
   "execution_count": 1,
   "metadata": {},
   "outputs": [],
   "source": [
    "import cudf\n",
    "import nvcategory\n",
    "import nvtext\n",
    "import nvstrings\n",
    "from collections import OrderedDict\n",
    "import numpy as np\n",
    "import datetime as dt\n",
    "\n",
    "%load_ext autotime"
   ]
  },
  {
   "cell_type": "code",
   "execution_count": 2,
   "metadata": {},
   "outputs": [
    {
     "name": "stdout",
     "output_type": "stream",
     "text": [
      "0.9.0\n",
      "time: 1.42 ms\n"
     ]
    }
   ],
   "source": [
    "print(cudf.__version__)"
   ]
  },
  {
   "cell_type": "code",
   "execution_count": 3,
   "metadata": {},
   "outputs": [
    {
     "name": "stdout",
     "output_type": "stream",
     "text": [
      "Mon Sep  2 18:38:13 2019       \n",
      "+-----------------------------------------------------------------------------+\n",
      "| NVIDIA-SMI 410.48                 Driver Version: 410.48                    |\n",
      "|-------------------------------+----------------------+----------------------+\n",
      "| GPU  Name        Persistence-M| Bus-Id        Disp.A | Volatile Uncorr. ECC |\n",
      "| Fan  Temp  Perf  Pwr:Usage/Cap|         Memory-Usage | GPU-Util  Compute M. |\n",
      "|===============================+======================+======================|\n",
      "|   0  Graphics Device     Off  | 00000000:01:00.0 Off |                  N/A |\n",
      "| 41%   51C    P2    70W / 280W |      0MiB / 24187MiB |      0%      Default |\n",
      "+-------------------------------+----------------------+----------------------+\n",
      "|   1  GeForce RTX 208...  Off  | 00000000:03:00.0 Off |                  N/A |\n",
      "| 41%   40C    P0    54W / 260W |      0MiB / 10989MiB |      0%      Default |\n",
      "+-------------------------------+----------------------+----------------------+\n",
      "                                                                               \n",
      "+-----------------------------------------------------------------------------+\n",
      "| Processes:                                                       GPU Memory |\n",
      "|  GPU       PID   Type   Process name                             Usage      |\n",
      "|=============================================================================|\n",
      "|  No running processes found                                                 |\n",
      "+-----------------------------------------------------------------------------+\n",
      "time: 532 ms\n"
     ]
    }
   ],
   "source": [
    "!nvidia-smi"
   ]
  },
  {
   "cell_type": "markdown",
   "metadata": {},
   "source": [
    "# Download the data\n",
    "If necessary, download the data from my website and unpack."
   ]
  },
  {
   "cell_type": "code",
   "execution_count": 4,
   "metadata": {},
   "outputs": [
    {
     "name": "stdout",
     "output_type": "stream",
     "text": [
      "time: 1.46 ms\n"
     ]
    }
   ],
   "source": [
    "import os\n",
    "\n",
    "directory = os.path.exists('../data')\n",
    "archive   = os.path.exists('../data/parking_MayJun2019.tar.gz')\n",
    "file      = os.path.exists('../data/parking_MayJun2019.csv')\n",
    "\n",
    "if not directory:\n",
    "    os.mkdir('../data')\n",
    "\n",
    "if not archive:\n",
    "    import wget, shutil\n",
    "    \n",
    "    def bar_custom(current, total, width=80):\n",
    "            print('Downloading: %d%% [%d / %d] bytes' % (current / total * 100.0, current, total))\n",
    "        \n",
    "    wget.download('http://tomdrabas.com/data/seattle_parking/parking_MayJun2019.tar.gz')\n",
    "    shutil.move('parking_MayJun2019.tar.gz', '../data/parking_MayJun2019.tar.gz')\n",
    "    \n",
    "if not file:\n",
    "    import tarfile\n",
    "\n",
    "    tf = tarfile.open('../data/parking_MayJun2019.tar.gz')\n",
    "    tf.extractall(path='../data/')"
   ]
  },
  {
   "cell_type": "markdown",
   "metadata": {},
   "source": [
    "# Read the data"
   ]
  },
  {
   "cell_type": "code",
   "execution_count": 5,
   "metadata": {},
   "outputs": [
    {
     "name": "stdout",
     "output_type": "stream",
     "text": [
      "OccupancyDateTime,PaidOccupancy,BlockfaceName,SideOfStreet,SourceElementKey,ParkingTimeLimitCategory,ParkingSpaceCount,PaidParkingArea,PaidParkingSubArea,PaidParkingRate,ParkingCategory,Location,dow\n",
      "2019-05-24T08:35:00,1,SENECA ST BETWEEN BOYLSTON AVE AND HARVARD AVE,SE,35438,120,4,First Hill,,,Paid Parking,POINT (-122.32245377 47.61236006),4\n",
      "2019-05-24T19:57:00,3,REPUBLICAN ST BETWEEN QUEEN ANNE AVE N AND 1ST AVE N,S,57862,120,3,Uptown,Core,,Paid Parking,POINT (-122.35604157 47.62320827),4\n",
      "2019-05-24T11:21:00,1,8TH AVE BETWEEN PINE ST AND OLIVE WAY,NE,53542,120,4,Commercial Core,Retail,,Paid Parking,POINT (-122.33353011 47.61360677),4\n",
      "2019-05-24T11:56:00,2,BLANCHARD ST BETWEEN 1ST AVE AND 2ND AVE,SE,9354,120,4,Belltown,South,,Paid Parking,POINT (-122.3446913 47.61292255),4\n",
      "2019-05-24T10:57:00,13,VALLEY ST BETWEEN MINOR AVE N AND YALE AVE N,N,35889,600,7,South Lake Union,North,,Paid Parking,POINT (-122.33168043 47.62602813),4\n",
      "2019-05-24T09:23:00,1,PIKE ST BETWEEN 4TH AVE AND 5TH AVE,NW,34837,120,4,Commercial Core,Retail,,Paid Parking,POINT (-122.33621419 47.61050049),4\n",
      "2019-05-24T16:01:00,4,E UNION ST BETWEEN BROADWAY AND BROADWAY CT,N,37437,120,1,Pike-Pine,,,Paid Parking,POINT (-122.32024972 47.6130204),4\n",
      "2019-05-24T16:39:00,5,8TH AVE BETWEEN OLIVE WAY AND STEWART ST,SW,8389,120,12,Denny Triangle,South,,Paid Parking,POINT (-122.33478081 47.61448278),4\n",
      "2019-05-24T13:21:00,6,4TH AVE BETWEEN BLANCHARD ST AND BELL ST,NE,51490,120,12,Belltown,South,,Paid Parking,POINT (-122.34320344 47.61503886),4\n",
      "time: 499 ms\n"
     ]
    }
   ],
   "source": [
    "!head -n 10 ../data/parking_MayJun2019.csv"
   ]
  },
  {
   "cell_type": "code",
   "execution_count": 6,
   "metadata": {},
   "outputs": [
    {
     "name": "stdout",
     "output_type": "stream",
     "text": [
      "time: 6.39 s\n"
     ]
    }
   ],
   "source": [
    "dtypes = OrderedDict([\n",
    "    ('OccupancyDateTime', 'date'),\n",
    "    ('PaidOccupancy', 'int64'),\n",
    "    ('BlockfaceName', 'str'),\n",
    "    ('SideOfStreet', 'str'),\n",
    "    ('SourceElementKey', 'int64'),\n",
    "    ('ParkingTimeLimitCategory', 'int64'),\n",
    "    ('ParkingSpaceCount', 'int64'),\n",
    "    ('PaidParkingArea', 'str'),\n",
    "    ('PaidParkingSubArea', 'str'),\n",
    "    ('PaidParkingRate', 'int8'),\n",
    "    ('ParkingCategory', 'str'),\n",
    "    ('Location', 'str'),\n",
    "    ('DayOfWeek', 'int8')\n",
    "])\n",
    "\n",
    "df = cudf.read_csv(\n",
    "    '../data/parking_MayJun2019.csv'\n",
    "    , skiprows=1\n",
    "    , dtype=list(dtypes.values())\n",
    "    , names=list(dtypes.keys())\n",
    ")"
   ]
  },
  {
   "cell_type": "code",
   "execution_count": 7,
   "metadata": {},
   "outputs": [
    {
     "name": "stdout",
     "output_type": "stream",
     "text": [
      "Filesize: 6.78GB\n",
      "time: 551 µs\n"
     ]
    }
   ],
   "source": [
    "# size of the file\n",
    "import os\n",
    "print('Filesize: {0:.2f}GB'.format(os.path.getsize('../data/parking_MayJun2019.csv') / (1024 ** 3)))"
   ]
  },
  {
   "cell_type": "code",
   "execution_count": 8,
   "metadata": {},
   "outputs": [
    {
     "name": "stdout",
     "output_type": "stream",
     "text": [
      "time: 11.8 ms\n"
     ]
    }
   ],
   "source": [
    "df['PaidOccupancy']     = df['PaidOccupancy'].astype('float64')\n",
    "df['ParkingSpaceCount'] = df['ParkingSpaceCount'].astype('float64')"
   ]
  },
  {
   "cell_type": "code",
   "execution_count": 9,
   "metadata": {},
   "outputs": [
    {
     "data": {
      "text/plain": [
       "OccupancyDateTime           datetime64[ms]\n",
       "PaidOccupancy                      float64\n",
       "BlockfaceName                       object\n",
       "SideOfStreet                        object\n",
       "SourceElementKey                     int64\n",
       "ParkingTimeLimitCategory             int64\n",
       "ParkingSpaceCount                  float64\n",
       "PaidParkingArea                     object\n",
       "PaidParkingSubArea                  object\n",
       "PaidParkingRate                       int8\n",
       "ParkingCategory                     object\n",
       "Location                            object\n",
       "DayOfWeek                             int8\n",
       "dtype: object"
      ]
     },
     "execution_count": 9,
     "metadata": {},
     "output_type": "execute_result"
    },
    {
     "name": "stdout",
     "output_type": "stream",
     "text": [
      "time: 14.5 ms\n"
     ]
    }
   ],
   "source": [
    "df.dtypes"
   ]
  },
  {
   "cell_type": "code",
   "execution_count": 12,
   "metadata": {},
   "outputs": [
    {
     "name": "stdout",
     "output_type": "stream",
     "text": [
      "The dataset has 48675039 records and 13 columns.\n",
      "time: 2.22 ms\n"
     ]
    }
   ],
   "source": [
    "print('The dataset has {0} records and {1} columns.'.format(*df.shape))"
   ]
  },
  {
   "cell_type": "code",
   "execution_count": 11,
   "metadata": {},
   "outputs": [
    {
     "name": "stdout",
     "output_type": "stream",
     "text": [
      "Index(['OccupancyDateTime', 'PaidOccupancy', 'BlockfaceName', 'SideOfStreet',\n",
      "       'SourceElementKey', 'ParkingTimeLimitCategory', 'ParkingSpaceCount',\n",
      "       'PaidParkingArea', 'PaidParkingSubArea', 'PaidParkingRate',\n",
      "       'ParkingCategory', 'Location', 'DayOfWeek'],\n",
      "      dtype='object')\n",
      "time: 1.56 ms\n"
     ]
    }
   ],
   "source": [
    "print(df.columns)"
   ]
  },
  {
   "cell_type": "code",
   "execution_count": 13,
   "metadata": {},
   "outputs": [
    {
     "data": {
      "text/html": [
       "<div>\n",
       "<style scoped>\n",
       "    .dataframe tbody tr th:only-of-type {\n",
       "        vertical-align: middle;\n",
       "    }\n",
       "\n",
       "    .dataframe tbody tr th {\n",
       "        vertical-align: top;\n",
       "    }\n",
       "\n",
       "    .dataframe thead th {\n",
       "        text-align: right;\n",
       "    }\n",
       "</style>\n",
       "<table border=\"1\" class=\"dataframe\">\n",
       "  <thead>\n",
       "    <tr style=\"text-align: right;\">\n",
       "      <th></th>\n",
       "      <th>OccupancyDateTime</th>\n",
       "      <th>PaidOccupancy</th>\n",
       "      <th>BlockfaceName</th>\n",
       "      <th>SideOfStreet</th>\n",
       "      <th>SourceElementKey</th>\n",
       "      <th>ParkingTimeLimitCategory</th>\n",
       "      <th>ParkingSpaceCount</th>\n",
       "      <th>PaidParkingArea</th>\n",
       "      <th>PaidParkingSubArea</th>\n",
       "      <th>PaidParkingRate</th>\n",
       "      <th>ParkingCategory</th>\n",
       "      <th>Location</th>\n",
       "      <th>DayOfWeek</th>\n",
       "    </tr>\n",
       "  </thead>\n",
       "  <tbody>\n",
       "    <tr>\n",
       "      <th>0</th>\n",
       "      <td>2019-05-24 08:35:00</td>\n",
       "      <td>1.0</td>\n",
       "      <td>SENECA ST BETWEEN BOYLSTON AVE AND HARVARD AVE</td>\n",
       "      <td>SE</td>\n",
       "      <td>35438</td>\n",
       "      <td>120</td>\n",
       "      <td>4.0</td>\n",
       "      <td>First Hill</td>\n",
       "      <td>None</td>\n",
       "      <td>-1</td>\n",
       "      <td>Paid Parking</td>\n",
       "      <td>POINT (-122.32245377 47.61236006)</td>\n",
       "      <td>4</td>\n",
       "    </tr>\n",
       "    <tr>\n",
       "      <th>1</th>\n",
       "      <td>2019-05-24 19:57:00</td>\n",
       "      <td>3.0</td>\n",
       "      <td>REPUBLICAN ST BETWEEN QUEEN ANNE AVE N AND 1ST...</td>\n",
       "      <td>S</td>\n",
       "      <td>57862</td>\n",
       "      <td>120</td>\n",
       "      <td>3.0</td>\n",
       "      <td>Uptown</td>\n",
       "      <td>Core</td>\n",
       "      <td>-1</td>\n",
       "      <td>Paid Parking</td>\n",
       "      <td>POINT (-122.35604157 47.62320827)</td>\n",
       "      <td>4</td>\n",
       "    </tr>\n",
       "    <tr>\n",
       "      <th>2</th>\n",
       "      <td>2019-05-24 11:21:00</td>\n",
       "      <td>1.0</td>\n",
       "      <td>8TH AVE BETWEEN PINE ST AND OLIVE WAY</td>\n",
       "      <td>NE</td>\n",
       "      <td>53542</td>\n",
       "      <td>120</td>\n",
       "      <td>4.0</td>\n",
       "      <td>Commercial Core</td>\n",
       "      <td>Retail</td>\n",
       "      <td>-1</td>\n",
       "      <td>Paid Parking</td>\n",
       "      <td>POINT (-122.33353011 47.61360677)</td>\n",
       "      <td>4</td>\n",
       "    </tr>\n",
       "    <tr>\n",
       "      <th>3</th>\n",
       "      <td>2019-05-24 11:56:00</td>\n",
       "      <td>2.0</td>\n",
       "      <td>BLANCHARD ST BETWEEN 1ST AVE AND 2ND AVE</td>\n",
       "      <td>SE</td>\n",
       "      <td>9354</td>\n",
       "      <td>120</td>\n",
       "      <td>4.0</td>\n",
       "      <td>Belltown</td>\n",
       "      <td>South</td>\n",
       "      <td>-1</td>\n",
       "      <td>Paid Parking</td>\n",
       "      <td>POINT (-122.3446913 47.61292255)</td>\n",
       "      <td>4</td>\n",
       "    </tr>\n",
       "    <tr>\n",
       "      <th>4</th>\n",
       "      <td>2019-05-24 10:57:00</td>\n",
       "      <td>13.0</td>\n",
       "      <td>VALLEY ST BETWEEN MINOR AVE N AND YALE AVE N</td>\n",
       "      <td>N</td>\n",
       "      <td>35889</td>\n",
       "      <td>600</td>\n",
       "      <td>7.0</td>\n",
       "      <td>South Lake Union</td>\n",
       "      <td>North</td>\n",
       "      <td>-1</td>\n",
       "      <td>Paid Parking</td>\n",
       "      <td>POINT (-122.33168043 47.62602813)</td>\n",
       "      <td>4</td>\n",
       "    </tr>\n",
       "  </tbody>\n",
       "</table>\n",
       "</div>"
      ],
      "text/plain": [
       "    OccupancyDateTime  PaidOccupancy  \\\n",
       "0 2019-05-24 08:35:00            1.0   \n",
       "1 2019-05-24 19:57:00            3.0   \n",
       "2 2019-05-24 11:21:00            1.0   \n",
       "3 2019-05-24 11:56:00            2.0   \n",
       "4 2019-05-24 10:57:00           13.0   \n",
       "\n",
       "                                       BlockfaceName SideOfStreet  \\\n",
       "0     SENECA ST BETWEEN BOYLSTON AVE AND HARVARD AVE           SE   \n",
       "1  REPUBLICAN ST BETWEEN QUEEN ANNE AVE N AND 1ST...            S   \n",
       "2              8TH AVE BETWEEN PINE ST AND OLIVE WAY           NE   \n",
       "3           BLANCHARD ST BETWEEN 1ST AVE AND 2ND AVE           SE   \n",
       "4       VALLEY ST BETWEEN MINOR AVE N AND YALE AVE N            N   \n",
       "\n",
       "   SourceElementKey  ParkingTimeLimitCategory  ParkingSpaceCount  \\\n",
       "0             35438                       120                4.0   \n",
       "1             57862                       120                3.0   \n",
       "2             53542                       120                4.0   \n",
       "3              9354                       120                4.0   \n",
       "4             35889                       600                7.0   \n",
       "\n",
       "    PaidParkingArea PaidParkingSubArea  PaidParkingRate ParkingCategory  \\\n",
       "0        First Hill               None               -1    Paid Parking   \n",
       "1            Uptown               Core               -1    Paid Parking   \n",
       "2   Commercial Core             Retail               -1    Paid Parking   \n",
       "3          Belltown              South               -1    Paid Parking   \n",
       "4  South Lake Union              North               -1    Paid Parking   \n",
       "\n",
       "                            Location  DayOfWeek  \n",
       "0  POINT (-122.32245377 47.61236006)          4  \n",
       "1  POINT (-122.35604157 47.62320827)          4  \n",
       "2  POINT (-122.33353011 47.61360677)          4  \n",
       "3   POINT (-122.3446913 47.61292255)          4  \n",
       "4  POINT (-122.33168043 47.62602813)          4  "
      ]
     },
     "execution_count": 13,
     "metadata": {},
     "output_type": "execute_result"
    },
    {
     "name": "stdout",
     "output_type": "stream",
     "text": [
      "time: 495 ms\n"
     ]
    }
   ],
   "source": [
    "df.head().to_pandas()"
   ]
  },
  {
   "cell_type": "markdown",
   "metadata": {},
   "source": [
    "# Extract date information"
   ]
  },
  {
   "cell_type": "code",
   "execution_count": 14,
   "metadata": {},
   "outputs": [
    {
     "data": {
      "text/html": [
       "<div>\n",
       "<style scoped>\n",
       "    .dataframe tbody tr th:only-of-type {\n",
       "        vertical-align: middle;\n",
       "    }\n",
       "\n",
       "    .dataframe tbody tr th {\n",
       "        vertical-align: top;\n",
       "    }\n",
       "\n",
       "    .dataframe thead th {\n",
       "        text-align: right;\n",
       "    }\n",
       "</style>\n",
       "<table border=\"1\" class=\"dataframe\">\n",
       "  <thead>\n",
       "    <tr style=\"text-align: right;\">\n",
       "      <th></th>\n",
       "      <th>OccupancyDateTime</th>\n",
       "      <th>year</th>\n",
       "      <th>month</th>\n",
       "      <th>day</th>\n",
       "      <th>hour</th>\n",
       "      <th>minute</th>\n",
       "    </tr>\n",
       "  </thead>\n",
       "  <tbody>\n",
       "    <tr>\n",
       "      <th>0</th>\n",
       "      <td>2019-05-24 08:35:00</td>\n",
       "      <td>2019</td>\n",
       "      <td>5</td>\n",
       "      <td>24</td>\n",
       "      <td>8</td>\n",
       "      <td>35</td>\n",
       "    </tr>\n",
       "    <tr>\n",
       "      <th>1</th>\n",
       "      <td>2019-05-24 19:57:00</td>\n",
       "      <td>2019</td>\n",
       "      <td>5</td>\n",
       "      <td>24</td>\n",
       "      <td>19</td>\n",
       "      <td>57</td>\n",
       "    </tr>\n",
       "    <tr>\n",
       "      <th>2</th>\n",
       "      <td>2019-05-24 11:21:00</td>\n",
       "      <td>2019</td>\n",
       "      <td>5</td>\n",
       "      <td>24</td>\n",
       "      <td>11</td>\n",
       "      <td>21</td>\n",
       "    </tr>\n",
       "    <tr>\n",
       "      <th>3</th>\n",
       "      <td>2019-05-24 11:56:00</td>\n",
       "      <td>2019</td>\n",
       "      <td>5</td>\n",
       "      <td>24</td>\n",
       "      <td>11</td>\n",
       "      <td>56</td>\n",
       "    </tr>\n",
       "    <tr>\n",
       "      <th>4</th>\n",
       "      <td>2019-05-24 10:57:00</td>\n",
       "      <td>2019</td>\n",
       "      <td>5</td>\n",
       "      <td>24</td>\n",
       "      <td>10</td>\n",
       "      <td>57</td>\n",
       "    </tr>\n",
       "  </tbody>\n",
       "</table>\n",
       "</div>"
      ],
      "text/plain": [
       "    OccupancyDateTime  year  month  day  hour  minute\n",
       "0 2019-05-24 08:35:00  2019      5   24     8      35\n",
       "1 2019-05-24 19:57:00  2019      5   24    19      57\n",
       "2 2019-05-24 11:21:00  2019      5   24    11      21\n",
       "3 2019-05-24 11:56:00  2019      5   24    11      56\n",
       "4 2019-05-24 10:57:00  2019      5   24    10      57"
      ]
     },
     "execution_count": 14,
     "metadata": {},
     "output_type": "execute_result"
    },
    {
     "name": "stdout",
     "output_type": "stream",
     "text": [
      "time: 28.1 ms\n"
     ]
    }
   ],
   "source": [
    "df['year'] = df['OccupancyDateTime']._column.year\n",
    "df['month'] = df['OccupancyDateTime']._column.month\n",
    "df['day'] = df['OccupancyDateTime']._column.day\n",
    "\n",
    "df['hour'] = df['OccupancyDateTime']._column.hour\n",
    "df['minute'] = df['OccupancyDateTime']._column.minute\n",
    "\n",
    "df[['OccupancyDateTime','year','month','day','hour', 'minute']].head().to_pandas()"
   ]
  },
  {
   "cell_type": "code",
   "execution_count": 15,
   "metadata": {},
   "outputs": [
    {
     "data": {
      "text/plain": [
       "OccupancyDateTime           datetime64[ms]\n",
       "PaidOccupancy                      float64\n",
       "BlockfaceName                       object\n",
       "SideOfStreet                        object\n",
       "SourceElementKey                     int64\n",
       "ParkingTimeLimitCategory             int64\n",
       "ParkingSpaceCount                  float64\n",
       "PaidParkingArea                     object\n",
       "PaidParkingSubArea                  object\n",
       "PaidParkingRate                       int8\n",
       "ParkingCategory                     object\n",
       "Location                            object\n",
       "DayOfWeek                             int8\n",
       "year                                 int16\n",
       "month                                int16\n",
       "day                                  int16\n",
       "hour                                 int16\n",
       "minute                               int16\n",
       "dtype: object"
      ]
     },
     "execution_count": 15,
     "metadata": {},
     "output_type": "execute_result"
    },
    {
     "name": "stdout",
     "output_type": "stream",
     "text": [
      "time: 3.43 ms\n"
     ]
    }
   ],
   "source": [
    "df.dtypes"
   ]
  },
  {
   "cell_type": "code",
   "execution_count": 16,
   "metadata": {},
   "outputs": [
    {
     "data": {
      "text/plain": [
       "(48675039, 18)"
      ]
     },
     "execution_count": 16,
     "metadata": {},
     "output_type": "execute_result"
    },
    {
     "name": "stdout",
     "output_type": "stream",
     "text": [
      "time: 1.64 ms\n"
     ]
    }
   ],
   "source": [
    "df.shape"
   ]
  },
  {
   "cell_type": "markdown",
   "metadata": {},
   "source": [
    "# All parking locations"
   ]
  },
  {
   "cell_type": "code",
   "execution_count": 17,
   "metadata": {},
   "outputs": [
    {
     "data": {
      "text/html": [
       "<div>\n",
       "<style scoped>\n",
       "    .dataframe tbody tr th:only-of-type {\n",
       "        vertical-align: middle;\n",
       "    }\n",
       "\n",
       "    .dataframe tbody tr th {\n",
       "        vertical-align: top;\n",
       "    }\n",
       "\n",
       "    .dataframe thead th {\n",
       "        text-align: right;\n",
       "    }\n",
       "</style>\n",
       "<table border=\"1\" class=\"dataframe\">\n",
       "  <thead>\n",
       "    <tr style=\"text-align: right;\">\n",
       "      <th></th>\n",
       "      <th>SourceElementKey</th>\n",
       "      <th>BlockfaceName</th>\n",
       "      <th>SideOfStreet</th>\n",
       "      <th>ParkingTimeLimitCategory</th>\n",
       "      <th>ParkingSpaceCount</th>\n",
       "      <th>PaidParkingArea</th>\n",
       "      <th>PaidParkingSubArea</th>\n",
       "      <th>ParkingCategory</th>\n",
       "      <th>Location</th>\n",
       "    </tr>\n",
       "  </thead>\n",
       "  <tbody>\n",
       "    <tr>\n",
       "      <th>4080</th>\n",
       "      <td>1001</td>\n",
       "      <td>1ST AVE BETWEEN CHERRY ST AND COLUMBIA ST</td>\n",
       "      <td>SW</td>\n",
       "      <td>120</td>\n",
       "      <td>4.0</td>\n",
       "      <td>Pioneer Square</td>\n",
       "      <td>Core</td>\n",
       "      <td>Paid Parking</td>\n",
       "      <td>POINT (-122.33469356 47.6028728)</td>\n",
       "    </tr>\n",
       "    <tr>\n",
       "      <th>1336</th>\n",
       "      <td>1002</td>\n",
       "      <td>1ST AVE BETWEEN CHERRY ST AND COLUMBIA ST</td>\n",
       "      <td>NE</td>\n",
       "      <td>120</td>\n",
       "      <td>8.0</td>\n",
       "      <td>Pioneer Square</td>\n",
       "      <td>Core</td>\n",
       "      <td>Paid Parking</td>\n",
       "      <td>POINT (-122.33451266 47.60294861)</td>\n",
       "    </tr>\n",
       "    <tr>\n",
       "      <th>4455</th>\n",
       "      <td>1006</td>\n",
       "      <td>1ST AVE BETWEEN COLUMBIA ST AND MARION ST</td>\n",
       "      <td>NE</td>\n",
       "      <td>120</td>\n",
       "      <td>7.0</td>\n",
       "      <td>Commercial Core</td>\n",
       "      <td>Waterfront</td>\n",
       "      <td>Paid Parking</td>\n",
       "      <td>POINT (-122.33514326 47.60367439)</td>\n",
       "    </tr>\n",
       "    <tr>\n",
       "      <th>1026</th>\n",
       "      <td>1009</td>\n",
       "      <td>1ST AVE BETWEEN MADISON ST AND SPRING ST</td>\n",
       "      <td>SW</td>\n",
       "      <td>30</td>\n",
       "      <td>5.0</td>\n",
       "      <td>Commercial Core</td>\n",
       "      <td>Waterfront</td>\n",
       "      <td>Paid Parking</td>\n",
       "      <td>POINT (-122.3366575 47.60501765)</td>\n",
       "    </tr>\n",
       "    <tr>\n",
       "      <th>3208</th>\n",
       "      <td>1010</td>\n",
       "      <td>1ST AVE BETWEEN MADISON ST AND SPRING ST</td>\n",
       "      <td>NE</td>\n",
       "      <td>120</td>\n",
       "      <td>5.0</td>\n",
       "      <td>Commercial Core</td>\n",
       "      <td>Waterfront</td>\n",
       "      <td>Paid Parking</td>\n",
       "      <td>POINT (-122.33644748 47.6051007)</td>\n",
       "    </tr>\n",
       "  </tbody>\n",
       "</table>\n",
       "</div>"
      ],
      "text/plain": [
       "      SourceElementKey                              BlockfaceName  \\\n",
       "4080              1001  1ST AVE BETWEEN CHERRY ST AND COLUMBIA ST   \n",
       "1336              1002  1ST AVE BETWEEN CHERRY ST AND COLUMBIA ST   \n",
       "4455              1006  1ST AVE BETWEEN COLUMBIA ST AND MARION ST   \n",
       "1026              1009   1ST AVE BETWEEN MADISON ST AND SPRING ST   \n",
       "3208              1010   1ST AVE BETWEEN MADISON ST AND SPRING ST   \n",
       "\n",
       "     SideOfStreet  ParkingTimeLimitCategory  ParkingSpaceCount  \\\n",
       "4080           SW                       120                4.0   \n",
       "1336           NE                       120                8.0   \n",
       "4455           NE                       120                7.0   \n",
       "1026           SW                        30                5.0   \n",
       "3208           NE                       120                5.0   \n",
       "\n",
       "      PaidParkingArea PaidParkingSubArea ParkingCategory  \\\n",
       "4080   Pioneer Square               Core    Paid Parking   \n",
       "1336   Pioneer Square               Core    Paid Parking   \n",
       "4455  Commercial Core         Waterfront    Paid Parking   \n",
       "1026  Commercial Core         Waterfront    Paid Parking   \n",
       "3208  Commercial Core         Waterfront    Paid Parking   \n",
       "\n",
       "                               Location  \n",
       "4080   POINT (-122.33469356 47.6028728)  \n",
       "1336  POINT (-122.33451266 47.60294861)  \n",
       "4455  POINT (-122.33514326 47.60367439)  \n",
       "1026   POINT (-122.3366575 47.60501765)  \n",
       "3208   POINT (-122.33644748 47.6051007)  "
      ]
     },
     "execution_count": 17,
     "metadata": {},
     "output_type": "execute_result"
    },
    {
     "name": "stdout",
     "output_type": "stream",
     "text": [
      "time: 8.73 s\n"
     ]
    }
   ],
   "source": [
    "locations = df[['SourceElementKey', 'BlockfaceName', 'SideOfStreet',\n",
    "       'ParkingTimeLimitCategory', 'ParkingSpaceCount',\n",
    "       'PaidParkingArea', 'PaidParkingSubArea',\n",
    "       'ParkingCategory', 'Location']].drop_duplicates()\n",
    "\n",
    "locations.head().to_pandas()"
   ]
  },
  {
   "cell_type": "code",
   "execution_count": 18,
   "metadata": {},
   "outputs": [
    {
     "name": "stdout",
     "output_type": "stream",
     "text": [
      "Number of parking locations in Seattle: 1528\n",
      "time: 395 µs\n"
     ]
    }
   ],
   "source": [
    "print('Number of parking locations in Seattle: {0}'.format(locations.shape[0]))"
   ]
  },
  {
   "cell_type": "code",
   "execution_count": 44,
   "metadata": {},
   "outputs": [
    {
     "data": {
      "text/html": [
       "<div>\n",
       "<style scoped>\n",
       "    .dataframe tbody tr th:only-of-type {\n",
       "        vertical-align: middle;\n",
       "    }\n",
       "\n",
       "    .dataframe tbody tr th {\n",
       "        vertical-align: top;\n",
       "    }\n",
       "\n",
       "    .dataframe thead th {\n",
       "        text-align: right;\n",
       "    }\n",
       "</style>\n",
       "<table border=\"1\" class=\"dataframe\">\n",
       "  <thead>\n",
       "    <tr style=\"text-align: right;\">\n",
       "      <th></th>\n",
       "      <th>Location</th>\n",
       "      <th>longitude</th>\n",
       "      <th>latitude</th>\n",
       "    </tr>\n",
       "  </thead>\n",
       "  <tbody>\n",
       "    <tr>\n",
       "      <th>4080</th>\n",
       "      <td>POINT (-122.33469356 47.6028728)</td>\n",
       "      <td>-122.334694</td>\n",
       "      <td>47.602873</td>\n",
       "    </tr>\n",
       "    <tr>\n",
       "      <th>1336</th>\n",
       "      <td>POINT (-122.33451266 47.60294861)</td>\n",
       "      <td>-122.334513</td>\n",
       "      <td>47.602949</td>\n",
       "    </tr>\n",
       "    <tr>\n",
       "      <th>4455</th>\n",
       "      <td>POINT (-122.33514326 47.60367439)</td>\n",
       "      <td>-122.335143</td>\n",
       "      <td>47.603674</td>\n",
       "    </tr>\n",
       "    <tr>\n",
       "      <th>1026</th>\n",
       "      <td>POINT (-122.3366575 47.60501765)</td>\n",
       "      <td>-122.336658</td>\n",
       "      <td>47.605018</td>\n",
       "    </tr>\n",
       "    <tr>\n",
       "      <th>3208</th>\n",
       "      <td>POINT (-122.33644748 47.6051007)</td>\n",
       "      <td>-122.336447</td>\n",
       "      <td>47.605101</td>\n",
       "    </tr>\n",
       "  </tbody>\n",
       "</table>\n",
       "</div>"
      ],
      "text/plain": [
       "                               Location   longitude   latitude\n",
       "4080   POINT (-122.33469356 47.6028728) -122.334694  47.602873\n",
       "1336  POINT (-122.33451266 47.60294861) -122.334513  47.602949\n",
       "4455  POINT (-122.33514326 47.60367439) -122.335143  47.603674\n",
       "1026   POINT (-122.3366575 47.60501765) -122.336658  47.605018\n",
       "3208   POINT (-122.33644748 47.6051007) -122.336447  47.605101"
      ]
     },
     "execution_count": 44,
     "metadata": {},
     "output_type": "execute_result"
    },
    {
     "name": "stdout",
     "output_type": "stream",
     "text": [
      "time: 25.7 ms\n"
     ]
    }
   ],
   "source": [
    "def extractLon(location):\n",
    "    lon = location.str.extract('([0-9\\.\\-]+) ([0-9\\.]+)')[0]\n",
    "    return lon.str.stod()\n",
    "\n",
    "def extractLat(location):\n",
    "    lon = location.str.extract('([0-9\\.\\-]+) ([0-9\\.]+)')[1]\n",
    "    return lon.str.stod()\n",
    "    \n",
    "locations['longitude'] = extractLon(locations['Location'])\n",
    "locations['latitude'] = extractLat(locations['Location'])\n",
    "\n",
    "locations[['Location', 'longitude', 'latitude']].head().to_pandas()"
   ]
  },
  {
   "cell_type": "markdown",
   "metadata": {},
   "source": [
    "# Average occupancy"
   ]
  },
  {
   "cell_type": "code",
   "execution_count": 20,
   "metadata": {},
   "outputs": [
    {
     "data": {
      "text/html": [
       "<div>\n",
       "<style scoped>\n",
       "    .dataframe tbody tr th:only-of-type {\n",
       "        vertical-align: middle;\n",
       "    }\n",
       "\n",
       "    .dataframe tbody tr th {\n",
       "        vertical-align: top;\n",
       "    }\n",
       "\n",
       "    .dataframe thead th {\n",
       "        text-align: right;\n",
       "    }\n",
       "</style>\n",
       "<table border=\"1\" class=\"dataframe\">\n",
       "  <thead>\n",
       "    <tr style=\"text-align: right;\">\n",
       "      <th></th>\n",
       "      <th>OccupancyDateTime</th>\n",
       "      <th>PaidOccupancy</th>\n",
       "      <th>BlockfaceName</th>\n",
       "      <th>SideOfStreet</th>\n",
       "      <th>SourceElementKey</th>\n",
       "      <th>ParkingTimeLimitCategory</th>\n",
       "      <th>ParkingSpaceCount</th>\n",
       "      <th>PaidParkingArea</th>\n",
       "      <th>PaidParkingSubArea</th>\n",
       "      <th>PaidParkingRate</th>\n",
       "      <th>ParkingCategory</th>\n",
       "      <th>Location</th>\n",
       "      <th>DayOfWeek</th>\n",
       "      <th>year</th>\n",
       "      <th>month</th>\n",
       "      <th>day</th>\n",
       "      <th>hour</th>\n",
       "      <th>minute</th>\n",
       "      <th>AvgOccupancy</th>\n",
       "    </tr>\n",
       "  </thead>\n",
       "  <tbody>\n",
       "    <tr>\n",
       "      <th>0</th>\n",
       "      <td>2019-05-24 08:35:00</td>\n",
       "      <td>1.0</td>\n",
       "      <td>SENECA ST BETWEEN BOYLSTON AVE AND HARVARD AVE</td>\n",
       "      <td>SE</td>\n",
       "      <td>35438</td>\n",
       "      <td>120</td>\n",
       "      <td>4.0</td>\n",
       "      <td>First Hill</td>\n",
       "      <td>None</td>\n",
       "      <td>-1</td>\n",
       "      <td>Paid Parking</td>\n",
       "      <td>POINT (-122.32245377 47.61236006)</td>\n",
       "      <td>4</td>\n",
       "      <td>2019</td>\n",
       "      <td>5</td>\n",
       "      <td>24</td>\n",
       "      <td>8</td>\n",
       "      <td>35</td>\n",
       "      <td>NaN</td>\n",
       "    </tr>\n",
       "    <tr>\n",
       "      <th>1</th>\n",
       "      <td>2019-05-24 19:57:00</td>\n",
       "      <td>3.0</td>\n",
       "      <td>REPUBLICAN ST BETWEEN QUEEN ANNE AVE N AND 1ST...</td>\n",
       "      <td>S</td>\n",
       "      <td>57862</td>\n",
       "      <td>120</td>\n",
       "      <td>3.0</td>\n",
       "      <td>Uptown</td>\n",
       "      <td>Core</td>\n",
       "      <td>-1</td>\n",
       "      <td>Paid Parking</td>\n",
       "      <td>POINT (-122.35604157 47.62320827)</td>\n",
       "      <td>4</td>\n",
       "      <td>2019</td>\n",
       "      <td>5</td>\n",
       "      <td>24</td>\n",
       "      <td>19</td>\n",
       "      <td>57</td>\n",
       "      <td>NaN</td>\n",
       "    </tr>\n",
       "    <tr>\n",
       "      <th>2</th>\n",
       "      <td>2019-05-24 11:21:00</td>\n",
       "      <td>1.0</td>\n",
       "      <td>8TH AVE BETWEEN PINE ST AND OLIVE WAY</td>\n",
       "      <td>NE</td>\n",
       "      <td>53542</td>\n",
       "      <td>120</td>\n",
       "      <td>4.0</td>\n",
       "      <td>Commercial Core</td>\n",
       "      <td>Retail</td>\n",
       "      <td>-1</td>\n",
       "      <td>Paid Parking</td>\n",
       "      <td>POINT (-122.33353011 47.61360677)</td>\n",
       "      <td>4</td>\n",
       "      <td>2019</td>\n",
       "      <td>5</td>\n",
       "      <td>24</td>\n",
       "      <td>11</td>\n",
       "      <td>21</td>\n",
       "      <td>NaN</td>\n",
       "    </tr>\n",
       "    <tr>\n",
       "      <th>3</th>\n",
       "      <td>2019-05-24 11:56:00</td>\n",
       "      <td>2.0</td>\n",
       "      <td>BLANCHARD ST BETWEEN 1ST AVE AND 2ND AVE</td>\n",
       "      <td>SE</td>\n",
       "      <td>9354</td>\n",
       "      <td>120</td>\n",
       "      <td>4.0</td>\n",
       "      <td>Belltown</td>\n",
       "      <td>South</td>\n",
       "      <td>-1</td>\n",
       "      <td>Paid Parking</td>\n",
       "      <td>POINT (-122.3446913 47.61292255)</td>\n",
       "      <td>4</td>\n",
       "      <td>2019</td>\n",
       "      <td>5</td>\n",
       "      <td>24</td>\n",
       "      <td>11</td>\n",
       "      <td>56</td>\n",
       "      <td>NaN</td>\n",
       "    </tr>\n",
       "    <tr>\n",
       "      <th>4</th>\n",
       "      <td>2019-05-24 10:57:00</td>\n",
       "      <td>13.0</td>\n",
       "      <td>VALLEY ST BETWEEN MINOR AVE N AND YALE AVE N</td>\n",
       "      <td>N</td>\n",
       "      <td>35889</td>\n",
       "      <td>600</td>\n",
       "      <td>7.0</td>\n",
       "      <td>South Lake Union</td>\n",
       "      <td>North</td>\n",
       "      <td>-1</td>\n",
       "      <td>Paid Parking</td>\n",
       "      <td>POINT (-122.33168043 47.62602813)</td>\n",
       "      <td>4</td>\n",
       "      <td>2019</td>\n",
       "      <td>5</td>\n",
       "      <td>24</td>\n",
       "      <td>10</td>\n",
       "      <td>57</td>\n",
       "      <td>NaN</td>\n",
       "    </tr>\n",
       "  </tbody>\n",
       "</table>\n",
       "</div>"
      ],
      "text/plain": [
       "    OccupancyDateTime  PaidOccupancy  \\\n",
       "0 2019-05-24 08:35:00            1.0   \n",
       "1 2019-05-24 19:57:00            3.0   \n",
       "2 2019-05-24 11:21:00            1.0   \n",
       "3 2019-05-24 11:56:00            2.0   \n",
       "4 2019-05-24 10:57:00           13.0   \n",
       "\n",
       "                                       BlockfaceName SideOfStreet  \\\n",
       "0     SENECA ST BETWEEN BOYLSTON AVE AND HARVARD AVE           SE   \n",
       "1  REPUBLICAN ST BETWEEN QUEEN ANNE AVE N AND 1ST...            S   \n",
       "2              8TH AVE BETWEEN PINE ST AND OLIVE WAY           NE   \n",
       "3           BLANCHARD ST BETWEEN 1ST AVE AND 2ND AVE           SE   \n",
       "4       VALLEY ST BETWEEN MINOR AVE N AND YALE AVE N            N   \n",
       "\n",
       "   SourceElementKey  ParkingTimeLimitCategory  ParkingSpaceCount  \\\n",
       "0             35438                       120                4.0   \n",
       "1             57862                       120                3.0   \n",
       "2             53542                       120                4.0   \n",
       "3              9354                       120                4.0   \n",
       "4             35889                       600                7.0   \n",
       "\n",
       "    PaidParkingArea PaidParkingSubArea  PaidParkingRate ParkingCategory  \\\n",
       "0        First Hill               None               -1    Paid Parking   \n",
       "1            Uptown               Core               -1    Paid Parking   \n",
       "2   Commercial Core             Retail               -1    Paid Parking   \n",
       "3          Belltown              South               -1    Paid Parking   \n",
       "4  South Lake Union              North               -1    Paid Parking   \n",
       "\n",
       "                            Location  DayOfWeek  year  month  day  hour  \\\n",
       "0  POINT (-122.32245377 47.61236006)          4  2019      5   24     8   \n",
       "1  POINT (-122.35604157 47.62320827)          4  2019      5   24    19   \n",
       "2  POINT (-122.33353011 47.61360677)          4  2019      5   24    11   \n",
       "3   POINT (-122.3446913 47.61292255)          4  2019      5   24    11   \n",
       "4  POINT (-122.33168043 47.62602813)          4  2019      5   24    10   \n",
       "\n",
       "   minute  AvgOccupancy  \n",
       "0      35           NaN  \n",
       "1      57           NaN  \n",
       "2      21           NaN  \n",
       "3      56           NaN  \n",
       "4      57           NaN  "
      ]
     },
     "execution_count": 20,
     "metadata": {},
     "output_type": "execute_result"
    },
    {
     "name": "stdout",
     "output_type": "stream",
     "text": [
      "time: 1.09 s\n"
     ]
    }
   ],
   "source": [
    "def avgOccupancy(PaidOccupancy, ParkingSpaceCount, AvgOccupancy):\n",
    "    for i, (paid, available) in enumerate(zip(PaidOccupancy, ParkingSpaceCount)):\n",
    "        AvgOccupancy[i] = min(1.0, paid / available) # cap it at 100%, sometimes we see more paid occupancy than spaces available\n",
    "        \n",
    "df = df.apply_rows(\n",
    "    avgOccupancy\n",
    "    , incols=['PaidOccupancy', 'ParkingSpaceCount']\n",
    "    , outcols={'AvgOccupancy': np.float64}\n",
    "    , kwargs={}\n",
    ")\n",
    "\n",
    "df.head().to_pandas()"
   ]
  },
  {
   "cell_type": "code",
   "execution_count": 27,
   "metadata": {},
   "outputs": [
    {
     "data": {
      "text/html": [
       "<div>\n",
       "<style scoped>\n",
       "    .dataframe tbody tr th:only-of-type {\n",
       "        vertical-align: middle;\n",
       "    }\n",
       "\n",
       "    .dataframe tbody tr th {\n",
       "        vertical-align: top;\n",
       "    }\n",
       "\n",
       "    .dataframe thead th {\n",
       "        text-align: right;\n",
       "    }\n",
       "</style>\n",
       "<table border=\"1\" class=\"dataframe\">\n",
       "  <thead>\n",
       "    <tr style=\"text-align: right;\">\n",
       "      <th></th>\n",
       "      <th>OccupancyDateTime</th>\n",
       "      <th>PaidOccupancy</th>\n",
       "      <th>BlockfaceName</th>\n",
       "      <th>SideOfStreet</th>\n",
       "      <th>SourceElementKey</th>\n",
       "      <th>ParkingTimeLimitCategory</th>\n",
       "      <th>ParkingSpaceCount</th>\n",
       "      <th>PaidParkingArea</th>\n",
       "      <th>PaidParkingSubArea</th>\n",
       "      <th>PaidParkingRate</th>\n",
       "      <th>ParkingCategory</th>\n",
       "      <th>Location</th>\n",
       "      <th>DayOfWeek</th>\n",
       "      <th>year</th>\n",
       "      <th>month</th>\n",
       "      <th>day</th>\n",
       "      <th>hour</th>\n",
       "      <th>minute</th>\n",
       "      <th>AvgOccupancy</th>\n",
       "    </tr>\n",
       "  </thead>\n",
       "  <tbody>\n",
       "    <tr>\n",
       "      <th>4</th>\n",
       "      <td>2019-05-24 10:57:00</td>\n",
       "      <td>13.0</td>\n",
       "      <td>VALLEY ST BETWEEN MINOR AVE N AND YALE AVE N</td>\n",
       "      <td>N</td>\n",
       "      <td>35889</td>\n",
       "      <td>600</td>\n",
       "      <td>7.0</td>\n",
       "      <td>South Lake Union</td>\n",
       "      <td>North</td>\n",
       "      <td>-1</td>\n",
       "      <td>Paid Parking</td>\n",
       "      <td>POINT (-122.33168043 47.62602813)</td>\n",
       "      <td>4</td>\n",
       "      <td>2019</td>\n",
       "      <td>5</td>\n",
       "      <td>24</td>\n",
       "      <td>10</td>\n",
       "      <td>57</td>\n",
       "      <td>NaN</td>\n",
       "    </tr>\n",
       "    <tr>\n",
       "      <th>50257</th>\n",
       "      <td>2019-05-24 10:18:00</td>\n",
       "      <td>13.0</td>\n",
       "      <td>VALLEY ST BETWEEN MINOR AVE N AND YALE AVE N</td>\n",
       "      <td>N</td>\n",
       "      <td>35889</td>\n",
       "      <td>600</td>\n",
       "      <td>7.0</td>\n",
       "      <td>South Lake Union</td>\n",
       "      <td>North</td>\n",
       "      <td>-1</td>\n",
       "      <td>Paid Parking</td>\n",
       "      <td>POINT (-122.33168043 47.62602813)</td>\n",
       "      <td>4</td>\n",
       "      <td>2019</td>\n",
       "      <td>5</td>\n",
       "      <td>24</td>\n",
       "      <td>10</td>\n",
       "      <td>18</td>\n",
       "      <td>NaN</td>\n",
       "    </tr>\n",
       "    <tr>\n",
       "      <th>54095</th>\n",
       "      <td>2019-05-24 10:32:00</td>\n",
       "      <td>13.0</td>\n",
       "      <td>VALLEY ST BETWEEN MINOR AVE N AND YALE AVE N</td>\n",
       "      <td>N</td>\n",
       "      <td>35889</td>\n",
       "      <td>600</td>\n",
       "      <td>7.0</td>\n",
       "      <td>South Lake Union</td>\n",
       "      <td>North</td>\n",
       "      <td>-1</td>\n",
       "      <td>Paid Parking</td>\n",
       "      <td>POINT (-122.33168043 47.62602813)</td>\n",
       "      <td>4</td>\n",
       "      <td>2019</td>\n",
       "      <td>5</td>\n",
       "      <td>24</td>\n",
       "      <td>10</td>\n",
       "      <td>32</td>\n",
       "      <td>NaN</td>\n",
       "    </tr>\n",
       "    <tr>\n",
       "      <th>99470</th>\n",
       "      <td>2019-05-24 10:19:00</td>\n",
       "      <td>13.0</td>\n",
       "      <td>VALLEY ST BETWEEN MINOR AVE N AND YALE AVE N</td>\n",
       "      <td>N</td>\n",
       "      <td>35889</td>\n",
       "      <td>600</td>\n",
       "      <td>7.0</td>\n",
       "      <td>South Lake Union</td>\n",
       "      <td>North</td>\n",
       "      <td>-1</td>\n",
       "      <td>Paid Parking</td>\n",
       "      <td>POINT (-122.33168043 47.62602813)</td>\n",
       "      <td>4</td>\n",
       "      <td>2019</td>\n",
       "      <td>5</td>\n",
       "      <td>24</td>\n",
       "      <td>10</td>\n",
       "      <td>19</td>\n",
       "      <td>NaN</td>\n",
       "    </tr>\n",
       "    <tr>\n",
       "      <th>199865</th>\n",
       "      <td>2019-05-24 10:44:00</td>\n",
       "      <td>13.0</td>\n",
       "      <td>VALLEY ST BETWEEN MINOR AVE N AND YALE AVE N</td>\n",
       "      <td>N</td>\n",
       "      <td>35889</td>\n",
       "      <td>600</td>\n",
       "      <td>7.0</td>\n",
       "      <td>South Lake Union</td>\n",
       "      <td>North</td>\n",
       "      <td>-1</td>\n",
       "      <td>Paid Parking</td>\n",
       "      <td>POINT (-122.33168043 47.62602813)</td>\n",
       "      <td>4</td>\n",
       "      <td>2019</td>\n",
       "      <td>5</td>\n",
       "      <td>24</td>\n",
       "      <td>10</td>\n",
       "      <td>44</td>\n",
       "      <td>NaN</td>\n",
       "    </tr>\n",
       "  </tbody>\n",
       "</table>\n",
       "</div>"
      ],
      "text/plain": [
       "         OccupancyDateTime  PaidOccupancy  \\\n",
       "4      2019-05-24 10:57:00           13.0   \n",
       "50257  2019-05-24 10:18:00           13.0   \n",
       "54095  2019-05-24 10:32:00           13.0   \n",
       "99470  2019-05-24 10:19:00           13.0   \n",
       "199865 2019-05-24 10:44:00           13.0   \n",
       "\n",
       "                                       BlockfaceName SideOfStreet  \\\n",
       "4       VALLEY ST BETWEEN MINOR AVE N AND YALE AVE N            N   \n",
       "50257   VALLEY ST BETWEEN MINOR AVE N AND YALE AVE N            N   \n",
       "54095   VALLEY ST BETWEEN MINOR AVE N AND YALE AVE N            N   \n",
       "99470   VALLEY ST BETWEEN MINOR AVE N AND YALE AVE N            N   \n",
       "199865  VALLEY ST BETWEEN MINOR AVE N AND YALE AVE N            N   \n",
       "\n",
       "        SourceElementKey  ParkingTimeLimitCategory  ParkingSpaceCount  \\\n",
       "4                  35889                       600                7.0   \n",
       "50257              35889                       600                7.0   \n",
       "54095              35889                       600                7.0   \n",
       "99470              35889                       600                7.0   \n",
       "199865             35889                       600                7.0   \n",
       "\n",
       "         PaidParkingArea PaidParkingSubArea  PaidParkingRate ParkingCategory  \\\n",
       "4       South Lake Union              North               -1    Paid Parking   \n",
       "50257   South Lake Union              North               -1    Paid Parking   \n",
       "54095   South Lake Union              North               -1    Paid Parking   \n",
       "99470   South Lake Union              North               -1    Paid Parking   \n",
       "199865  South Lake Union              North               -1    Paid Parking   \n",
       "\n",
       "                                 Location  DayOfWeek  year  month  day  hour  \\\n",
       "4       POINT (-122.33168043 47.62602813)          4  2019      5   24    10   \n",
       "50257   POINT (-122.33168043 47.62602813)          4  2019      5   24    10   \n",
       "54095   POINT (-122.33168043 47.62602813)          4  2019      5   24    10   \n",
       "99470   POINT (-122.33168043 47.62602813)          4  2019      5   24    10   \n",
       "199865  POINT (-122.33168043 47.62602813)          4  2019      5   24    10   \n",
       "\n",
       "        minute  AvgOccupancy  \n",
       "4           57           NaN  \n",
       "50257       18           NaN  \n",
       "54095       32           NaN  \n",
       "99470       19           NaN  \n",
       "199865      44           NaN  "
      ]
     },
     "execution_count": 27,
     "metadata": {},
     "output_type": "execute_result"
    },
    {
     "name": "stdout",
     "output_type": "stream",
     "text": [
      "time: 157 ms\n"
     ]
    }
   ],
   "source": [
    "search_date_f = dt.datetime.strptime('2019-05-24T10:00:00', '%Y-%m-%dT%H:%M:%S')\n",
    "search_date_t = dt.datetime.strptime('2019-05-24T10:59:59', '%Y-%m-%dT%H:%M:%S')\n",
    "df.query('''SourceElementKey == 35889 and OccupancyDateTime >= @search_date_f and OccupancyDateTime <= @search_date_t'''\n",
    ").head(5).to_pandas()#.sort_values(by='OccupancyDateTime').head(5).to_pandas()"
   ]
  },
  {
   "cell_type": "code",
   "execution_count": 28,
   "metadata": {},
   "outputs": [
    {
     "ename": "RuntimeError",
     "evalue": "NVRTC error: NVRTC_ERROR_INVALID_OPTION",
     "output_type": "error",
     "traceback": [
      "\u001b[0;31m---------------------------------------------------------------------------\u001b[0m",
      "\u001b[0;31mRuntimeError\u001b[0m                              Traceback (most recent call last)",
      "\u001b[0;32m<ipython-input-28-eaa5668db8e6>\u001b[0m in \u001b[0;36m<module>\u001b[0;34m\u001b[0m\n\u001b[1;32m     11\u001b[0m     .agg({\n\u001b[1;32m     12\u001b[0m           \u001b[0;34m'ParkingSpaceCount'\u001b[0m\u001b[0;34m:\u001b[0m \u001b[0;34m'count'\u001b[0m\u001b[0;34m\u001b[0m\u001b[0;34m\u001b[0m\u001b[0m\n\u001b[0;32m---> 13\u001b[0;31m         \u001b[0;34m,\u001b[0m \u001b[0;34m'AvgOccupancy'\u001b[0m\u001b[0;34m:\u001b[0m \u001b[0;34m'sum'\u001b[0m\u001b[0;34m\u001b[0m\u001b[0;34m\u001b[0m\u001b[0m\n\u001b[0m\u001b[1;32m     14\u001b[0m     })\n\u001b[1;32m     15\u001b[0m     \u001b[0;34m.\u001b[0m\u001b[0mreset_index\u001b[0m\u001b[0;34m(\u001b[0m\u001b[0;34m)\u001b[0m\u001b[0;34m\u001b[0m\u001b[0;34m\u001b[0m\u001b[0m\n",
      "\u001b[0;32m/opt/conda/envs/rapids/lib/python3.6/site-packages/cudf/groupby/groupby.py\u001b[0m in \u001b[0;36magg\u001b[0;34m(self, func)\u001b[0m\n\u001b[1;32m     44\u001b[0m \u001b[0;34m\u001b[0m\u001b[0m\n\u001b[1;32m     45\u001b[0m     \u001b[0;32mdef\u001b[0m \u001b[0magg\u001b[0m\u001b[0;34m(\u001b[0m\u001b[0mself\u001b[0m\u001b[0;34m,\u001b[0m \u001b[0mfunc\u001b[0m\u001b[0;34m)\u001b[0m\u001b[0;34m:\u001b[0m\u001b[0;34m\u001b[0m\u001b[0;34m\u001b[0m\u001b[0m\n\u001b[0;32m---> 46\u001b[0;31m         \u001b[0;32mreturn\u001b[0m \u001b[0mself\u001b[0m\u001b[0;34m.\u001b[0m\u001b[0m_apply_aggregation\u001b[0m\u001b[0;34m(\u001b[0m\u001b[0mfunc\u001b[0m\u001b[0;34m)\u001b[0m\u001b[0;34m\u001b[0m\u001b[0;34m\u001b[0m\u001b[0m\n\u001b[0m\u001b[1;32m     47\u001b[0m \u001b[0;34m\u001b[0m\u001b[0m\n\u001b[1;32m     48\u001b[0m     \u001b[0;32mdef\u001b[0m \u001b[0msize\u001b[0m\u001b[0;34m(\u001b[0m\u001b[0mself\u001b[0m\u001b[0;34m)\u001b[0m\u001b[0;34m:\u001b[0m\u001b[0;34m\u001b[0m\u001b[0;34m\u001b[0m\u001b[0m\n",
      "\u001b[0;32m/opt/conda/envs/rapids/lib/python3.6/site-packages/cudf/groupby/groupby.py\u001b[0m in \u001b[0;36m_apply_aggregation\u001b[0;34m(self, agg)\u001b[0m\n\u001b[1;32m     97\u001b[0m         \u001b[0mApplies\u001b[0m \u001b[0mthe\u001b[0m \u001b[0maggregation\u001b[0m \u001b[0mfunction\u001b[0m\u001b[0;34m(\u001b[0m\u001b[0ms\u001b[0m\u001b[0;34m)\u001b[0m\u001b[0;31m \u001b[0m\u001b[0;31m`\u001b[0m\u001b[0;31m`\u001b[0m\u001b[0magg\u001b[0m\u001b[0;31m`\u001b[0m\u001b[0;31m`\u001b[0m \u001b[0mon\u001b[0m \u001b[0mall\u001b[0m \u001b[0mcolumns\u001b[0m\u001b[0;34m\u001b[0m\u001b[0;34m\u001b[0m\u001b[0m\n\u001b[1;32m     98\u001b[0m         \"\"\"\n\u001b[0;32m---> 99\u001b[0;31m         \u001b[0mresult\u001b[0m \u001b[0;34m=\u001b[0m \u001b[0mself\u001b[0m\u001b[0;34m.\u001b[0m\u001b[0m_groupby\u001b[0m\u001b[0;34m.\u001b[0m\u001b[0mcompute_result\u001b[0m\u001b[0;34m(\u001b[0m\u001b[0magg\u001b[0m\u001b[0;34m)\u001b[0m\u001b[0;34m\u001b[0m\u001b[0;34m\u001b[0m\u001b[0m\n\u001b[0m\u001b[1;32m    100\u001b[0m         \u001b[0mnvtx_range_pop\u001b[0m\u001b[0;34m(\u001b[0m\u001b[0;34m)\u001b[0m\u001b[0;34m\u001b[0m\u001b[0;34m\u001b[0m\u001b[0m\n\u001b[1;32m    101\u001b[0m         \u001b[0;32mreturn\u001b[0m \u001b[0mresult\u001b[0m\u001b[0;34m\u001b[0m\u001b[0;34m\u001b[0m\u001b[0m\n",
      "\u001b[0;32m/opt/conda/envs/rapids/lib/python3.6/site-packages/cudf/groupby/groupby.py\u001b[0m in \u001b[0;36mcompute_result\u001b[0;34m(self, agg)\u001b[0m\n\u001b[1;32m    233\u001b[0m \u001b[0;34m\u001b[0m\u001b[0m\n\u001b[1;32m    234\u001b[0m         out_key_columns, out_value_columns = _groupby_engine(\n\u001b[0;32m--> 235\u001b[0;31m             \u001b[0mself\u001b[0m\u001b[0;34m.\u001b[0m\u001b[0mkey_columns\u001b[0m\u001b[0;34m,\u001b[0m \u001b[0mself\u001b[0m\u001b[0;34m.\u001b[0m\u001b[0mvalue_columns\u001b[0m\u001b[0;34m,\u001b[0m \u001b[0maggs_as_list\u001b[0m\u001b[0;34m,\u001b[0m \u001b[0mself\u001b[0m\u001b[0;34m.\u001b[0m\u001b[0msort\u001b[0m\u001b[0;34m\u001b[0m\u001b[0;34m\u001b[0m\u001b[0m\n\u001b[0m\u001b[1;32m    236\u001b[0m         )\n\u001b[1;32m    237\u001b[0m \u001b[0;34m\u001b[0m\u001b[0m\n",
      "\u001b[0;32m/opt/conda/envs/rapids/lib/python3.6/site-packages/cudf/groupby/groupby.py\u001b[0m in \u001b[0;36m_groupby_engine\u001b[0;34m(key_columns, value_columns, aggs, sort)\u001b[0m\n\u001b[1;32m    431\u001b[0m \u001b[0;34m\u001b[0m\u001b[0m\n\u001b[1;32m    432\u001b[0m         \u001b[0;31m# sort values\u001b[0m\u001b[0;34m\u001b[0m\u001b[0;34m\u001b[0m\u001b[0;34m\u001b[0m\u001b[0m\n\u001b[0;32m--> 433\u001b[0;31m         \u001b[0mresult\u001b[0m \u001b[0;34m=\u001b[0m \u001b[0mresult\u001b[0m\u001b[0;34m.\u001b[0m\u001b[0msort_values\u001b[0m\u001b[0;34m(\u001b[0m\u001b[0mkey_names\u001b[0m\u001b[0;34m)\u001b[0m\u001b[0;34m\u001b[0m\u001b[0;34m\u001b[0m\u001b[0m\n\u001b[0m\u001b[1;32m    434\u001b[0m \u001b[0;34m\u001b[0m\u001b[0m\n\u001b[1;32m    435\u001b[0m         \u001b[0;31m# split\u001b[0m\u001b[0;34m\u001b[0m\u001b[0;34m\u001b[0m\u001b[0;34m\u001b[0m\u001b[0m\n",
      "\u001b[0;32m/opt/conda/envs/rapids/lib/python3.6/site-packages/cudf/dataframe/dataframe.py\u001b[0m in \u001b[0;36msort_values\u001b[0;34m(self, by, ascending, na_position)\u001b[0m\n\u001b[1;32m   1938\u001b[0m         \u001b[0;31m# argsort the `by` column\u001b[0m\u001b[0;34m\u001b[0m\u001b[0;34m\u001b[0m\u001b[0;34m\u001b[0m\u001b[0m\n\u001b[1;32m   1939\u001b[0m         return self.take(\n\u001b[0;32m-> 1940\u001b[0;31m             \u001b[0mself\u001b[0m\u001b[0;34m[\u001b[0m\u001b[0mby\u001b[0m\u001b[0;34m]\u001b[0m\u001b[0;34m.\u001b[0m\u001b[0margsort\u001b[0m\u001b[0;34m(\u001b[0m\u001b[0mascending\u001b[0m\u001b[0;34m=\u001b[0m\u001b[0mascending\u001b[0m\u001b[0;34m,\u001b[0m \u001b[0mna_position\u001b[0m\u001b[0;34m=\u001b[0m\u001b[0mna_position\u001b[0m\u001b[0;34m)\u001b[0m\u001b[0;34m\u001b[0m\u001b[0;34m\u001b[0m\u001b[0m\n\u001b[0m\u001b[1;32m   1941\u001b[0m         )\n\u001b[1;32m   1942\u001b[0m \u001b[0;34m\u001b[0m\u001b[0m\n",
      "\u001b[0;32m/opt/conda/envs/rapids/lib/python3.6/site-packages/cudf/dataframe/dataframe.py\u001b[0m in \u001b[0;36mtake\u001b[0;34m(self, positions, ignore_index)\u001b[0m\n\u001b[1;32m   1203\u001b[0m         \u001b[0;32mif\u001b[0m \u001b[0mself\u001b[0m\u001b[0;34m.\u001b[0m\u001b[0m_cols\u001b[0m\u001b[0;34m:\u001b[0m\u001b[0;34m\u001b[0m\u001b[0;34m\u001b[0m\u001b[0m\n\u001b[1;32m   1204\u001b[0m             \u001b[0;32mfor\u001b[0m \u001b[0mi\u001b[0m\u001b[0;34m,\u001b[0m \u001b[0mcol_name\u001b[0m \u001b[0;32min\u001b[0m \u001b[0menumerate\u001b[0m\u001b[0;34m(\u001b[0m\u001b[0mself\u001b[0m\u001b[0;34m.\u001b[0m\u001b[0m_cols\u001b[0m\u001b[0;34m.\u001b[0m\u001b[0mkeys\u001b[0m\u001b[0;34m(\u001b[0m\u001b[0;34m)\u001b[0m\u001b[0;34m)\u001b[0m\u001b[0;34m:\u001b[0m\u001b[0;34m\u001b[0m\u001b[0;34m\u001b[0m\u001b[0m\n\u001b[0;32m-> 1205\u001b[0;31m                 \u001b[0mout\u001b[0m\u001b[0;34m[\u001b[0m\u001b[0mcol_name\u001b[0m\u001b[0;34m]\u001b[0m \u001b[0;34m=\u001b[0m \u001b[0mself\u001b[0m\u001b[0;34m[\u001b[0m\u001b[0mcol_name\u001b[0m\u001b[0;34m]\u001b[0m\u001b[0;34m[\u001b[0m\u001b[0mpositions\u001b[0m\u001b[0;34m]\u001b[0m\u001b[0;34m\u001b[0m\u001b[0;34m\u001b[0m\u001b[0m\n\u001b[0m\u001b[1;32m   1206\u001b[0m         \u001b[0;32mif\u001b[0m \u001b[0mignore_index\u001b[0m\u001b[0;34m:\u001b[0m\u001b[0;34m\u001b[0m\u001b[0;34m\u001b[0m\u001b[0m\n\u001b[1;32m   1207\u001b[0m             \u001b[0mout\u001b[0m\u001b[0;34m.\u001b[0m\u001b[0mindex\u001b[0m \u001b[0;34m=\u001b[0m \u001b[0mRangeIndex\u001b[0m\u001b[0;34m(\u001b[0m\u001b[0mlen\u001b[0m\u001b[0;34m(\u001b[0m\u001b[0mout\u001b[0m\u001b[0;34m)\u001b[0m\u001b[0;34m)\u001b[0m\u001b[0;34m\u001b[0m\u001b[0;34m\u001b[0m\u001b[0m\n",
      "\u001b[0;32m/opt/conda/envs/rapids/lib/python3.6/site-packages/cudf/dataframe/series.py\u001b[0m in \u001b[0;36m__getitem__\u001b[0;34m(self, arg)\u001b[0m\n\u001b[1;32m    381\u001b[0m \u001b[0;34m\u001b[0m\u001b[0m\n\u001b[1;32m    382\u001b[0m     \u001b[0;32mdef\u001b[0m \u001b[0m__getitem__\u001b[0m\u001b[0;34m(\u001b[0m\u001b[0mself\u001b[0m\u001b[0;34m,\u001b[0m \u001b[0marg\u001b[0m\u001b[0;34m)\u001b[0m\u001b[0;34m:\u001b[0m\u001b[0;34m\u001b[0m\u001b[0;34m\u001b[0m\u001b[0m\n\u001b[0;32m--> 383\u001b[0;31m         \u001b[0mdata\u001b[0m \u001b[0;34m=\u001b[0m \u001b[0mself\u001b[0m\u001b[0;34m.\u001b[0m\u001b[0m_column\u001b[0m\u001b[0;34m[\u001b[0m\u001b[0marg\u001b[0m\u001b[0;34m]\u001b[0m\u001b[0;34m\u001b[0m\u001b[0;34m\u001b[0m\u001b[0m\n\u001b[0m\u001b[1;32m    384\u001b[0m         \u001b[0mindex\u001b[0m \u001b[0;34m=\u001b[0m \u001b[0mself\u001b[0m\u001b[0;34m.\u001b[0m\u001b[0mindex\u001b[0m\u001b[0;34m.\u001b[0m\u001b[0mtake\u001b[0m\u001b[0;34m(\u001b[0m\u001b[0marg\u001b[0m\u001b[0;34m)\u001b[0m\u001b[0;34m\u001b[0m\u001b[0;34m\u001b[0m\u001b[0m\n\u001b[1;32m    385\u001b[0m         \u001b[0;32mif\u001b[0m \u001b[0mutils\u001b[0m\u001b[0;34m.\u001b[0m\u001b[0mis_scalar\u001b[0m\u001b[0;34m(\u001b[0m\u001b[0mdata\u001b[0m\u001b[0;34m)\u001b[0m \u001b[0;32mor\u001b[0m \u001b[0mdata\u001b[0m \u001b[0;32mis\u001b[0m \u001b[0;32mNone\u001b[0m\u001b[0;34m:\u001b[0m\u001b[0;34m\u001b[0m\u001b[0;34m\u001b[0m\u001b[0m\n",
      "\u001b[0;32m/opt/conda/envs/rapids/lib/python3.6/site-packages/cudf/dataframe/column.py\u001b[0m in \u001b[0;36m__getitem__\u001b[0;34m(self, arg)\u001b[0m\n\u001b[1;32m    528\u001b[0m                 \u001b[0marg\u001b[0m \u001b[0;34m=\u001b[0m \u001b[0mcolumnops\u001b[0m\u001b[0;34m.\u001b[0m\u001b[0mas_column\u001b[0m\u001b[0;34m(\u001b[0m\u001b[0;34m[\u001b[0m\u001b[0;34m]\u001b[0m\u001b[0;34m,\u001b[0m \u001b[0mdtype\u001b[0m\u001b[0;34m=\u001b[0m\u001b[0;34m\"int32\"\u001b[0m\u001b[0;34m)\u001b[0m\u001b[0;34m\u001b[0m\u001b[0;34m\u001b[0m\u001b[0m\n\u001b[1;32m    529\u001b[0m             \u001b[0;32mif\u001b[0m \u001b[0mpd\u001b[0m\u001b[0;34m.\u001b[0m\u001b[0mapi\u001b[0m\u001b[0;34m.\u001b[0m\u001b[0mtypes\u001b[0m\u001b[0;34m.\u001b[0m\u001b[0mis_integer_dtype\u001b[0m\u001b[0;34m(\u001b[0m\u001b[0marg\u001b[0m\u001b[0;34m.\u001b[0m\u001b[0mdtype\u001b[0m\u001b[0;34m)\u001b[0m\u001b[0;34m:\u001b[0m\u001b[0;34m\u001b[0m\u001b[0;34m\u001b[0m\u001b[0m\n\u001b[0;32m--> 530\u001b[0;31m                 \u001b[0;32mreturn\u001b[0m \u001b[0mself\u001b[0m\u001b[0;34m.\u001b[0m\u001b[0mtake\u001b[0m\u001b[0;34m(\u001b[0m\u001b[0marg\u001b[0m\u001b[0;34m.\u001b[0m\u001b[0mdata\u001b[0m\u001b[0;34m.\u001b[0m\u001b[0mmem\u001b[0m\u001b[0;34m)\u001b[0m\u001b[0;34m\u001b[0m\u001b[0;34m\u001b[0m\u001b[0m\n\u001b[0m\u001b[1;32m    531\u001b[0m             \u001b[0;32mif\u001b[0m \u001b[0mpd\u001b[0m\u001b[0;34m.\u001b[0m\u001b[0mapi\u001b[0m\u001b[0;34m.\u001b[0m\u001b[0mtypes\u001b[0m\u001b[0;34m.\u001b[0m\u001b[0mis_bool_dtype\u001b[0m\u001b[0;34m(\u001b[0m\u001b[0marg\u001b[0m\u001b[0;34m.\u001b[0m\u001b[0mdtype\u001b[0m\u001b[0;34m)\u001b[0m\u001b[0;34m:\u001b[0m\u001b[0;34m\u001b[0m\u001b[0;34m\u001b[0m\u001b[0m\n\u001b[1;32m    532\u001b[0m                 \u001b[0;32mreturn\u001b[0m \u001b[0mself\u001b[0m\u001b[0;34m.\u001b[0m\u001b[0mapply_boolean_mask\u001b[0m\u001b[0;34m(\u001b[0m\u001b[0marg\u001b[0m\u001b[0;34m)\u001b[0m\u001b[0;34m\u001b[0m\u001b[0;34m\u001b[0m\u001b[0m\n",
      "\u001b[0;32m/opt/conda/envs/rapids/lib/python3.6/site-packages/cudf/dataframe/column.py\u001b[0m in \u001b[0;36mtake\u001b[0;34m(self, indices, ignore_index)\u001b[0m\n\u001b[1;32m    711\u001b[0m \u001b[0;34m\u001b[0m\u001b[0m\n\u001b[1;32m    712\u001b[0m         \u001b[0;31m# Returns a new column\u001b[0m\u001b[0;34m\u001b[0m\u001b[0;34m\u001b[0m\u001b[0;34m\u001b[0m\u001b[0m\n\u001b[0;32m--> 713\u001b[0;31m         \u001b[0mresult\u001b[0m \u001b[0;34m=\u001b[0m \u001b[0mcpp_copying\u001b[0m\u001b[0;34m.\u001b[0m\u001b[0mapply_gather\u001b[0m\u001b[0;34m(\u001b[0m\u001b[0mself\u001b[0m\u001b[0;34m,\u001b[0m \u001b[0mindices\u001b[0m\u001b[0;34m)\u001b[0m\u001b[0;34m\u001b[0m\u001b[0;34m\u001b[0m\u001b[0m\n\u001b[0m\u001b[1;32m    714\u001b[0m         \u001b[0mresult\u001b[0m\u001b[0;34m.\u001b[0m\u001b[0mname\u001b[0m \u001b[0;34m=\u001b[0m \u001b[0mself\u001b[0m\u001b[0;34m.\u001b[0m\u001b[0mname\u001b[0m\u001b[0;34m\u001b[0m\u001b[0;34m\u001b[0m\u001b[0m\n\u001b[1;32m    715\u001b[0m         \u001b[0;32mreturn\u001b[0m \u001b[0mresult\u001b[0m\u001b[0;34m\u001b[0m\u001b[0;34m\u001b[0m\u001b[0m\n",
      "\u001b[0;32mcudf/bindings/copying.pyx\u001b[0m in \u001b[0;36mcudf.bindings.copying.apply_gather\u001b[0;34m()\u001b[0m\n",
      "\u001b[0;32mcudf/bindings/copying.pyx\u001b[0m in \u001b[0;36mcudf.bindings.copying._normalize_maps\u001b[0;34m()\u001b[0m\n",
      "\u001b[0;32m/opt/conda/envs/rapids/lib/python3.6/site-packages/cudf/dataframe/numerical.py\u001b[0m in \u001b[0;36mbinary_operator\u001b[0;34m(self, binop, rhs, reflect)\u001b[0m\n\u001b[1;32m     73\u001b[0m                 \u001b[0mop\u001b[0m\u001b[0;34m=\u001b[0m\u001b[0mbinop\u001b[0m\u001b[0;34m,\u001b[0m\u001b[0;34m\u001b[0m\u001b[0;34m\u001b[0m\u001b[0m\n\u001b[1;32m     74\u001b[0m                 \u001b[0mout_dtype\u001b[0m\u001b[0;34m=\u001b[0m\u001b[0mout_dtype\u001b[0m\u001b[0;34m,\u001b[0m\u001b[0;34m\u001b[0m\u001b[0;34m\u001b[0m\u001b[0m\n\u001b[0;32m---> 75\u001b[0;31m                 \u001b[0mreflect\u001b[0m\u001b[0;34m=\u001b[0m\u001b[0mreflect\u001b[0m\u001b[0;34m,\u001b[0m\u001b[0;34m\u001b[0m\u001b[0;34m\u001b[0m\u001b[0m\n\u001b[0m\u001b[1;32m     76\u001b[0m             )\n\u001b[1;32m     77\u001b[0m         \u001b[0;32melse\u001b[0m\u001b[0;34m:\u001b[0m\u001b[0;34m\u001b[0m\u001b[0;34m\u001b[0m\u001b[0m\n",
      "\u001b[0;32m/opt/conda/envs/rapids/lib/python3.6/site-packages/cudf/dataframe/numerical.py\u001b[0m in \u001b[0;36mnumeric_column_binop\u001b[0;34m(lhs, rhs, op, out_dtype, reflect)\u001b[0m\n\u001b[1;32m    399\u001b[0m     \u001b[0mout\u001b[0m \u001b[0;34m=\u001b[0m \u001b[0mcolumnops\u001b[0m\u001b[0;34m.\u001b[0m\u001b[0mcolumn_empty\u001b[0m\u001b[0;34m(\u001b[0m\u001b[0mrow_count\u001b[0m\u001b[0;34m,\u001b[0m \u001b[0mdtype\u001b[0m\u001b[0;34m=\u001b[0m\u001b[0mout_dtype\u001b[0m\u001b[0;34m,\u001b[0m \u001b[0mmasked\u001b[0m\u001b[0;34m=\u001b[0m\u001b[0mmasked\u001b[0m\u001b[0;34m)\u001b[0m\u001b[0;34m\u001b[0m\u001b[0;34m\u001b[0m\u001b[0m\n\u001b[1;32m    400\u001b[0m     \u001b[0;31m# Call and fix null_count\u001b[0m\u001b[0;34m\u001b[0m\u001b[0;34m\u001b[0m\u001b[0;34m\u001b[0m\u001b[0m\n\u001b[0;32m--> 401\u001b[0;31m     \u001b[0mnull_count\u001b[0m \u001b[0;34m=\u001b[0m \u001b[0mcpp_binops\u001b[0m\u001b[0;34m.\u001b[0m\u001b[0mapply_op\u001b[0m\u001b[0;34m(\u001b[0m\u001b[0mlhs\u001b[0m\u001b[0;34m,\u001b[0m \u001b[0mrhs\u001b[0m\u001b[0;34m,\u001b[0m \u001b[0mout\u001b[0m\u001b[0;34m,\u001b[0m \u001b[0mop\u001b[0m\u001b[0;34m)\u001b[0m\u001b[0;34m\u001b[0m\u001b[0;34m\u001b[0m\u001b[0m\n\u001b[0m\u001b[1;32m    402\u001b[0m \u001b[0;34m\u001b[0m\u001b[0m\n\u001b[1;32m    403\u001b[0m     \u001b[0;32mif\u001b[0m \u001b[0mis_op_comparison\u001b[0m\u001b[0;34m:\u001b[0m\u001b[0;34m\u001b[0m\u001b[0;34m\u001b[0m\u001b[0m\n",
      "\u001b[0;32mcudf/bindings/binops.pyx\u001b[0m in \u001b[0;36mcudf.bindings.binops.apply_op\u001b[0;34m()\u001b[0m\n",
      "\u001b[0;32mcudf/bindings/binops.pyx\u001b[0m in \u001b[0;36mcudf.bindings.binops.apply_op_v_s\u001b[0;34m()\u001b[0m\n",
      "\u001b[0;31mRuntimeError\u001b[0m: NVRTC error: NVRTC_ERROR_INVALID_OPTION"
     ]
    },
    {
     "name": "stdout",
     "output_type": "stream",
     "text": [
      "time: 69 ms\n"
     ]
    }
   ],
   "source": [
    "def calcMean(AvgOccupancy, ParkingSpaceCount, MeanOccupancy):\n",
    "    '''\n",
    "        Calculate mean\n",
    "    '''\n",
    "    for i, (avgOccSum, avgCnt) in enumerate(zip(AvgOccupancy, ParkingSpaceCount)):\n",
    "        MeanOccupancy[i] = float(avgOccSum) / avgCnt\n",
    "\n",
    "df_agg_dt = (\n",
    "    df\n",
    "    .groupby(['SourceElementKey', 'DayOfWeek','hour'])\n",
    "    .agg({\n",
    "          'ParkingSpaceCount': 'count'\n",
    "        , 'AvgOccupancy': 'sum'\n",
    "    })\n",
    "    .reset_index()\n",
    ")\n",
    "\n",
    "df_agg_dt = df_agg_dt.apply_rows(\n",
    "    calcMean\n",
    "    , incols=['AvgOccupancy', 'ParkingSpaceCount']\n",
    "    , outcols={'MeanOccupancy':np.float64}\n",
    "    , kwargs={}\n",
    ")\n",
    "\n",
    "df_agg_dt.drop_column('AvgOccupancy')\n",
    "df_agg_dt.drop_column('ParkingSpaceCount')\n",
    "\n",
    "df_agg_dt.head().to_pandas()"
   ]
  },
  {
   "cell_type": "markdown",
   "metadata": {},
   "source": [
    "# Find the best parking"
   ]
  },
  {
   "cell_type": "code",
   "execution_count": 40,
   "metadata": {},
   "outputs": [
    {
     "name": "stdout",
     "output_type": "stream",
     "text": [
      "Collecting geopy\n",
      "\u001b[?25l  Downloading https://files.pythonhosted.org/packages/80/93/d384479da0ead712bdaf697a8399c13a9a89bd856ada5a27d462fb45e47b/geopy-1.20.0-py2.py3-none-any.whl (100kB)\n",
      "\u001b[K     |################################| 102kB 12.5MB/s ta 0:00:01\n",
      "\u001b[?25hCollecting geographiclib<2,>=1.49 (from geopy)\n",
      "  Downloading https://files.pythonhosted.org/packages/5b/ac/4f348828091490d77899bc74e92238e2b55c59392f21948f296e94e50e2b/geographiclib-1.49.tar.gz\n",
      "Building wheels for collected packages: geographiclib\n",
      "  Building wheel for geographiclib (setup.py) ... \u001b[?25ldone\n",
      "\u001b[?25h  Created wheel for geographiclib: filename=geographiclib-1.49-cp36-none-any.whl size=35860 sha256=4988f9064d8c1420f4f9a320adaf10f90043126217ac170104a7bdd11d7cebb6\n",
      "  Stored in directory: /root/.cache/pip/wheels/99/45/d1/14954797e2a976083182c2e7da9b4e924509e59b6e5c661061\n",
      "Successfully built geographiclib\n",
      "Installing collected packages: geographiclib, geopy\n",
      "Successfully installed geographiclib-1.49 geopy-1.20.0\n",
      "time: 2.12 s\n"
     ]
    }
   ],
   "source": [
    "!pip install geopy"
   ]
  },
  {
   "cell_type": "code",
   "execution_count": 41,
   "metadata": {},
   "outputs": [
    {
     "name": "stdout",
     "output_type": "stream",
     "text": [
      "time: 2.2 s\n"
     ]
    }
   ],
   "source": [
    "from geopy.geocoders import Nominatim\n",
    "\n",
    "geolocator = Nominatim(user_agent=\"todrabas_test\")\n",
    "location = geolocator.geocode(\"2300 7th Ave Seattle\")\n",
    "\n",
    "locations['LON_Ref'] = location.longitude\n",
    "locations['LAT_Ref'] = location.latitude"
   ]
  },
  {
   "cell_type": "code",
   "execution_count": 1,
   "metadata": {},
   "outputs": [
    {
     "ename": "RuntimeError",
     "evalue": "NVRTC error: NVRTC_ERROR_INVALID_OPTION",
     "output_type": "error",
     "traceback": [
      "\u001b[0;31m---------------------------------------------------------------------------\u001b[0m",
      "\u001b[0;31mRuntimeError\u001b[0m                              Traceback (most recent call last)",
      "\u001b[0;32m<ipython-input-1-76a6edc2f3fd>\u001b[0m in \u001b[0;36m<module>\u001b[0;34m\u001b[0m\n\u001b[1;32m      8\u001b[0m     })\n\u001b[1;32m      9\u001b[0m )\n\u001b[0;32m---> 10\u001b[0;31m \u001b[0mgpu_df\u001b[0m\u001b[0;34m.\u001b[0m\u001b[0msort_values\u001b[0m\u001b[0;34m(\u001b[0m\u001b[0;34m'id'\u001b[0m\u001b[0;34m)\u001b[0m\u001b[0;34m\u001b[0m\u001b[0;34m\u001b[0m\u001b[0m\n\u001b[0m",
      "\u001b[0;32m/opt/conda/envs/rapids/lib/python3.6/site-packages/cudf/dataframe/dataframe.py\u001b[0m in \u001b[0;36msort_values\u001b[0;34m(self, by, ascending, na_position)\u001b[0m\n\u001b[1;32m   1938\u001b[0m         \u001b[0;31m# argsort the `by` column\u001b[0m\u001b[0;34m\u001b[0m\u001b[0;34m\u001b[0m\u001b[0;34m\u001b[0m\u001b[0m\n\u001b[1;32m   1939\u001b[0m         return self.take(\n\u001b[0;32m-> 1940\u001b[0;31m             \u001b[0mself\u001b[0m\u001b[0;34m[\u001b[0m\u001b[0mby\u001b[0m\u001b[0;34m]\u001b[0m\u001b[0;34m.\u001b[0m\u001b[0margsort\u001b[0m\u001b[0;34m(\u001b[0m\u001b[0mascending\u001b[0m\u001b[0;34m=\u001b[0m\u001b[0mascending\u001b[0m\u001b[0;34m,\u001b[0m \u001b[0mna_position\u001b[0m\u001b[0;34m=\u001b[0m\u001b[0mna_position\u001b[0m\u001b[0;34m)\u001b[0m\u001b[0;34m\u001b[0m\u001b[0;34m\u001b[0m\u001b[0m\n\u001b[0m\u001b[1;32m   1941\u001b[0m         )\n\u001b[1;32m   1942\u001b[0m \u001b[0;34m\u001b[0m\u001b[0m\n",
      "\u001b[0;32m/opt/conda/envs/rapids/lib/python3.6/site-packages/cudf/dataframe/series.py\u001b[0m in \u001b[0;36margsort\u001b[0;34m(self, ascending, na_position)\u001b[0m\n\u001b[1;32m   1392\u001b[0m         \u001b[0mresult\u001b[0m\u001b[0;34m:\u001b[0m \u001b[0mSeries\u001b[0m\u001b[0;34m\u001b[0m\u001b[0;34m\u001b[0m\u001b[0m\n\u001b[1;32m   1393\u001b[0m         \"\"\"\n\u001b[0;32m-> 1394\u001b[0;31m         \u001b[0;32mreturn\u001b[0m \u001b[0mself\u001b[0m\u001b[0;34m.\u001b[0m\u001b[0m_sort\u001b[0m\u001b[0;34m(\u001b[0m\u001b[0mascending\u001b[0m\u001b[0;34m=\u001b[0m\u001b[0mascending\u001b[0m\u001b[0;34m,\u001b[0m \u001b[0mna_position\u001b[0m\u001b[0;34m=\u001b[0m\u001b[0mna_position\u001b[0m\u001b[0;34m)\u001b[0m\u001b[0;34m[\u001b[0m\u001b[0;36m1\u001b[0m\u001b[0;34m]\u001b[0m\u001b[0;34m\u001b[0m\u001b[0;34m\u001b[0m\u001b[0m\n\u001b[0m\u001b[1;32m   1395\u001b[0m \u001b[0;34m\u001b[0m\u001b[0m\n\u001b[1;32m   1396\u001b[0m     \u001b[0;32mdef\u001b[0m \u001b[0msort_index\u001b[0m\u001b[0;34m(\u001b[0m\u001b[0mself\u001b[0m\u001b[0;34m,\u001b[0m \u001b[0mascending\u001b[0m\u001b[0;34m=\u001b[0m\u001b[0;32mTrue\u001b[0m\u001b[0;34m)\u001b[0m\u001b[0;34m:\u001b[0m\u001b[0;34m\u001b[0m\u001b[0;34m\u001b[0m\u001b[0m\n",
      "\u001b[0;32m/opt/conda/envs/rapids/lib/python3.6/site-packages/cudf/dataframe/series.py\u001b[0m in \u001b[0;36m_sort\u001b[0;34m(self, ascending, na_position)\u001b[0m\n\u001b[1;32m   1466\u001b[0m         \"\"\"\n\u001b[1;32m   1467\u001b[0m         col_keys, col_inds = self._column.sort_by_values(\n\u001b[0;32m-> 1468\u001b[0;31m             \u001b[0mascending\u001b[0m\u001b[0;34m=\u001b[0m\u001b[0mascending\u001b[0m\u001b[0;34m,\u001b[0m \u001b[0mna_position\u001b[0m\u001b[0;34m=\u001b[0m\u001b[0mna_position\u001b[0m\u001b[0;34m\u001b[0m\u001b[0;34m\u001b[0m\u001b[0m\n\u001b[0m\u001b[1;32m   1469\u001b[0m         )\n\u001b[1;32m   1470\u001b[0m         \u001b[0msr_keys\u001b[0m \u001b[0;34m=\u001b[0m \u001b[0mself\u001b[0m\u001b[0;34m.\u001b[0m\u001b[0m_copy_construct\u001b[0m\u001b[0;34m(\u001b[0m\u001b[0mdata\u001b[0m\u001b[0;34m=\u001b[0m\u001b[0mcol_keys\u001b[0m\u001b[0;34m)\u001b[0m\u001b[0;34m\u001b[0m\u001b[0;34m\u001b[0m\u001b[0m\n",
      "\u001b[0;32m/opt/conda/envs/rapids/lib/python3.6/site-packages/cudf/dataframe/numerical.py\u001b[0m in \u001b[0;36msort_by_values\u001b[0;34m(self, ascending, na_position)\u001b[0m\n\u001b[1;32m    152\u001b[0m     \u001b[0;32mdef\u001b[0m \u001b[0msort_by_values\u001b[0m\u001b[0;34m(\u001b[0m\u001b[0mself\u001b[0m\u001b[0;34m,\u001b[0m \u001b[0mascending\u001b[0m\u001b[0;34m=\u001b[0m\u001b[0;32mTrue\u001b[0m\u001b[0;34m,\u001b[0m \u001b[0mna_position\u001b[0m\u001b[0;34m=\u001b[0m\u001b[0;34m\"last\"\u001b[0m\u001b[0;34m)\u001b[0m\u001b[0;34m:\u001b[0m\u001b[0;34m\u001b[0m\u001b[0;34m\u001b[0m\u001b[0m\n\u001b[1;32m    153\u001b[0m         \u001b[0msort_inds\u001b[0m \u001b[0;34m=\u001b[0m \u001b[0mget_sorted_inds\u001b[0m\u001b[0;34m(\u001b[0m\u001b[0mself\u001b[0m\u001b[0;34m,\u001b[0m \u001b[0mascending\u001b[0m\u001b[0;34m,\u001b[0m \u001b[0mna_position\u001b[0m\u001b[0;34m)\u001b[0m\u001b[0;34m\u001b[0m\u001b[0;34m\u001b[0m\u001b[0m\n\u001b[0;32m--> 154\u001b[0;31m         \u001b[0mcol_keys\u001b[0m \u001b[0;34m=\u001b[0m \u001b[0mcpp_copying\u001b[0m\u001b[0;34m.\u001b[0m\u001b[0mapply_gather\u001b[0m\u001b[0;34m(\u001b[0m\u001b[0mself\u001b[0m\u001b[0;34m,\u001b[0m \u001b[0msort_inds\u001b[0m\u001b[0;34m.\u001b[0m\u001b[0mdata\u001b[0m\u001b[0;34m.\u001b[0m\u001b[0mmem\u001b[0m\u001b[0;34m)\u001b[0m\u001b[0;34m\u001b[0m\u001b[0;34m\u001b[0m\u001b[0m\n\u001b[0m\u001b[1;32m    155\u001b[0m         col_inds = self.replace(\n\u001b[1;32m    156\u001b[0m             \u001b[0mdata\u001b[0m\u001b[0;34m=\u001b[0m\u001b[0msort_inds\u001b[0m\u001b[0;34m.\u001b[0m\u001b[0mdata\u001b[0m\u001b[0;34m,\u001b[0m\u001b[0;34m\u001b[0m\u001b[0;34m\u001b[0m\u001b[0m\n",
      "\u001b[0;32mcudf/bindings/copying.pyx\u001b[0m in \u001b[0;36mcudf.bindings.copying.apply_gather\u001b[0;34m()\u001b[0m\n",
      "\u001b[0;32mcudf/bindings/copying.pyx\u001b[0m in \u001b[0;36mcudf.bindings.copying._normalize_maps\u001b[0;34m()\u001b[0m\n",
      "\u001b[0;32m/opt/conda/envs/rapids/lib/python3.6/site-packages/cudf/dataframe/numerical.py\u001b[0m in \u001b[0;36mbinary_operator\u001b[0;34m(self, binop, rhs, reflect)\u001b[0m\n\u001b[1;32m     73\u001b[0m                 \u001b[0mop\u001b[0m\u001b[0;34m=\u001b[0m\u001b[0mbinop\u001b[0m\u001b[0;34m,\u001b[0m\u001b[0;34m\u001b[0m\u001b[0;34m\u001b[0m\u001b[0m\n\u001b[1;32m     74\u001b[0m                 \u001b[0mout_dtype\u001b[0m\u001b[0;34m=\u001b[0m\u001b[0mout_dtype\u001b[0m\u001b[0;34m,\u001b[0m\u001b[0;34m\u001b[0m\u001b[0;34m\u001b[0m\u001b[0m\n\u001b[0;32m---> 75\u001b[0;31m                 \u001b[0mreflect\u001b[0m\u001b[0;34m=\u001b[0m\u001b[0mreflect\u001b[0m\u001b[0;34m,\u001b[0m\u001b[0;34m\u001b[0m\u001b[0;34m\u001b[0m\u001b[0m\n\u001b[0m\u001b[1;32m     76\u001b[0m             )\n\u001b[1;32m     77\u001b[0m         \u001b[0;32melse\u001b[0m\u001b[0;34m:\u001b[0m\u001b[0;34m\u001b[0m\u001b[0;34m\u001b[0m\u001b[0m\n",
      "\u001b[0;32m/opt/conda/envs/rapids/lib/python3.6/site-packages/cudf/dataframe/numerical.py\u001b[0m in \u001b[0;36mnumeric_column_binop\u001b[0;34m(lhs, rhs, op, out_dtype, reflect)\u001b[0m\n\u001b[1;32m    399\u001b[0m     \u001b[0mout\u001b[0m \u001b[0;34m=\u001b[0m \u001b[0mcolumnops\u001b[0m\u001b[0;34m.\u001b[0m\u001b[0mcolumn_empty\u001b[0m\u001b[0;34m(\u001b[0m\u001b[0mrow_count\u001b[0m\u001b[0;34m,\u001b[0m \u001b[0mdtype\u001b[0m\u001b[0;34m=\u001b[0m\u001b[0mout_dtype\u001b[0m\u001b[0;34m,\u001b[0m \u001b[0mmasked\u001b[0m\u001b[0;34m=\u001b[0m\u001b[0mmasked\u001b[0m\u001b[0;34m)\u001b[0m\u001b[0;34m\u001b[0m\u001b[0;34m\u001b[0m\u001b[0m\n\u001b[1;32m    400\u001b[0m     \u001b[0;31m# Call and fix null_count\u001b[0m\u001b[0;34m\u001b[0m\u001b[0;34m\u001b[0m\u001b[0;34m\u001b[0m\u001b[0m\n\u001b[0;32m--> 401\u001b[0;31m     \u001b[0mnull_count\u001b[0m \u001b[0;34m=\u001b[0m \u001b[0mcpp_binops\u001b[0m\u001b[0;34m.\u001b[0m\u001b[0mapply_op\u001b[0m\u001b[0;34m(\u001b[0m\u001b[0mlhs\u001b[0m\u001b[0;34m,\u001b[0m \u001b[0mrhs\u001b[0m\u001b[0;34m,\u001b[0m \u001b[0mout\u001b[0m\u001b[0;34m,\u001b[0m \u001b[0mop\u001b[0m\u001b[0;34m)\u001b[0m\u001b[0;34m\u001b[0m\u001b[0;34m\u001b[0m\u001b[0m\n\u001b[0m\u001b[1;32m    402\u001b[0m \u001b[0;34m\u001b[0m\u001b[0m\n\u001b[1;32m    403\u001b[0m     \u001b[0;32mif\u001b[0m \u001b[0mis_op_comparison\u001b[0m\u001b[0;34m:\u001b[0m\u001b[0;34m\u001b[0m\u001b[0;34m\u001b[0m\u001b[0m\n",
      "\u001b[0;32mcudf/bindings/binops.pyx\u001b[0m in \u001b[0;36mcudf.bindings.binops.apply_op\u001b[0;34m()\u001b[0m\n",
      "\u001b[0;32mcudf/bindings/binops.pyx\u001b[0m in \u001b[0;36mcudf.bindings.binops.apply_op_v_s\u001b[0;34m()\u001b[0m\n",
      "\u001b[0;31mRuntimeError\u001b[0m: NVRTC error: NVRTC_ERROR_INVALID_OPTION"
     ]
    }
   ],
   "source": [
    "import pandas as pd\n",
    "import cudf\n",
    "\n",
    "gpu_df = cudf.from_pandas(\n",
    "    pd.DataFrame({\n",
    "          'id': [1,2,4,6,7,3]\n",
    "        , 'val': [66,2345,789,11,53,987]\n",
    "    })\n",
    ")\n",
    "gpu_df.sort_values('id')"
   ]
  },
  {
   "cell_type": "code",
   "execution_count": 45,
   "metadata": {},
   "outputs": [
    {
     "data": {
      "text/html": [
       "<div>\n",
       "<style scoped>\n",
       "    .dataframe tbody tr th:only-of-type {\n",
       "        vertical-align: middle;\n",
       "    }\n",
       "\n",
       "    .dataframe tbody tr th {\n",
       "        vertical-align: top;\n",
       "    }\n",
       "\n",
       "    .dataframe thead th {\n",
       "        text-align: right;\n",
       "    }\n",
       "</style>\n",
       "<table border=\"1\" class=\"dataframe\">\n",
       "  <thead>\n",
       "    <tr style=\"text-align: right;\">\n",
       "      <th></th>\n",
       "      <th>SourceElementKey</th>\n",
       "      <th>BlockfaceName</th>\n",
       "      <th>SideOfStreet</th>\n",
       "      <th>ParkingTimeLimitCategory</th>\n",
       "      <th>ParkingSpaceCount</th>\n",
       "      <th>PaidParkingArea</th>\n",
       "      <th>PaidParkingSubArea</th>\n",
       "      <th>ParkingCategory</th>\n",
       "      <th>Location</th>\n",
       "      <th>longitude</th>\n",
       "      <th>latitude</th>\n",
       "      <th>LON_Ref</th>\n",
       "      <th>LAT_Ref</th>\n",
       "      <th>Distance</th>\n",
       "    </tr>\n",
       "  </thead>\n",
       "  <tbody>\n",
       "    <tr>\n",
       "      <th>4080</th>\n",
       "      <td>1001</td>\n",
       "      <td>1ST AVE BETWEEN CHERRY ST AND COLUMBIA ST</td>\n",
       "      <td>SW</td>\n",
       "      <td>120</td>\n",
       "      <td>4.0</td>\n",
       "      <td>Pioneer Square</td>\n",
       "      <td>Core</td>\n",
       "      <td>Paid Parking</td>\n",
       "      <td>POINT (-122.33469356 47.6028728)</td>\n",
       "      <td>-122.334694</td>\n",
       "      <td>47.602873</td>\n",
       "      <td>-122.341789</td>\n",
       "      <td>47.617858</td>\n",
       "      <td>5738.588242</td>\n",
       "    </tr>\n",
       "    <tr>\n",
       "      <th>1336</th>\n",
       "      <td>1002</td>\n",
       "      <td>1ST AVE BETWEEN CHERRY ST AND COLUMBIA ST</td>\n",
       "      <td>NE</td>\n",
       "      <td>120</td>\n",
       "      <td>8.0</td>\n",
       "      <td>Pioneer Square</td>\n",
       "      <td>Core</td>\n",
       "      <td>Paid Parking</td>\n",
       "      <td>POINT (-122.33451266 47.60294861)</td>\n",
       "      <td>-122.334513</td>\n",
       "      <td>47.602949</td>\n",
       "      <td>-122.341789</td>\n",
       "      <td>47.617858</td>\n",
       "      <td>5725.999730</td>\n",
       "    </tr>\n",
       "    <tr>\n",
       "      <th>4455</th>\n",
       "      <td>1006</td>\n",
       "      <td>1ST AVE BETWEEN COLUMBIA ST AND MARION ST</td>\n",
       "      <td>NE</td>\n",
       "      <td>120</td>\n",
       "      <td>7.0</td>\n",
       "      <td>Commercial Core</td>\n",
       "      <td>Waterfront</td>\n",
       "      <td>Paid Parking</td>\n",
       "      <td>POINT (-122.33514326 47.60367439)</td>\n",
       "      <td>-122.335143</td>\n",
       "      <td>47.603674</td>\n",
       "      <td>-122.341789</td>\n",
       "      <td>47.617858</td>\n",
       "      <td>5426.381931</td>\n",
       "    </tr>\n",
       "    <tr>\n",
       "      <th>1026</th>\n",
       "      <td>1009</td>\n",
       "      <td>1ST AVE BETWEEN MADISON ST AND SPRING ST</td>\n",
       "      <td>SW</td>\n",
       "      <td>30</td>\n",
       "      <td>5.0</td>\n",
       "      <td>Commercial Core</td>\n",
       "      <td>Waterfront</td>\n",
       "      <td>Paid Parking</td>\n",
       "      <td>POINT (-122.3366575 47.60501765)</td>\n",
       "      <td>-122.336658</td>\n",
       "      <td>47.605018</td>\n",
       "      <td>-122.341789</td>\n",
       "      <td>47.617858</td>\n",
       "      <td>4851.330142</td>\n",
       "    </tr>\n",
       "    <tr>\n",
       "      <th>3208</th>\n",
       "      <td>1010</td>\n",
       "      <td>1ST AVE BETWEEN MADISON ST AND SPRING ST</td>\n",
       "      <td>NE</td>\n",
       "      <td>120</td>\n",
       "      <td>5.0</td>\n",
       "      <td>Commercial Core</td>\n",
       "      <td>Waterfront</td>\n",
       "      <td>Paid Parking</td>\n",
       "      <td>POINT (-122.33644748 47.6051007)</td>\n",
       "      <td>-122.336447</td>\n",
       "      <td>47.605101</td>\n",
       "      <td>-122.341789</td>\n",
       "      <td>47.617858</td>\n",
       "      <td>4835.860012</td>\n",
       "    </tr>\n",
       "  </tbody>\n",
       "</table>\n",
       "</div>"
      ],
      "text/plain": [
       "      SourceElementKey                              BlockfaceName  \\\n",
       "4080              1001  1ST AVE BETWEEN CHERRY ST AND COLUMBIA ST   \n",
       "1336              1002  1ST AVE BETWEEN CHERRY ST AND COLUMBIA ST   \n",
       "4455              1006  1ST AVE BETWEEN COLUMBIA ST AND MARION ST   \n",
       "1026              1009   1ST AVE BETWEEN MADISON ST AND SPRING ST   \n",
       "3208              1010   1ST AVE BETWEEN MADISON ST AND SPRING ST   \n",
       "\n",
       "     SideOfStreet  ParkingTimeLimitCategory  ParkingSpaceCount  \\\n",
       "4080           SW                       120                4.0   \n",
       "1336           NE                       120                8.0   \n",
       "4455           NE                       120                7.0   \n",
       "1026           SW                        30                5.0   \n",
       "3208           NE                       120                5.0   \n",
       "\n",
       "      PaidParkingArea PaidParkingSubArea ParkingCategory  \\\n",
       "4080   Pioneer Square               Core    Paid Parking   \n",
       "1336   Pioneer Square               Core    Paid Parking   \n",
       "4455  Commercial Core         Waterfront    Paid Parking   \n",
       "1026  Commercial Core         Waterfront    Paid Parking   \n",
       "3208  Commercial Core         Waterfront    Paid Parking   \n",
       "\n",
       "                               Location   longitude   latitude     LON_Ref  \\\n",
       "4080   POINT (-122.33469356 47.6028728) -122.334694  47.602873 -122.341789   \n",
       "1336  POINT (-122.33451266 47.60294861) -122.334513  47.602949 -122.341789   \n",
       "4455  POINT (-122.33514326 47.60367439) -122.335143  47.603674 -122.341789   \n",
       "1026   POINT (-122.3366575 47.60501765) -122.336658  47.605018 -122.341789   \n",
       "3208   POINT (-122.33644748 47.6051007) -122.336447  47.605101 -122.341789   \n",
       "\n",
       "        LAT_Ref     Distance  \n",
       "4080  47.617858  5738.588242  \n",
       "1336  47.617858  5725.999730  \n",
       "4455  47.617858  5426.381931  \n",
       "1026  47.617858  4851.330142  \n",
       "3208  47.617858  4835.860012  "
      ]
     },
     "execution_count": 45,
     "metadata": {},
     "output_type": "execute_result"
    },
    {
     "name": "stdout",
     "output_type": "stream",
     "text": [
      "time: 379 ms\n"
     ]
    }
   ],
   "source": [
    "from math import sin, cos, sqrt, atan2, pi\n",
    "\n",
    "def degToRad(deg):\n",
    "    return deg / 180.0 * pi\n",
    "\n",
    "def calculateDistance(latitude, longitude, LAT_Ref, LON_Ref, Distance):\n",
    "    R = 3958.8 # Earth's radius in miles\n",
    "    \n",
    "    for i, (lt, ln, lt_r, ln_r) in enumerate(zip(latitude, longitude, LAT_Ref, LON_Ref)):\n",
    "        lt_rad = lt / 180.0 * pi\n",
    "        ln_rad = ln / 180.0 * pi\n",
    "        \n",
    "        dlon = (ln_r - ln) / 180.0 * pi\n",
    "        dlat = (lt_r - lt) / 180.0 * pi\n",
    "        a = (sin(dlat/2.0))**2 + cos(lt_rad) * cos(lt_rad) * (sin(dlon/2.0))**2\n",
    "        c = 2 * atan2(sqrt(a), sqrt(1-a))\n",
    "        distance = R * c\n",
    "        Distance[i] = distance * 5280 # in feet\n",
    "        \n",
    "locations = locations.apply_rows(\n",
    "    calculateDistance\n",
    "    , incols=['latitude', 'longitude', 'LAT_Ref', 'LON_Ref']\n",
    "    , outcols={'Distance':np.float64}\n",
    "    , kwargs={}\n",
    ")\n",
    "\n",
    "locations.head().to_pandas()"
   ]
  },
  {
   "cell_type": "code",
   "execution_count": 46,
   "metadata": {},
   "outputs": [
    {
     "ename": "NameError",
     "evalue": "name 'df_agg_dt' is not defined",
     "output_type": "error",
     "traceback": [
      "\u001b[0;31m---------------------------------------------------------------------------\u001b[0m",
      "\u001b[0;31mNameError\u001b[0m                                 Traceback (most recent call last)",
      "\u001b[0;32m<ipython-input-46-8c840de13405>\u001b[0m in \u001b[0;36m<module>\u001b[0;34m\u001b[0m\n\u001b[1;32m      2\u001b[0m \u001b[0mclosest\u001b[0m \u001b[0;34m=\u001b[0m \u001b[0mlocations\u001b[0m\u001b[0;34m.\u001b[0m\u001b[0mquery\u001b[0m\u001b[0;34m(\u001b[0m\u001b[0;34m'Distance < 1000'\u001b[0m\u001b[0;34m)\u001b[0m\u001b[0;34m\u001b[0m\u001b[0;34m\u001b[0m\u001b[0m\n\u001b[1;32m      3\u001b[0m \u001b[0;34m\u001b[0m\u001b[0m\n\u001b[0;32m----> 4\u001b[0;31m \u001b[0mclosest\u001b[0m \u001b[0;34m=\u001b[0m \u001b[0mclosest\u001b[0m\u001b[0;34m.\u001b[0m\u001b[0mmerge\u001b[0m\u001b[0;34m(\u001b[0m\u001b[0mdf_agg_dt\u001b[0m\u001b[0;34m,\u001b[0m \u001b[0mhow\u001b[0m\u001b[0;34m=\u001b[0m\u001b[0;34m'inner'\u001b[0m\u001b[0;34m,\u001b[0m \u001b[0mon\u001b[0m\u001b[0;34m=\u001b[0m\u001b[0;34m[\u001b[0m\u001b[0;34m'SourceElementKey'\u001b[0m\u001b[0;34m]\u001b[0m\u001b[0;34m)\u001b[0m\u001b[0;34m.\u001b[0m\u001b[0mquery\u001b[0m\u001b[0;34m(\u001b[0m\u001b[0;34m'DayOfWeek == 3 and hour == 13'\u001b[0m\u001b[0;34m)\u001b[0m\u001b[0;34m\u001b[0m\u001b[0;34m\u001b[0m\u001b[0m\n\u001b[0m\u001b[1;32m      5\u001b[0m \u001b[0mclosest\u001b[0m \u001b[0;34m=\u001b[0m \u001b[0mclosest\u001b[0m\u001b[0;34m.\u001b[0m\u001b[0msort_values\u001b[0m\u001b[0;34m(\u001b[0m\u001b[0mby\u001b[0m\u001b[0;34m=\u001b[0m\u001b[0;34m'MeanOccupancy'\u001b[0m\u001b[0;34m)\u001b[0m\u001b[0;34m\u001b[0m\u001b[0;34m\u001b[0m\u001b[0m\n\u001b[1;32m      6\u001b[0m \u001b[0;34m\u001b[0m\u001b[0m\n",
      "\u001b[0;31mNameError\u001b[0m: name 'df_agg_dt' is not defined"
     ]
    },
    {
     "name": "stdout",
     "output_type": "stream",
     "text": [
      "time: 225 ms\n"
     ]
    }
   ],
   "source": [
    "# get only meters within 1000 ft\n",
    "closest = locations.query('Distance < 1000')\n",
    "\n",
    "closest = closest.merge(df_agg_dt, how='inner', on=['SourceElementKey']).query('DayOfWeek == 3 and hour == 13')\n",
    "closest = closest.sort_values(by='MeanOccupancy')\n",
    "\n",
    "closest_host = closest[['BlockfaceName', 'SideOfStreet',\n",
    "       'ParkingTimeLimitCategory', 'ParkingSpaceCount', 'PaidParkingArea',\n",
    "       'PaidParkingSubArea', 'ParkingCategory', 'Location', 'Distance', 'DayOfWeek', 'hour', 'MeanOccupancy', 'longitude', 'latitude']].head().to_pandas()\n",
    "closest_host"
   ]
  },
  {
   "cell_type": "markdown",
   "metadata": {},
   "source": [
    "# Plot the parking spots on the map"
   ]
  },
  {
   "cell_type": "code",
   "execution_count": 21,
   "metadata": {},
   "outputs": [
    {
     "name": "stdout",
     "output_type": "stream",
     "text": [
      "time: 2.71 ms\n"
     ]
    }
   ],
   "source": [
    "closest_host[['BlockfaceName', 'Distance', 'MeanOccupancy']].to_dict('records')\n",
    "info_box_template = \"\"\"\n",
    "<dl>\n",
    "<dt>Name</dt><dd>{BlockfaceName}</dd>\n",
    "<dt>Distance</dt><dd>{Distance:.0f}</dd>\n",
    "<dt>Occupancy (AVG)</dt><dd>{MeanOccupancy:.3f}</dd>\n",
    "</dl>\n",
    "\"\"\"\n",
    "\n",
    "parking_info = [info_box_template.format(**parking) for parking in closest_host[['BlockfaceName', 'Distance', 'MeanOccupancy']].to_dict('records')]"
   ]
  },
  {
   "cell_type": "code",
   "execution_count": 22,
   "metadata": {},
   "outputs": [
    {
     "data": {
      "application/vnd.jupyter.widget-view+json": {
       "model_id": "776416e339984ab697b130e62523d658",
       "version_major": 2,
       "version_minor": 0
      },
      "text/plain": [
       "Figure(layout=FigureLayout(height='420px'))"
      ]
     },
     "metadata": {},
     "output_type": "display_data"
    },
    {
     "name": "stdout",
     "output_type": "stream",
     "text": [
      "time: 46.1 ms\n"
     ]
    }
   ],
   "source": [
    "import gmaps\n",
    "import gmaps.datasets\n",
    "gmaps.configure(api_key=\"..YOUR KEY HERE\") # Your Google API key\n",
    "\n",
    "parking_layer = gmaps.symbol_layer(\n",
    "    closest_host[['latitude', 'longitude']], fill_color=\"green\", stroke_color=\"green\", scale=3, info_box_content=parking_info\n",
    ")\n",
    "\n",
    "destination = gmaps.symbol_layer(\n",
    "    [[location.latitude, location.longitude]]\n",
    "    , info_box_content=['DESTINATION']\n",
    "    , scale=3\n",
    "    , fill_color=\"red\"\n",
    "    , stroke_color=\"red\"\n",
    ")\n",
    "\n",
    "fig = gmaps.figure()\n",
    "fig.add_layer(parking_layer)\n",
    "fig.add_layer(destination)\n",
    "fig"
   ]
  }
 ],
 "metadata": {
  "kernelspec": {
   "display_name": "Python 3",
   "language": "python",
   "name": "python3"
  },
  "language_info": {
   "codemirror_mode": {
    "name": "ipython",
    "version": 3
   },
   "file_extension": ".py",
   "mimetype": "text/x-python",
   "name": "python",
   "nbconvert_exporter": "python",
   "pygments_lexer": "ipython3",
   "version": "3.6.7"
  }
 },
 "nbformat": 4,
 "nbformat_minor": 4
}
