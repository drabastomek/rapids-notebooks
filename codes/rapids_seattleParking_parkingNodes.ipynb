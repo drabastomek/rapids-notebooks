{
 "cells": [
  {
   "cell_type": "markdown",
   "metadata": {},
   "source": [
    "# Where do I walk?\n",
    "## Using RAPIDS to determine the shortest walking distance\n",
    "\n",
    "## Load the modules"
   ]
  },
  {
   "cell_type": "code",
   "execution_count": 129,
   "metadata": {},
   "outputs": [
    {
     "name": "stdout",
     "output_type": "stream",
     "text": [
      "The autotime extension is already loaded. To reload it, use:\n",
      "  %reload_ext autotime\n",
      "time: 4.34 ms\n"
     ]
    }
   ],
   "source": [
    "import cudf\n",
    "import cuspatial\n",
    "import nvstrings\n",
    "import nvtext\n",
    "from collections import OrderedDict\n",
    "import numpy as np\n",
    "import datetime as dt\n",
    "import cugraph\n",
    "\n",
    "%load_ext autotime"
   ]
  },
  {
   "cell_type": "markdown",
   "metadata": {},
   "source": [
    "## Read in the data"
   ]
  },
  {
   "cell_type": "code",
   "execution_count": 130,
   "metadata": {},
   "outputs": [
    {
     "name": "stdout",
     "output_type": "stream",
     "text": [
      "time: 6.07 s\n"
     ]
    }
   ],
   "source": [
    "dtypes = OrderedDict([\n",
    "    ('OccupancyDateTime', 'date'),\n",
    "    ('PaidOccupancy', 'int64'),\n",
    "    ('BlockfaceName', 'str'),\n",
    "    ('SideOfStreet', 'str'),\n",
    "    ('SourceElementKey', 'int64'),\n",
    "    ('ParkingTimeLimitCategory', 'int64'),\n",
    "    ('ParkingSpaceCount', 'int64'),\n",
    "    ('PaidParkingArea', 'str'),\n",
    "    ('PaidParkingSubArea', 'str'),\n",
    "    ('PaidParkingRate', 'int8'),\n",
    "    ('ParkingCategory', 'str'),\n",
    "    ('Location', 'str'),\n",
    "    ('dow', 'int8')\n",
    "])\n",
    "\n",
    "df = cudf.read_csv(\n",
    "    '../data/parking_MayJun2019.csv'\n",
    "    , skiprows=1\n",
    "    , dtype=list(dtypes.values())\n",
    "    , names=list(dtypes.keys())\n",
    ")\n",
    "\n",
    "df = df[['SourceElementKey', 'Location']]"
   ]
  },
  {
   "cell_type": "code",
   "execution_count": 131,
   "metadata": {},
   "outputs": [
    {
     "name": "stdout",
     "output_type": "stream",
     "text": [
      "time: 669 µs\n"
     ]
    }
   ],
   "source": [
    "def extractLon(location):\n",
    "    lon = location.str.extract('([0-9\\.\\-]+) ([0-9\\.]+)')[0]\n",
    "    return lon.str.stod()\n",
    "\n",
    "def extractLat(location):\n",
    "    lon = location.str.extract('([0-9\\.\\-]+) ([0-9\\.]+)')[1]\n",
    "    return lon.str.stod()\n",
    "    "
   ]
  },
  {
   "cell_type": "code",
   "execution_count": 132,
   "metadata": {},
   "outputs": [
    {
     "name": "stdout",
     "output_type": "stream",
     "text": [
      "time: 3.14 s\n"
     ]
    }
   ],
   "source": [
    "locations = df.drop_duplicates()\n",
    "del df\n",
    "\n",
    "locations['longitude'] = extractLon(locations['Location'])\n",
    "locations['latitude'] = extractLat(locations['Location'])\n",
    "locations = locations[['SourceElementKey', 'longitude', 'latitude']]"
   ]
  },
  {
   "cell_type": "code",
   "execution_count": 133,
   "metadata": {},
   "outputs": [
    {
     "data": {
      "text/plain": [
       "Location(Space Needle, 400, Broad Street, South Lake Union, Belltown, Seattle, King County, Washington, 98109, USA, (47.6205131, -122.349303598832, 0.0))"
      ]
     },
     "execution_count": 133,
     "metadata": {},
     "output_type": "execute_result"
    },
    {
     "name": "stdout",
     "output_type": "stream",
     "text": [
      "time: 730 ms\n"
     ]
    }
   ],
   "source": [
    "from geopy.geocoders import Nominatim\n",
    "\n",
    "geolocator = Nominatim(user_agent=\"todrabas_test\")\n",
    "location = geolocator.geocode(\"400 Broad St, Seattle, WA 98109\") # SPACE NEEDLE\n",
    "# location = geolocator.geocode(\"85 Pike St, Seattle, WA 98101\") # SPACE NEEDLE\n",
    "\n",
    "location\n",
    "# locations['LON_Ref'] = location.longitude\n",
    "# locations['LAT_Ref'] = location.latitude"
   ]
  },
  {
   "cell_type": "markdown",
   "metadata": {},
   "source": [
    "## As crow flies vs as people walk"
   ]
  },
  {
   "cell_type": "markdown",
   "metadata": {},
   "source": [
    "### Read in the graph data\n",
    "Thanks to John Murray for analyzing the map of King County roads and producing the data we will now use."
   ]
  },
  {
   "cell_type": "markdown",
   "metadata": {},
   "source": [
    "#### Download and unpack the data"
   ]
  },
  {
   "cell_type": "code",
   "execution_count": 7,
   "metadata": {},
   "outputs": [
    {
     "name": "stdout",
     "output_type": "stream",
     "text": [
      "time: 2.34 ms\n"
     ]
    }
   ],
   "source": [
    "import os\n",
    "\n",
    "directory  = os.path.exists('../data')\n",
    "archive    = os.path.exists('../data/king_county_road_graph_20190909.tar.gz')\n",
    "file_graph = os.path.exists('../data/king_county_road_graph_20190909.csv')\n",
    "file_nodes = os.path.exists('../data/king_county_road_nodes_20190909.csv')\n",
    "\n",
    "if not directory:\n",
    "    os.mkdir('../data')\n",
    "\n",
    "if not archive:\n",
    "    import wget, shutil\n",
    "    \n",
    "    wget.download('http://tomdrabas.com/data/seattle_parking/king_county_road_graph_20190909.tar.gz')\n",
    "    shutil.move('king_county_road_graph_20190909.tar.gz', '../data/king_county_road_graph_20190909.tar.gz')\n",
    "    \n",
    "if not file_graph or not file_nodes:\n",
    "    import tarfile\n",
    "\n",
    "    tf = tarfile.open('../data/king_county_road_graph_20190909.tar.gz')\n",
    "    tf.extractall(path='../data/')"
   ]
  },
  {
   "cell_type": "code",
   "execution_count": 8,
   "metadata": {},
   "outputs": [
    {
     "name": "stdout",
     "output_type": "stream",
     "text": [
      "node1,node2,LENGTH\n",
      "89108,27652,5.02825\n",
      "27652,89108,5.02825\n",
      "27652,122930,112.417\n",
      "122930,27652,112.417\n",
      "36778,36779,48.2475\n",
      "36779,36778,48.2475\n",
      "26559,26559,48.3425\n",
      "26559,26559,48.3425\n",
      "2634,78382,372.325\n",
      "time: 515 ms\n"
     ]
    }
   ],
   "source": [
    "!head ../data/king_county_road_graph_20190909.csv"
   ]
  },
  {
   "cell_type": "code",
   "execution_count": 9,
   "metadata": {},
   "outputs": [
    {
     "name": "stdout",
     "output_type": "stream",
     "text": [
      "NodeID,Lon,Lat\n",
      "1,-121.431505,47.331052\n",
      "2,-121.430642,47.334726\n",
      "3,-121.404812,47.288757\n",
      "4,-121.408953,47.289157\n",
      "5,-121.432249,47.292963\n",
      "6,-121.432702,47.294297\n",
      "7,-121.432724,47.329542\n",
      "8,-121.367462,47.290593\n",
      "9,-121.360285,47.29045\n",
      "time: 544 ms\n"
     ]
    }
   ],
   "source": [
    "!head ../data/king_county_road_nodes_20190909.csv"
   ]
  },
  {
   "cell_type": "markdown",
   "metadata": {},
   "source": [
    "#### Let's read the road data"
   ]
  },
  {
   "cell_type": "code",
   "execution_count": 134,
   "metadata": {},
   "outputs": [
    {
     "name": "stdout",
     "output_type": "stream",
     "text": [
      "time: 16 ms\n"
     ]
    }
   ],
   "source": [
    "road_graph_data = cudf.read_csv('../data/king_county_road_graph_20190909.csv')\n",
    "road_graph_data['node1'] = road_graph_data['node1'].astype('int32')\n",
    "road_graph_data['node2'] = road_graph_data['node2'].astype('int32')\n",
    "road_graph_data['LENGTH'] = road_graph_data['LENGTH'] * 3 # convert to feet as the LENGHT was given in yards"
   ]
  },
  {
   "cell_type": "code",
   "execution_count": 135,
   "metadata": {},
   "outputs": [
    {
     "name": "stdout",
     "output_type": "stream",
     "text": [
      "time: 9.08 ms\n"
     ]
    }
   ],
   "source": [
    "road_nodes = cudf.read_csv('../data/king_county_road_nodes_20190909.csv')\n",
    "road_nodes['NodeID'] = road_nodes['NodeID'].astype('int32')"
   ]
  },
  {
   "cell_type": "markdown",
   "metadata": {},
   "source": [
    "Store the maximum of the `NodeID` so we can later append the parking nodes."
   ]
  },
  {
   "cell_type": "code",
   "execution_count": 136,
   "metadata": {},
   "outputs": [
    {
     "data": {
      "text/plain": [
       "127380"
      ]
     },
     "execution_count": 136,
     "metadata": {},
     "output_type": "execute_result"
    },
    {
     "name": "stdout",
     "output_type": "stream",
     "text": [
      "time: 2.46 ms\n"
     ]
    }
   ],
   "source": [
    "offset = 100000\n",
    "nodeId = road_nodes['NodeID'].max()                       ## so we can number the parking nodes properly (since we'll be adding a perpendicular projections)\n",
    "parking_nodes_idx = road_nodes['NodeID'].max() + offset   ## retain it so we can later filter the results to only parking locations\n",
    "nodeId"
   ]
  },
  {
   "cell_type": "markdown",
   "metadata": {},
   "source": [
    "Move all the parking locations to host (via `.to_pandas()` method) so we can loop through all the ~1500 parking locations. Here, we also create an empty DataFrame that will hold the parking location nodes."
   ]
  },
  {
   "cell_type": "code",
   "execution_count": 137,
   "metadata": {},
   "outputs": [
    {
     "name": "stdout",
     "output_type": "stream",
     "text": [
      "time: 194 ms\n"
     ]
    }
   ],
   "source": [
    "parking_locations = locations.to_pandas().to_dict('records')\n",
    "parking_locations_nodes = cudf.DataFrame(columns=['NodeID', 'Lon', 'Lat', 'SourceElementKey'])\n",
    "added_location_edges    = cudf.DataFrame(columns=['node1', 'node2', 'LENGTH'])"
   ]
  },
  {
   "cell_type": "markdown",
   "metadata": {},
   "source": [
    "Let's process the parking data. In this naive approach we simply search for 3 closest road intersections to the parking location. We will then add two edges to the overall graph that link the parking node to the nearest intersection. This approach currently is producing some artifacts but we will deal with this in the future; in this example we want to simply explore the efficacy of finding the shortest path between the nodes in the graph."
   ]
  },
  {
   "cell_type": "code",
   "execution_count": 138,
   "metadata": {},
   "outputs": [
    {
     "name": "stdout",
     "output_type": "stream",
     "text": [
      "time: 6.77 ms\n"
     ]
    }
   ],
   "source": [
    "def kernel_find_projection(Lon_x, Lat_x, Lon_y, Lat_y, Lon_PROJ, Lat_PROJ, Lon_REF, Lat_REF):\n",
    "    for i, (lon_x, lat_x, lon_y, lat_y) in enumerate(zip(Lon_x, Lat_x, Lon_y, Lat_y)):\n",
    "        # special case where A and B have the same LON i.e. vertical line\n",
    "        if lon_x == lon_y:\n",
    "            Lon_PROJ[i] = lon_x\n",
    "            Lat_PROJ[i] = Lat_REF    \n",
    "        else:\n",
    "            # find slope\n",
    "            a_xy = (lat_x - lat_y) / float(lon_x - lon_y)\n",
    "\n",
    "            # special case where A and B have the same LAT i.e. horizontal line\n",
    "            if a_xy == 0:\n",
    "                Lon_PROJ[i] = Lon_REF\n",
    "                Lat_PROJ[i] = lat_x\n",
    "            else: \n",
    "                # if neither of the above special cases apply\n",
    "                # find the equation of the perpendicular line\n",
    "                a_R  = -1 / a_xy                    ### SLOPE\n",
    "\n",
    "                # find intersections\n",
    "                b_xy = lat_x - a_xy * lon_x\n",
    "                b_R  = Lat_REF - a_R  * Lon_REF\n",
    "\n",
    "                # find the coordinates\n",
    "                Lon_PROJ[i] = (b_R - b_xy) / (a_xy - a_R)\n",
    "                Lat_PROJ[i] = a_R * Lon_PROJ[i] + b_R"
   ]
  },
  {
   "cell_type": "code",
   "execution_count": 139,
   "metadata": {},
   "outputs": [
    {
     "data": {
      "text/plain": [
       "[{'SourceElementKey': 68910,\n",
       "  'longitude': -122.33855514999998,\n",
       "  'latitude': 47.6073621}]"
      ]
     },
     "execution_count": 139,
     "metadata": {},
     "output_type": "execute_result"
    },
    {
     "name": "stdout",
     "output_type": "stream",
     "text": [
      "time: 2.42 ms\n"
     ]
    }
   ],
   "source": [
    "[e for e in parking_locations if e['SourceElementKey'] == 68910]"
   ]
  },
  {
   "cell_type": "code",
   "execution_count": 140,
   "metadata": {},
   "outputs": [
    {
     "name": "stdout",
     "output_type": "stream",
     "text": [
      "Number of parking locations: 1,473\n",
      "Processed: 0 (0.000000%) nodes\n",
      "Processed: 100 (6.788866%) nodes\n",
      "Processed: 200 (13.577733%) nodes\n",
      "Processed: 300 (20.366599%) nodes\n",
      "Processed: 400 (27.155465%) nodes\n",
      "Processed: 500 (33.944331%) nodes\n",
      "Processed: 600 (40.733198%) nodes\n",
      "Processed: 700 (47.522064%) nodes\n",
      "Processed: 800 (54.310930%) nodes\n",
      "Processed: 900 (61.099796%) nodes\n",
      "Processed: 1,000 (67.888663%) nodes\n",
      "Processed: 1,100 (74.677529%) nodes\n",
      "Processed: 1,200 (81.466395%) nodes\n",
      "Processed: 1,300 (88.255261%) nodes\n",
      "Processed: 1,400 (95.044128%) nodes\n",
      "Finished processing...\n",
      "time: 3min 21s\n"
     ]
    }
   ],
   "source": [
    "parking_locations_cnt = len(parking_locations)\n",
    "print('Number of parking locations: {0:,}'.format(parking_locations_cnt))\n",
    "\n",
    "for i, loc in enumerate(parking_locations):\n",
    "    if i % 100 == 0:\n",
    "        print('Processed: {0:,} ({1:2%}) nodes'.format(i, i/float(parking_locations_cnt)))\n",
    "    nodeId = nodeId + 1\n",
    "    lat_r = loc['latitude']\n",
    "    lon_r = loc['longitude']\n",
    "\n",
    "    paths = (\n",
    "        road_graph_data\n",
    "        .rename({'node1': 'NodeID'})\n",
    "        .merge(road_nodes[['NodeID', 'Lat', 'Lon']], on='NodeID', how='left')\n",
    "        .rename({'NodeID': 'node1', 'node2': 'NodeID'})\n",
    "        .merge(road_nodes[['NodeID', 'Lat', 'Lon']], on='NodeID', how='left')\n",
    "        .rename({'NodeID': 'node2'})\n",
    "        .query('Lat_x >= (@lat_r - 0.005) and Lat_x <= (@lat_r + 0.005)')\n",
    "        .query('Lon_x >= (@lon_r - 0.005) and Lon_x <= (@lon_r + 0.005)')\n",
    "        .query('Lat_y >= (@lat_r - 0.005) and Lat_y <= (@lat_r + 0.005)')\n",
    "        .query('Lon_y >= (@lon_r - 0.005) and Lon_y <= (@lon_r + 0.005)')\n",
    "    )\n",
    "#     print(len(paths))\n",
    "\n",
    "\n",
    "    paths['Lon_REF'] = loc['longitude']\n",
    "    paths['Lat_REF'] = loc['latitude']\n",
    "\n",
    "    paths = paths.apply_rows(\n",
    "        kernel_find_projection\n",
    "        , incols  = ['Lon_x', 'Lat_x', 'Lon_y', 'Lat_y', 'Lon_REF', 'Lat_REF']\n",
    "        , outcols = {'Lon_PROJ': np.float64, 'Lat_PROJ': np.float64}\n",
    "        , kwargs  = {'Lon_REF': loc['longitude'], 'Lat_REF': loc['latitude']}\n",
    "    )\n",
    "\n",
    "\n",
    "    paths['Length_x_PROJ'] = cuspatial.haversine_distance(\n",
    "              paths['Lon_x']\n",
    "            , paths['Lat_x']\n",
    "            , paths['Lon_PROJ']\n",
    "            , paths['Lat_PROJ']) * 0.621371 * 5280\n",
    "\n",
    "    paths['Length_y_PROJ'] = cuspatial.haversine_distance(\n",
    "              paths['Lon_y']\n",
    "            , paths['Lat_y']\n",
    "            , paths['Lon_PROJ']\n",
    "            , paths['Lat_PROJ']) * 0.621371 * 5280\n",
    "\n",
    "    paths['Length_REF_PROJ'] = cuspatial.haversine_distance(\n",
    "              paths['Lon_REF']\n",
    "            , paths['Lat_REF']\n",
    "            , paths['Lon_PROJ']\n",
    "            , paths['Lat_PROJ']) * 0.621371 * 5280\n",
    "    \n",
    "#     paths['Length_REF_X'] = cuspatial.haversine_distance(\n",
    "#               paths['Lon_x']\n",
    "#             , paths['Lat_x']\n",
    "#             , paths['Lon_REF']\n",
    "#             , paths['Lat_REF']) * 0.621371 * 5280\n",
    "    \n",
    "#     paths['Length_REF_Y'] = cuspatial.haversine_distance(\n",
    "#               paths['Lon_y']\n",
    "#             , paths['Lat_y']\n",
    "#             , paths['Lon_REF']\n",
    "#             , paths['Lat_REF']) * 0.621371 * 5280\n",
    "\n",
    "    paths['PROJ_between'] = (paths['Length_x_PROJ'] + paths['Length_y_PROJ']) <= (paths['LENGTH'] + 1)\n",
    "#     paths['PROJ_between_test'] = paths['PROJ_between']  <= (paths['LENGTH'] + 1)\n",
    "    \n",
    "#     print(paths.sort_values(by='Length_REF_X').to_pandas())\n",
    "    closest = paths.query('PROJ_between').nsmallest(1, 'Length_REF_PROJ').to_pandas().to_dict('records')[0]\n",
    "#     print(closest)\n",
    "\n",
    "    # add nodes\n",
    "    nodes =    cudf.DataFrame({\n",
    "          'NodeID': [nodeId + offset, nodeId]\n",
    "        , 'Lon':    [closest['Lon_REF'], closest['Lon_PROJ']]\n",
    "        , 'Lat':    [closest['Lat_REF'], closest['Lat_PROJ']]\n",
    "        , 'SourceElementKey': [loc['SourceElementKey'], None]\n",
    "    })\n",
    "\n",
    "    parking_locations_nodes = cudf.concat([parking_locations_nodes, nodes])\n",
    "\n",
    "    # add edges (bi-directional)\n",
    "    edges = cudf.DataFrame({\n",
    "          'node1':  [nodeId, nodeId, nodeId, closest['node1'], closest['node2'], nodeId + offset]\n",
    "        , 'node2':  [closest['node1'], closest['node2'], nodeId + offset, nodeId, nodeId, nodeId]\n",
    "        , 'LENGTH': [\n",
    "              closest['Length_x_PROJ'], closest['Length_y_PROJ'], closest['Length_REF_PROJ']\n",
    "            , closest['Length_x_PROJ'], closest['Length_y_PROJ'], closest['Length_REF_PROJ']\n",
    "        ]\n",
    "    })\n",
    "\n",
    "    added_location_edges = cudf.concat([added_location_edges, edges]) ## append to the temp DataFrame\n",
    "\n",
    "print('Finished processing...')"
   ]
  },
  {
   "cell_type": "markdown",
   "metadata": {},
   "source": [
    "Now we can find the nearest intersections from the Kerry Park!"
   ]
  },
  {
   "cell_type": "code",
   "execution_count": 141,
   "metadata": {},
   "outputs": [
    {
     "name": "stdout",
     "output_type": "stream",
     "text": [
      "time: 25.5 ms\n"
     ]
    }
   ],
   "source": [
    "road_nodes = (\n",
    "    cudf\n",
    "    .concat([road_nodes[['NodeID', 'Lon', 'Lat']], parking_locations_nodes])\n",
    "    .reset_index(drop=True)\n",
    ")"
   ]
  },
  {
   "cell_type": "code",
   "execution_count": 142,
   "metadata": {},
   "outputs": [
    {
     "data": {
      "text/html": [
       "<div>\n",
       "<style scoped>\n",
       "    .dataframe tbody tr th:only-of-type {\n",
       "        vertical-align: middle;\n",
       "    }\n",
       "\n",
       "    .dataframe tbody tr th {\n",
       "        vertical-align: top;\n",
       "    }\n",
       "\n",
       "    .dataframe thead th {\n",
       "        text-align: right;\n",
       "    }\n",
       "</style>\n",
       "<table border=\"1\" class=\"dataframe\">\n",
       "  <thead>\n",
       "    <tr style=\"text-align: right;\">\n",
       "      <th></th>\n",
       "      <th>node1</th>\n",
       "      <th>node2</th>\n",
       "      <th>LENGTH</th>\n",
       "    </tr>\n",
       "  </thead>\n",
       "  <tbody>\n",
       "    <tr>\n",
       "      <th>47756</th>\n",
       "      <td>128855</td>\n",
       "      <td>47757</td>\n",
       "      <td>175.906391</td>\n",
       "    </tr>\n",
       "    <tr>\n",
       "      <th>80448</th>\n",
       "      <td>128855</td>\n",
       "      <td>80449</td>\n",
       "      <td>200.062128</td>\n",
       "    </tr>\n",
       "    <tr>\n",
       "      <th>96739</th>\n",
       "      <td>128855</td>\n",
       "      <td>96740</td>\n",
       "      <td>261.056715</td>\n",
       "    </tr>\n",
       "    <tr>\n",
       "      <th>108797</th>\n",
       "      <td>128855</td>\n",
       "      <td>108798</td>\n",
       "      <td>277.221141</td>\n",
       "    </tr>\n",
       "    <tr>\n",
       "      <th>47827</th>\n",
       "      <td>128855</td>\n",
       "      <td>47828</td>\n",
       "      <td>301.715490</td>\n",
       "    </tr>\n",
       "  </tbody>\n",
       "</table>\n",
       "</div>"
      ],
      "text/plain": [
       "         node1   node2      LENGTH\n",
       "47756   128855   47757  175.906391\n",
       "80448   128855   80449  200.062128\n",
       "96739   128855   96740  261.056715\n",
       "108797  128855  108798  277.221141\n",
       "47827   128855   47828  301.715490"
      ]
     },
     "execution_count": 142,
     "metadata": {},
     "output_type": "execute_result"
    },
    {
     "name": "stdout",
     "output_type": "stream",
     "text": [
      "time: 77.6 ms\n"
     ]
    }
   ],
   "source": [
    "road_nodes['Lon_REF'] = location.longitude\n",
    "road_nodes['Lat_REF'] = location.latitude\n",
    "\n",
    "road_nodes['Distance'] = cuspatial.haversine_distance(\n",
    "          road_nodes['Lon']\n",
    "        , road_nodes['Lat']\n",
    "        , road_nodes['Lon_REF']\n",
    "        , road_nodes['Lat_REF']) * 0.621371 * 5280\n",
    "\n",
    "space_needle_to_nearest_intersection = road_nodes.nsmallest(5, 'Distance') ### Space Needle is surrounded by around 5 road intersections hence we add 5\n",
    "space_needle_to_nearest_intersection_dist = space_needle_to_nearest_intersection['Distance'].to_array()[0]\n",
    "\n",
    "space_needle_to_nearest_intersection['node1'] = nodeId + 2\n",
    "space_needle_to_nearest_intersection = (\n",
    "    space_needle_to_nearest_intersection\n",
    "    .rename({'NodeID': 'node2', 'Distance': 'LENGTH'})\n",
    "    [['node1', 'node2', 'LENGTH']]\n",
    ")\n",
    "\n",
    "road_graph_data = cudf.concat([space_needle_to_nearest_intersection, added_location_edges, road_graph_data])\n",
    "space_needle_to_nearest_intersection ### SHOW THE EDGES"
   ]
  },
  {
   "cell_type": "markdown",
   "metadata": {},
   "source": [
    "### The road graph"
   ]
  },
  {
   "cell_type": "code",
   "execution_count": 143,
   "metadata": {},
   "outputs": [
    {
     "name": "stdout",
     "output_type": "stream",
     "text": [
      "time: 15.1 ms\n"
     ]
    }
   ],
   "source": [
    "road_graph_data = road_graph_data.reset_index(drop=True)\n",
    "road_graph_data['node1'] = road_graph_data['node1'].astype('int32')\n",
    "road_graph_data['node2'] = road_graph_data['node2'].astype('int32')\n",
    "\n",
    "sources      = cudf.Series(road_graph_data['node1'])\n",
    "destinations = cudf.Series(road_graph_data['node2'])\n",
    "distances    = cudf.Series(road_graph_data['LENGTH'])\n",
    "\n",
    "g = cugraph.Graph()\n",
    "g.add_edge_list(sources, destinations, distances)"
   ]
  },
  {
   "cell_type": "markdown",
   "metadata": {},
   "source": [
    "Now we can use the `.sssp(...)` method from `cugraph` to find the shortest distances to parking spots from the Space Needle!"
   ]
  },
  {
   "cell_type": "code",
   "execution_count": 144,
   "metadata": {},
   "outputs": [
    {
     "data": {
      "text/html": [
       "<div>\n",
       "<style scoped>\n",
       "    .dataframe tbody tr th:only-of-type {\n",
       "        vertical-align: middle;\n",
       "    }\n",
       "\n",
       "    .dataframe tbody tr th {\n",
       "        vertical-align: top;\n",
       "    }\n",
       "\n",
       "    .dataframe thead th {\n",
       "        text-align: right;\n",
       "    }\n",
       "</style>\n",
       "<table border=\"1\" class=\"dataframe\">\n",
       "  <thead>\n",
       "    <tr style=\"text-align: right;\">\n",
       "      <th></th>\n",
       "      <th>vertex</th>\n",
       "      <th>distance</th>\n",
       "      <th>predecessor</th>\n",
       "    </tr>\n",
       "  </thead>\n",
       "  <tbody>\n",
       "    <tr>\n",
       "      <th>227585</th>\n",
       "      <td>227585</td>\n",
       "      <td>494.541097</td>\n",
       "      <td>127585</td>\n",
       "    </tr>\n",
       "    <tr>\n",
       "      <th>227586</th>\n",
       "      <td>227586</td>\n",
       "      <td>471.843339</td>\n",
       "      <td>127586</td>\n",
       "    </tr>\n",
       "    <tr>\n",
       "      <th>227666</th>\n",
       "      <td>227666</td>\n",
       "      <td>978.714937</td>\n",
       "      <td>127666</td>\n",
       "    </tr>\n",
       "    <tr>\n",
       "      <th>227667</th>\n",
       "      <td>227667</td>\n",
       "      <td>986.632352</td>\n",
       "      <td>127667</td>\n",
       "    </tr>\n",
       "    <tr>\n",
       "      <th>227822</th>\n",
       "      <td>227822</td>\n",
       "      <td>978.340665</td>\n",
       "      <td>127822</td>\n",
       "    </tr>\n",
       "    <tr>\n",
       "      <th>227823</th>\n",
       "      <td>227823</td>\n",
       "      <td>954.882271</td>\n",
       "      <td>127823</td>\n",
       "    </tr>\n",
       "    <tr>\n",
       "      <th>227912</th>\n",
       "      <td>227912</td>\n",
       "      <td>796.521774</td>\n",
       "      <td>127912</td>\n",
       "    </tr>\n",
       "    <tr>\n",
       "      <th>227913</th>\n",
       "      <td>227913</td>\n",
       "      <td>793.130111</td>\n",
       "      <td>127913</td>\n",
       "    </tr>\n",
       "    <tr>\n",
       "      <th>228160</th>\n",
       "      <td>228160</td>\n",
       "      <td>587.108025</td>\n",
       "      <td>128160</td>\n",
       "    </tr>\n",
       "    <tr>\n",
       "      <th>228161</th>\n",
       "      <td>228161</td>\n",
       "      <td>542.478604</td>\n",
       "      <td>128161</td>\n",
       "    </tr>\n",
       "    <tr>\n",
       "      <th>228224</th>\n",
       "      <td>228224</td>\n",
       "      <td>982.444003</td>\n",
       "      <td>128224</td>\n",
       "    </tr>\n",
       "    <tr>\n",
       "      <th>228506</th>\n",
       "      <td>228506</td>\n",
       "      <td>783.243667</td>\n",
       "      <td>128506</td>\n",
       "    </tr>\n",
       "  </tbody>\n",
       "</table>\n",
       "</div>"
      ],
      "text/plain": [
       "        vertex    distance  predecessor\n",
       "227585  227585  494.541097       127585\n",
       "227586  227586  471.843339       127586\n",
       "227666  227666  978.714937       127666\n",
       "227667  227667  986.632352       127667\n",
       "227822  227822  978.340665       127822\n",
       "227823  227823  954.882271       127823\n",
       "227912  227912  796.521774       127912\n",
       "227913  227913  793.130111       127913\n",
       "228160  228160  587.108025       128160\n",
       "228161  228161  542.478604       128161\n",
       "228224  228224  982.444003       128224\n",
       "228506  228506  783.243667       128506"
      ]
     },
     "execution_count": 144,
     "metadata": {},
     "output_type": "execute_result"
    },
    {
     "name": "stdout",
     "output_type": "stream",
     "text": [
      "time: 77.9 ms\n"
     ]
    }
   ],
   "source": [
    "all_distances = cugraph.sssp(g, nodeId + 2)\n",
    "distances = all_distances.query('vertex > @parking_nodes_idx and distance < 1000')\n",
    "# all_distances.query('distance < 1000')\n",
    "distances"
   ]
  },
  {
   "cell_type": "markdown",
   "metadata": {},
   "source": [
    "`cugraph` returns a DataFrame with vertex, distance to that vertex, and the total distance traveled to that vertex from the `nodeId + 1` node -- the Space Needle. Here, we unfold the full path."
   ]
  },
  {
   "cell_type": "code",
   "execution_count": 145,
   "metadata": {},
   "outputs": [
    {
     "name": "stdout",
     "output_type": "stream",
     "text": [
      "Processing record: 0\n",
      "Processing record: 1\n",
      "Processing record: 2\n",
      "Processing record: 3\n",
      "Processing record: 4\n",
      "Processing record: 5\n",
      "Processing record: 6\n",
      "Processing record: 7\n",
      "Processing record: 8\n",
      "Processing record: 9\n",
      "Processing record: 10\n",
      "Processing record: 11\n",
      "time: 880 ms\n"
     ]
    }
   ],
   "source": [
    "# unfold -- create the whole path\n",
    "closest_node = nodeId + 2\n",
    "parking_cnt = distances['vertex'].count()\n",
    "\n",
    "for i in range(parking_cnt):\n",
    "    print('Processing record: {0}'.format(i))\n",
    "    parking_node = distances.iloc[i]\n",
    "    vertex = int(parking_node[0])\n",
    "    predecessor = int(parking_node[2])\n",
    "    \n",
    "    if i == 0:\n",
    "        paths = all_distances.query('vertex == @vertex')\n",
    "    else:\n",
    "        paths = cudf.concat([all_distances.query('vertex == @vertex'), paths])\n",
    "\n",
    "    while vertex != closest_node:\n",
    "        temp = all_distances.query('vertex == @predecessor')\n",
    "        paths = cudf.concat([temp, paths])\n",
    "        predecessor = temp['predecessor'].to_array()[0]\n",
    "        vertex = temp['vertex'].to_array()[0]"
   ]
  },
  {
   "cell_type": "markdown",
   "metadata": {},
   "source": [
    "### Charting the paths"
   ]
  },
  {
   "cell_type": "code",
   "execution_count": 146,
   "metadata": {},
   "outputs": [
    {
     "data": {
      "text/html": [
       "<div>\n",
       "<style scoped>\n",
       "    .dataframe tbody tr th:only-of-type {\n",
       "        vertical-align: middle;\n",
       "    }\n",
       "\n",
       "    .dataframe tbody tr th {\n",
       "        vertical-align: top;\n",
       "    }\n",
       "\n",
       "    .dataframe thead th {\n",
       "        text-align: right;\n",
       "    }\n",
       "</style>\n",
       "<table border=\"1\" class=\"dataframe\">\n",
       "  <thead>\n",
       "    <tr style=\"text-align: right;\">\n",
       "      <th></th>\n",
       "      <th>vertex</th>\n",
       "      <th>Lat_x</th>\n",
       "      <th>Lon_x</th>\n",
       "      <th>Lat_y</th>\n",
       "      <th>Lon_y</th>\n",
       "    </tr>\n",
       "  </thead>\n",
       "  <tbody>\n",
       "    <tr>\n",
       "      <th>0</th>\n",
       "      <td>228161</td>\n",
       "      <td>47.619145</td>\n",
       "      <td>-122.348791</td>\n",
       "      <td>47.619151</td>\n",
       "      <td>-122.348892</td>\n",
       "    </tr>\n",
       "    <tr>\n",
       "      <th>2</th>\n",
       "      <td>228224</td>\n",
       "      <td>47.617998</td>\n",
       "      <td>-122.349296</td>\n",
       "      <td>47.618056</td>\n",
       "      <td>-122.349340</td>\n",
       "    </tr>\n",
       "    <tr>\n",
       "      <th>3</th>\n",
       "      <td>228506</td>\n",
       "      <td>47.620150</td>\n",
       "      <td>-122.347713</td>\n",
       "      <td>47.620153</td>\n",
       "      <td>-122.347591</td>\n",
       "    </tr>\n",
       "    <tr>\n",
       "      <th>4</th>\n",
       "      <td>47756</td>\n",
       "      <td>47.620906</td>\n",
       "      <td>-122.347603</td>\n",
       "      <td>47.620906</td>\n",
       "      <td>-122.348736</td>\n",
       "    </tr>\n",
       "    <tr>\n",
       "      <th>5</th>\n",
       "      <td>47758</td>\n",
       "      <td>47.620714</td>\n",
       "      <td>-122.347605</td>\n",
       "      <td>47.620906</td>\n",
       "      <td>-122.347603</td>\n",
       "    </tr>\n",
       "    <tr>\n",
       "      <th>6</th>\n",
       "      <td>47797</td>\n",
       "      <td>47.620905</td>\n",
       "      <td>-122.347358</td>\n",
       "      <td>47.620906</td>\n",
       "      <td>-122.347603</td>\n",
       "    </tr>\n",
       "    <tr>\n",
       "      <th>7</th>\n",
       "      <td>47799</td>\n",
       "      <td>47.620901</td>\n",
       "      <td>-122.346298</td>\n",
       "      <td>47.620905</td>\n",
       "      <td>-122.347358</td>\n",
       "    </tr>\n",
       "    <tr>\n",
       "      <th>8</th>\n",
       "      <td>47829</td>\n",
       "      <td>47.619735</td>\n",
       "      <td>-122.347581</td>\n",
       "      <td>47.619738</td>\n",
       "      <td>-122.348174</td>\n",
       "    </tr>\n",
       "    <tr>\n",
       "      <th>9</th>\n",
       "      <td>47830</td>\n",
       "      <td>47.618574</td>\n",
       "      <td>-122.348924</td>\n",
       "      <td>47.619056</td>\n",
       "      <td>-122.348898</td>\n",
       "    </tr>\n",
       "    <tr>\n",
       "      <th>10</th>\n",
       "      <td>47832</td>\n",
       "      <td>47.618390</td>\n",
       "      <td>-122.348900</td>\n",
       "      <td>47.618574</td>\n",
       "      <td>-122.348924</td>\n",
       "    </tr>\n",
       "    <tr>\n",
       "      <th>11</th>\n",
       "      <td>127585</td>\n",
       "      <td>47.619738</td>\n",
       "      <td>-122.348174</td>\n",
       "      <td>47.619742</td>\n",
       "      <td>-122.348860</td>\n",
       "    </tr>\n",
       "    <tr>\n",
       "      <th>12</th>\n",
       "      <td>127586</td>\n",
       "      <td>47.619739</td>\n",
       "      <td>-122.348257</td>\n",
       "      <td>47.619742</td>\n",
       "      <td>-122.348860</td>\n",
       "    </tr>\n",
       "    <tr>\n",
       "      <th>13</th>\n",
       "      <td>127666</td>\n",
       "      <td>47.620899</td>\n",
       "      <td>-122.345670</td>\n",
       "      <td>47.620901</td>\n",
       "      <td>-122.346298</td>\n",
       "    </tr>\n",
       "    <tr>\n",
       "      <th>14</th>\n",
       "      <td>127667</td>\n",
       "      <td>47.620898</td>\n",
       "      <td>-122.345644</td>\n",
       "      <td>47.620901</td>\n",
       "      <td>-122.346298</td>\n",
       "    </tr>\n",
       "    <tr>\n",
       "      <th>15</th>\n",
       "      <td>127822</td>\n",
       "      <td>47.618113</td>\n",
       "      <td>-122.348501</td>\n",
       "      <td>47.618390</td>\n",
       "      <td>-122.348900</td>\n",
       "    </tr>\n",
       "    <tr>\n",
       "      <th>16</th>\n",
       "      <td>127823</td>\n",
       "      <td>47.618107</td>\n",
       "      <td>-122.348493</td>\n",
       "      <td>47.618390</td>\n",
       "      <td>-122.348900</td>\n",
       "    </tr>\n",
       "    <tr>\n",
       "      <th>17</th>\n",
       "      <td>127912</td>\n",
       "      <td>47.619734</td>\n",
       "      <td>-122.346958</td>\n",
       "      <td>47.619735</td>\n",
       "      <td>-122.347581</td>\n",
       "    </tr>\n",
       "    <tr>\n",
       "      <th>18</th>\n",
       "      <td>127913</td>\n",
       "      <td>47.619734</td>\n",
       "      <td>-122.346963</td>\n",
       "      <td>47.619735</td>\n",
       "      <td>-122.347581</td>\n",
       "    </tr>\n",
       "    <tr>\n",
       "      <th>19</th>\n",
       "      <td>128160</td>\n",
       "      <td>47.619056</td>\n",
       "      <td>-122.348898</td>\n",
       "      <td>47.619742</td>\n",
       "      <td>-122.348860</td>\n",
       "    </tr>\n",
       "    <tr>\n",
       "      <th>20</th>\n",
       "      <td>128161</td>\n",
       "      <td>47.619151</td>\n",
       "      <td>-122.348892</td>\n",
       "      <td>47.619742</td>\n",
       "      <td>-122.348860</td>\n",
       "    </tr>\n",
       "    <tr>\n",
       "      <th>21</th>\n",
       "      <td>128224</td>\n",
       "      <td>47.618056</td>\n",
       "      <td>-122.349340</td>\n",
       "      <td>47.618390</td>\n",
       "      <td>-122.348900</td>\n",
       "    </tr>\n",
       "    <tr>\n",
       "      <th>22</th>\n",
       "      <td>128506</td>\n",
       "      <td>47.620153</td>\n",
       "      <td>-122.347591</td>\n",
       "      <td>47.620714</td>\n",
       "      <td>-122.347605</td>\n",
       "    </tr>\n",
       "    <tr>\n",
       "      <th>23</th>\n",
       "      <td>227585</td>\n",
       "      <td>47.619804</td>\n",
       "      <td>-122.348174</td>\n",
       "      <td>47.619738</td>\n",
       "      <td>-122.348174</td>\n",
       "    </tr>\n",
       "    <tr>\n",
       "      <th>24</th>\n",
       "      <td>227586</td>\n",
       "      <td>47.619679</td>\n",
       "      <td>-122.348258</td>\n",
       "      <td>47.619739</td>\n",
       "      <td>-122.348257</td>\n",
       "    </tr>\n",
       "    <tr>\n",
       "      <th>25</th>\n",
       "      <td>227666</td>\n",
       "      <td>47.620966</td>\n",
       "      <td>-122.345670</td>\n",
       "      <td>47.620899</td>\n",
       "      <td>-122.345670</td>\n",
       "    </tr>\n",
       "    <tr>\n",
       "      <th>26</th>\n",
       "      <td>227667</td>\n",
       "      <td>47.620826</td>\n",
       "      <td>-122.345645</td>\n",
       "      <td>47.620898</td>\n",
       "      <td>-122.345644</td>\n",
       "    </tr>\n",
       "    <tr>\n",
       "      <th>27</th>\n",
       "      <td>227822</td>\n",
       "      <td>47.618009</td>\n",
       "      <td>-122.348573</td>\n",
       "      <td>47.618113</td>\n",
       "      <td>-122.348501</td>\n",
       "    </tr>\n",
       "    <tr>\n",
       "      <th>28</th>\n",
       "      <td>227823</td>\n",
       "      <td>47.618146</td>\n",
       "      <td>-122.348466</td>\n",
       "      <td>47.618107</td>\n",
       "      <td>-122.348493</td>\n",
       "    </tr>\n",
       "    <tr>\n",
       "      <th>29</th>\n",
       "      <td>227912</td>\n",
       "      <td>47.619808</td>\n",
       "      <td>-122.346958</td>\n",
       "      <td>47.619734</td>\n",
       "      <td>-122.346958</td>\n",
       "    </tr>\n",
       "    <tr>\n",
       "      <th>30</th>\n",
       "      <td>227913</td>\n",
       "      <td>47.619666</td>\n",
       "      <td>-122.346963</td>\n",
       "      <td>47.619734</td>\n",
       "      <td>-122.346963</td>\n",
       "    </tr>\n",
       "    <tr>\n",
       "      <th>31</th>\n",
       "      <td>228160</td>\n",
       "      <td>47.619064</td>\n",
       "      <td>-122.349040</td>\n",
       "      <td>47.619056</td>\n",
       "      <td>-122.348898</td>\n",
       "    </tr>\n",
       "    <tr>\n",
       "      <th>32</th>\n",
       "      <td>47828</td>\n",
       "      <td>47.619742</td>\n",
       "      <td>-122.348860</td>\n",
       "      <td>47.620513</td>\n",
       "      <td>-122.349304</td>\n",
       "    </tr>\n",
       "    <tr>\n",
       "      <th>33</th>\n",
       "      <td>80449</td>\n",
       "      <td>47.620906</td>\n",
       "      <td>-122.348736</td>\n",
       "      <td>47.620513</td>\n",
       "      <td>-122.349304</td>\n",
       "    </tr>\n",
       "  </tbody>\n",
       "</table>\n",
       "</div>"
      ],
      "text/plain": [
       "    vertex      Lat_x       Lon_x      Lat_y       Lon_y\n",
       "0   228161  47.619145 -122.348791  47.619151 -122.348892\n",
       "2   228224  47.617998 -122.349296  47.618056 -122.349340\n",
       "3   228506  47.620150 -122.347713  47.620153 -122.347591\n",
       "4    47756  47.620906 -122.347603  47.620906 -122.348736\n",
       "5    47758  47.620714 -122.347605  47.620906 -122.347603\n",
       "6    47797  47.620905 -122.347358  47.620906 -122.347603\n",
       "7    47799  47.620901 -122.346298  47.620905 -122.347358\n",
       "8    47829  47.619735 -122.347581  47.619738 -122.348174\n",
       "9    47830  47.618574 -122.348924  47.619056 -122.348898\n",
       "10   47832  47.618390 -122.348900  47.618574 -122.348924\n",
       "11  127585  47.619738 -122.348174  47.619742 -122.348860\n",
       "12  127586  47.619739 -122.348257  47.619742 -122.348860\n",
       "13  127666  47.620899 -122.345670  47.620901 -122.346298\n",
       "14  127667  47.620898 -122.345644  47.620901 -122.346298\n",
       "15  127822  47.618113 -122.348501  47.618390 -122.348900\n",
       "16  127823  47.618107 -122.348493  47.618390 -122.348900\n",
       "17  127912  47.619734 -122.346958  47.619735 -122.347581\n",
       "18  127913  47.619734 -122.346963  47.619735 -122.347581\n",
       "19  128160  47.619056 -122.348898  47.619742 -122.348860\n",
       "20  128161  47.619151 -122.348892  47.619742 -122.348860\n",
       "21  128224  47.618056 -122.349340  47.618390 -122.348900\n",
       "22  128506  47.620153 -122.347591  47.620714 -122.347605\n",
       "23  227585  47.619804 -122.348174  47.619738 -122.348174\n",
       "24  227586  47.619679 -122.348258  47.619739 -122.348257\n",
       "25  227666  47.620966 -122.345670  47.620899 -122.345670\n",
       "26  227667  47.620826 -122.345645  47.620898 -122.345644\n",
       "27  227822  47.618009 -122.348573  47.618113 -122.348501\n",
       "28  227823  47.618146 -122.348466  47.618107 -122.348493\n",
       "29  227912  47.619808 -122.346958  47.619734 -122.346958\n",
       "30  227913  47.619666 -122.346963  47.619734 -122.346963\n",
       "31  228160  47.619064 -122.349040  47.619056 -122.348898\n",
       "32   47828  47.619742 -122.348860  47.620513 -122.349304\n",
       "33   80449  47.620906 -122.348736  47.620513 -122.349304"
      ]
     },
     "execution_count": 146,
     "metadata": {},
     "output_type": "execute_result"
    },
    {
     "name": "stdout",
     "output_type": "stream",
     "text": [
      "time: 48.4 ms\n"
     ]
    }
   ],
   "source": [
    "paths['vertex'] = paths['vertex'].astype('int64')\n",
    "paths['predecessor'] = paths['predecessor'].astype('int64')\n",
    "paths = paths.drop_duplicates()\n",
    "\n",
    "### process the data so we get the Lat/Lon back for both src and dest\n",
    "### then move to host\n",
    "paths_host = (\n",
    "    paths\n",
    "    .rename({'vertex': 'NodeID'})\n",
    "    .merge(road_nodes[['NodeID', 'Lat', 'Lon']], on='NodeID', how='left')\n",
    "    .rename({'NodeID': 'vertex', 'predecessor': 'NodeID'})\n",
    "    .merge(road_nodes[['NodeID', 'Lat', 'Lon']], on='NodeID', how='left')\n",
    "    .fillna({'Lat_y': location.latitude, 'Lon_y': location.longitude})\n",
    "    [['vertex', 'Lat_x', 'Lon_x', 'Lat_y', 'Lon_y']]\n",
    "    .query('vertex != @nodeId + 2')\n",
    "    .to_pandas()\n",
    ")\n",
    "\n",
    "paths_host"
   ]
  },
  {
   "cell_type": "markdown",
   "metadata": {},
   "source": [
    "Get the information about the parking spots so we can create info boxes."
   ]
  },
  {
   "cell_type": "code",
   "execution_count": 147,
   "metadata": {},
   "outputs": [
    {
     "data": {
      "text/html": [
       "<div>\n",
       "<style scoped>\n",
       "    .dataframe tbody tr th:only-of-type {\n",
       "        vertical-align: middle;\n",
       "    }\n",
       "\n",
       "    .dataframe tbody tr th {\n",
       "        vertical-align: top;\n",
       "    }\n",
       "\n",
       "    .dataframe thead th {\n",
       "        text-align: right;\n",
       "    }\n",
       "</style>\n",
       "<table border=\"1\" class=\"dataframe\">\n",
       "  <thead>\n",
       "    <tr style=\"text-align: right;\">\n",
       "      <th></th>\n",
       "      <th>SourceElementKey</th>\n",
       "      <th>Lat</th>\n",
       "      <th>Lon</th>\n",
       "      <th>distance</th>\n",
       "    </tr>\n",
       "  </thead>\n",
       "  <tbody>\n",
       "    <tr>\n",
       "      <th>0</th>\n",
       "      <td>54986</td>\n",
       "      <td>47.617998</td>\n",
       "      <td>-122.349296</td>\n",
       "      <td>982.444003</td>\n",
       "    </tr>\n",
       "    <tr>\n",
       "      <th>1</th>\n",
       "      <td>11133</td>\n",
       "      <td>47.619804</td>\n",
       "      <td>-122.348174</td>\n",
       "      <td>494.541097</td>\n",
       "    </tr>\n",
       "    <tr>\n",
       "      <th>2</th>\n",
       "      <td>11134</td>\n",
       "      <td>47.619679</td>\n",
       "      <td>-122.348258</td>\n",
       "      <td>471.843339</td>\n",
       "    </tr>\n",
       "    <tr>\n",
       "      <th>3</th>\n",
       "      <td>13129</td>\n",
       "      <td>47.620966</td>\n",
       "      <td>-122.345670</td>\n",
       "      <td>978.714937</td>\n",
       "    </tr>\n",
       "    <tr>\n",
       "      <th>4</th>\n",
       "      <td>13130</td>\n",
       "      <td>47.620826</td>\n",
       "      <td>-122.345645</td>\n",
       "      <td>986.632352</td>\n",
       "    </tr>\n",
       "    <tr>\n",
       "      <th>5</th>\n",
       "      <td>51493</td>\n",
       "      <td>47.619064</td>\n",
       "      <td>-122.349040</td>\n",
       "      <td>587.108025</td>\n",
       "    </tr>\n",
       "    <tr>\n",
       "      <th>6</th>\n",
       "      <td>51494</td>\n",
       "      <td>47.619145</td>\n",
       "      <td>-122.348791</td>\n",
       "      <td>542.478604</td>\n",
       "    </tr>\n",
       "    <tr>\n",
       "      <th>7</th>\n",
       "      <td>75173</td>\n",
       "      <td>47.620150</td>\n",
       "      <td>-122.347713</td>\n",
       "      <td>783.243667</td>\n",
       "    </tr>\n",
       "    <tr>\n",
       "      <th>8</th>\n",
       "      <td>33741</td>\n",
       "      <td>47.619808</td>\n",
       "      <td>-122.346958</td>\n",
       "      <td>796.521774</td>\n",
       "    </tr>\n",
       "    <tr>\n",
       "      <th>9</th>\n",
       "      <td>33742</td>\n",
       "      <td>47.619666</td>\n",
       "      <td>-122.346963</td>\n",
       "      <td>793.130111</td>\n",
       "    </tr>\n",
       "    <tr>\n",
       "      <th>10</th>\n",
       "      <td>28961</td>\n",
       "      <td>47.618009</td>\n",
       "      <td>-122.348573</td>\n",
       "      <td>978.340665</td>\n",
       "    </tr>\n",
       "    <tr>\n",
       "      <th>11</th>\n",
       "      <td>28962</td>\n",
       "      <td>47.618146</td>\n",
       "      <td>-122.348466</td>\n",
       "      <td>954.882271</td>\n",
       "    </tr>\n",
       "  </tbody>\n",
       "</table>\n",
       "</div>"
      ],
      "text/plain": [
       "    SourceElementKey        Lat         Lon    distance\n",
       "0              54986  47.617998 -122.349296  982.444003\n",
       "1              11133  47.619804 -122.348174  494.541097\n",
       "2              11134  47.619679 -122.348258  471.843339\n",
       "3              13129  47.620966 -122.345670  978.714937\n",
       "4              13130  47.620826 -122.345645  986.632352\n",
       "5              51493  47.619064 -122.349040  587.108025\n",
       "6              51494  47.619145 -122.348791  542.478604\n",
       "7              75173  47.620150 -122.347713  783.243667\n",
       "8              33741  47.619808 -122.346958  796.521774\n",
       "9              33742  47.619666 -122.346963  793.130111\n",
       "10             28961  47.618009 -122.348573  978.340665\n",
       "11             28962  47.618146 -122.348466  954.882271"
      ]
     },
     "execution_count": 147,
     "metadata": {},
     "output_type": "execute_result"
    },
    {
     "name": "stdout",
     "output_type": "stream",
     "text": [
      "time: 27.2 ms\n"
     ]
    }
   ],
   "source": [
    "distances['vertex'] = distances['vertex'].astype('int64')\n",
    "distances_host = (\n",
    "    distances\n",
    "    .rename({'vertex': 'NodeID'})\n",
    "    .merge(road_nodes[['NodeID', 'Lat', 'Lon', 'SourceElementKey']], on='NodeID')\n",
    "    [['SourceElementKey', 'Lat', 'Lon', 'distance']]\n",
    "    .to_pandas()\n",
    "#     .to_dict('records')\n",
    ")\n",
    "\n",
    "distances_host"
   ]
  },
  {
   "cell_type": "code",
   "execution_count": 148,
   "metadata": {},
   "outputs": [
    {
     "name": "stdout",
     "output_type": "stream",
     "text": [
      "time: 4.47 ms\n"
     ]
    }
   ],
   "source": [
    "info_box_template = \"\"\"\n",
    "<dl>\n",
    "<dt><dd>SourceElementKey</dd><dd>{SourceElementKey}</dd></dt>\n",
    "<dt><dd>Distance        </dd><dd>{distance:.0f} ft.</dd></dt>\n",
    "</dl>\n",
    "\"\"\"\n",
    "\n",
    "parking_info = [info_box_template.format(**parking) for parking in distances_host.to_dict('records')]"
   ]
  },
  {
   "cell_type": "markdown",
   "metadata": {},
   "source": [
    "And... plot!"
   ]
  },
  {
   "cell_type": "code",
   "execution_count": 150,
   "metadata": {},
   "outputs": [
    {
     "data": {
      "application/vnd.jupyter.widget-view+json": {
       "model_id": "7d37375d4e644c959bac09257fe03791",
       "version_major": 2,
       "version_minor": 0
      },
      "text/plain": [
       "Figure(layout=FigureLayout(height='500px'))"
      ]
     },
     "metadata": {},
     "output_type": "display_data"
    },
    {
     "name": "stdout",
     "output_type": "stream",
     "text": [
      "time: 95.6 ms\n"
     ]
    }
   ],
   "source": [
    "import gmaps\n",
    "# import gmaps.datasets\n",
    "gmaps.configure(api_key=\"---->>>> YOUR API KEY HERE <<<<----\") # Your Google API key, go to https://console.developers.google.com\n",
    "\n",
    "parking_layer = gmaps.symbol_layer(\n",
    "    distances_host[['Lat', 'Lon']], fill_color=\"green\", stroke_color=\"green\", scale=3, info_box_content=parking_info\n",
    ")\n",
    "\n",
    "destinations_layer = gmaps.symbol_layer(\n",
    "    [[location.latitude, location.longitude]]\n",
    "    , info_box_content=['DESTINATION']\n",
    "    , scale=5\n",
    "    , fill_color=\"red\"\n",
    "    , stroke_color=\"red\"\n",
    ")\n",
    "\n",
    "lines_layer = gmaps.drawing_layer(features=[\n",
    "    gmaps.Line(\n",
    "          start = (path['Lat_x'], path['Lon_x'])\n",
    "        , end   = (path['Lat_y'], path['Lon_y'])\n",
    "        , stroke_weight=2\n",
    "        , stroke_color=\"red\"\n",
    "    )\n",
    "    for path in paths_host.to_dict('records')]\n",
    ")\n",
    "\n",
    "fig = gmaps.figure(layout={'height': '500px'})\n",
    "fig.add_layer(parking_layer)\n",
    "fig.add_layer(destinations_layer)\n",
    "fig.add_layer(lines_layer)\n",
    "fig"
   ]
  },
  {
   "cell_type": "code",
   "execution_count": null,
   "metadata": {},
   "outputs": [],
   "source": []
  }
 ],
 "metadata": {
  "kernelspec": {
   "display_name": "Python 3",
   "language": "python",
   "name": "python3"
  },
  "language_info": {
   "codemirror_mode": {
    "name": "ipython",
    "version": 3
   },
   "file_extension": ".py",
   "mimetype": "text/x-python",
   "name": "python",
   "nbconvert_exporter": "python",
   "pygments_lexer": "ipython3",
   "version": "3.6.7"
  }
 },
 "nbformat": 4,
 "nbformat_minor": 4
}
